{
 "cells": [
  {
   "cell_type": "markdown",
   "id": "290c209c",
   "metadata": {},
   "source": [
    "# Question 1"
   ]
  },
  {
   "cell_type": "code",
   "execution_count": 16,
   "id": "dde312e7",
   "metadata": {},
   "outputs": [
    {
     "data": {
      "text/plain": [
       "6"
      ]
     },
     "execution_count": 16,
     "metadata": {},
     "output_type": "execute_result"
    }
   ],
   "source": [
    "a = 0\n",
    "def b():\n",
    " global a\n",
    " a = c(a)\n",
    "def c(a):\n",
    " return a + 2\n",
    "\n",
    "b()\n",
    "b()\n",
    "b()\n",
    "a\n"
   ]
  },
  {
   "cell_type": "code",
   "execution_count": null,
   "id": "53a35c8e",
   "metadata": {},
   "outputs": [],
   "source": [
    "We got the value for 'a' as 6. This is because we are executing the function b() three times. The initail value of a is 0.\n",
    "First we call the function b(). In the function it is defined as a = c(a). So it will go to the c(a). Inside c(a) function \n",
    "the actual execution takes place. \n",
    "value of a = 0, so it will return 0+2 = 2 which is the value of 'a'\n",
    "So in first function call of b() --> value of a = 2\n",
    "second function call of b() --> a = 2+2 = 4\n",
    "Thrid function call of b() --> a = 4+2 = 6\n",
    "i.e., a = 6\n",
    "\n"
   ]
  },
  {
   "cell_type": "markdown",
   "id": "7c5a81d7",
   "metadata": {},
   "source": [
    "# Question 2"
   ]
  },
  {
   "cell_type": "code",
   "execution_count": 2,
   "id": "9d99b030",
   "metadata": {},
   "outputs": [
    {
     "name": "stdout",
     "output_type": "stream",
     "text": [
      "The length of the file is : 52\n"
     ]
    }
   ],
   "source": [
    "def file_length(file_name):\n",
    "    file = open(file_name)\n",
    "    contents = file.read()\n",
    "    file.close()\n",
    "    print(\"The length of the file is :\", (len(contents)))\n",
    "file_length('C:/Users/Nevil/Desktop/Nevil BDAT/midterm.py')"
   ]
  },
  {
   "cell_type": "code",
   "execution_count": 3,
   "id": "7fc62539",
   "metadata": {},
   "outputs": [
    {
     "name": "stdout",
     "output_type": "stream",
     "text": [
      "The length of the file is : 93\n"
     ]
    }
   ],
   "source": [
    "def file_length(file_name):\n",
    "    file = open(file_name)\n",
    "    contents = file.read()\n",
    "    file.close()\n",
    "    print(\"The length of the file is :\", (len(contents)))\n",
    "file_length('C:/Users/Nevil/Desktop/Nevil BDAT/idterm.py')"
   ]
  },
  {
   "cell_type": "code",
   "execution_count": 4,
   "id": "01b0f548",
   "metadata": {},
   "outputs": [
    {
     "data": {
      "text/html": [
       "<div>\n",
       "<style scoped>\n",
       "    .dataframe tbody tr th:only-of-type {\n",
       "        vertical-align: middle;\n",
       "    }\n",
       "\n",
       "    .dataframe tbody tr th {\n",
       "        vertical-align: top;\n",
       "    }\n",
       "\n",
       "    .dataframe thead th {\n",
       "        text-align: right;\n",
       "    }\n",
       "</style>\n",
       "<table border=\"1\" class=\"dataframe\">\n",
       "  <thead>\n",
       "    <tr style=\"text-align: right;\">\n",
       "      <th></th>\n",
       "      <th>Name : Nevil Soy</th>\n",
       "    </tr>\n",
       "  </thead>\n",
       "  <tbody>\n",
       "    <tr>\n",
       "      <th>0</th>\n",
       "      <td>Program: Big Data Analytics</td>\n",
       "    </tr>\n",
       "    <tr>\n",
       "      <th>1</th>\n",
       "      <td>Student Id = 200503514</td>\n",
       "    </tr>\n",
       "    <tr>\n",
       "      <th>2</th>\n",
       "      <td>Course : Data Programming</td>\n",
       "    </tr>\n",
       "  </tbody>\n",
       "</table>\n",
       "</div>"
      ],
      "text/plain": [
       "              Name : Nevil Soy\n",
       "0  Program: Big Data Analytics\n",
       "1       Student Id = 200503514\n",
       "2    Course : Data Programming"
      ]
     },
     "execution_count": 4,
     "metadata": {},
     "output_type": "execute_result"
    }
   ],
   "source": [
    "# To see the contents inside idterm.py\n",
    "\n",
    "import pandas as p\n",
    "content = p.read_table('C:/Users/Nevil/Desktop/Nevil BDAT/idterm.py')\n",
    "content"
   ]
  },
  {
   "cell_type": "markdown",
   "id": "10c2bcda",
   "metadata": {},
   "source": [
    "# Question 5\n"
   ]
  },
  {
   "cell_type": "code",
   "execution_count": 5,
   "id": "2bba38da",
   "metadata": {
    "scrolled": true
   },
   "outputs": [],
   "source": [
    "def binary(n):\n",
    "    if n < 2:\n",
    "        return n\n",
    "    else:\n",
    "        return str(binary(n // 2)) + str(n % 2)\n"
   ]
  },
  {
   "cell_type": "code",
   "execution_count": 6,
   "id": "0d70f436",
   "metadata": {},
   "outputs": [
    {
     "data": {
      "text/plain": [
       "0"
      ]
     },
     "execution_count": 6,
     "metadata": {},
     "output_type": "execute_result"
    }
   ],
   "source": [
    "binary(0)"
   ]
  },
  {
   "cell_type": "code",
   "execution_count": 7,
   "id": "5e1faa1e",
   "metadata": {},
   "outputs": [
    {
     "data": {
      "text/plain": [
       "1"
      ]
     },
     "execution_count": 7,
     "metadata": {},
     "output_type": "execute_result"
    }
   ],
   "source": [
    "binary(1)"
   ]
  },
  {
   "cell_type": "code",
   "execution_count": 8,
   "id": "3e218372",
   "metadata": {},
   "outputs": [
    {
     "data": {
      "text/plain": [
       "'11'"
      ]
     },
     "execution_count": 8,
     "metadata": {},
     "output_type": "execute_result"
    }
   ],
   "source": [
    "binary(3)"
   ]
  },
  {
   "cell_type": "code",
   "execution_count": 9,
   "id": "3e42c475",
   "metadata": {},
   "outputs": [
    {
     "data": {
      "text/plain": [
       "'1001'"
      ]
     },
     "execution_count": 9,
     "metadata": {},
     "output_type": "execute_result"
    }
   ],
   "source": [
    "binary(9)"
   ]
  },
  {
   "cell_type": "markdown",
   "id": "db88551a",
   "metadata": {},
   "source": [
    "# Question 8"
   ]
  },
  {
   "cell_type": "code",
   "execution_count": 10,
   "id": "58482ce6",
   "metadata": {},
   "outputs": [
    {
     "data": {
      "text/html": [
       "<div>\n",
       "<style scoped>\n",
       "    .dataframe tbody tr th:only-of-type {\n",
       "        vertical-align: middle;\n",
       "    }\n",
       "\n",
       "    .dataframe tbody tr th {\n",
       "        vertical-align: top;\n",
       "    }\n",
       "\n",
       "    .dataframe thead th {\n",
       "        text-align: right;\n",
       "    }\n",
       "</style>\n",
       "<table border=\"1\" class=\"dataframe\">\n",
       "  <thead>\n",
       "    <tr style=\"text-align: right;\">\n",
       "      <th></th>\n",
       "      <th>City</th>\n",
       "      <th>Country</th>\n",
       "      <th>Season</th>\n",
       "      <th>Temperature</th>\n",
       "      <th>Rainfall(mm)</th>\n",
       "    </tr>\n",
       "  </thead>\n",
       "  <tbody>\n",
       "    <tr>\n",
       "      <th>0</th>\n",
       "      <td>Mumbai</td>\n",
       "      <td>India</td>\n",
       "      <td>Winter</td>\n",
       "      <td>24.8</td>\n",
       "      <td>5.9</td>\n",
       "    </tr>\n",
       "    <tr>\n",
       "      <th>1</th>\n",
       "      <td>Mumbai</td>\n",
       "      <td>India</td>\n",
       "      <td>Spring</td>\n",
       "      <td>28.4</td>\n",
       "      <td>16.2</td>\n",
       "    </tr>\n",
       "    <tr>\n",
       "      <th>2</th>\n",
       "      <td>Mumbai</td>\n",
       "      <td>India</td>\n",
       "      <td>Summer</td>\n",
       "      <td>27.9</td>\n",
       "      <td>1549.4</td>\n",
       "    </tr>\n",
       "    <tr>\n",
       "      <th>3</th>\n",
       "      <td>Mumbai</td>\n",
       "      <td>India</td>\n",
       "      <td>Fall</td>\n",
       "      <td>27.6</td>\n",
       "      <td>346.0</td>\n",
       "    </tr>\n",
       "    <tr>\n",
       "      <th>4</th>\n",
       "      <td>London</td>\n",
       "      <td>United Kingdom</td>\n",
       "      <td>Winter</td>\n",
       "      <td>4.2</td>\n",
       "      <td>207.7</td>\n",
       "    </tr>\n",
       "    <tr>\n",
       "      <th>5</th>\n",
       "      <td>London</td>\n",
       "      <td>United Kingdom</td>\n",
       "      <td>Spring</td>\n",
       "      <td>8.3</td>\n",
       "      <td>169.6</td>\n",
       "    </tr>\n",
       "    <tr>\n",
       "      <th>6</th>\n",
       "      <td>London</td>\n",
       "      <td>United Kingdom</td>\n",
       "      <td>Summer</td>\n",
       "      <td>15.7</td>\n",
       "      <td>157.0</td>\n",
       "    </tr>\n",
       "    <tr>\n",
       "      <th>7</th>\n",
       "      <td>London</td>\n",
       "      <td>United Kingdom</td>\n",
       "      <td>Fall</td>\n",
       "      <td>10.4</td>\n",
       "      <td>218.5</td>\n",
       "    </tr>\n",
       "    <tr>\n",
       "      <th>8</th>\n",
       "      <td>Cairo</td>\n",
       "      <td>Egypt</td>\n",
       "      <td>Winter</td>\n",
       "      <td>13.6</td>\n",
       "      <td>16.5</td>\n",
       "    </tr>\n",
       "    <tr>\n",
       "      <th>9</th>\n",
       "      <td>Cairo</td>\n",
       "      <td>Egypt</td>\n",
       "      <td>Spring</td>\n",
       "      <td>20.7</td>\n",
       "      <td>6.5</td>\n",
       "    </tr>\n",
       "    <tr>\n",
       "      <th>10</th>\n",
       "      <td>Cairo</td>\n",
       "      <td>Egypt</td>\n",
       "      <td>Summer</td>\n",
       "      <td>27.7</td>\n",
       "      <td>0.1</td>\n",
       "    </tr>\n",
       "    <tr>\n",
       "      <th>11</th>\n",
       "      <td>Cairo</td>\n",
       "      <td>Egypt</td>\n",
       "      <td>Fall</td>\n",
       "      <td>22.2</td>\n",
       "      <td>4.5</td>\n",
       "    </tr>\n",
       "  </tbody>\n",
       "</table>\n",
       "</div>"
      ],
      "text/plain": [
       "      City         Country  Season  Temperature  Rainfall(mm)\n",
       "0   Mumbai           India  Winter         24.8           5.9\n",
       "1   Mumbai           India  Spring         28.4          16.2\n",
       "2   Mumbai           India  Summer         27.9        1549.4\n",
       "3   Mumbai           India    Fall         27.6         346.0\n",
       "4   London  United Kingdom  Winter          4.2         207.7\n",
       "5   London  United Kingdom  Spring          8.3         169.6\n",
       "6   London  United Kingdom  Summer         15.7         157.0\n",
       "7   London  United Kingdom    Fall         10.4         218.5\n",
       "8    Cairo           Egypt  Winter         13.6          16.5\n",
       "9    Cairo           Egypt  Spring         20.7           6.5\n",
       "10   Cairo           Egypt  Summer         27.7           0.1\n",
       "11   Cairo           Egypt    Fall         22.2           4.5"
      ]
     },
     "execution_count": 10,
     "metadata": {},
     "output_type": "execute_result"
    }
   ],
   "source": [
    "import pandas as p\n",
    "content = p.read_csv('C:/Users/Nevil/Desktop/Nevil BDAT/Table.csv')\n",
    "content "
   ]
  },
  {
   "cell_type": "code",
   "execution_count": null,
   "id": "8b880c82",
   "metadata": {},
   "outputs": [],
   "source": [
    "a) Select temperature from tablename\n",
    "b) Select DISTINCT city from tablename\n",
    "c) Select * from tablename where Country = 'India'\n",
    "d) Select * from tablename where where season='Fall'\n",
    "e) Select city, country, season from tablename where Rainfall BETWEEN 200 and 400\n",
    "f) Select city,country from tablename where season='Fall' and temperature>=20 Order by temperature ASC;\n",
    "g) Select SUM(rainfall) from tablename where city='Cairo'\n",
    "h) SELECT season, SUM(rainfall) FROM tablename GROUP BY season\n"
   ]
  },
  {
   "cell_type": "markdown",
   "id": "56bc5e4a",
   "metadata": {},
   "source": [
    "# Question 9\n"
   ]
  },
  {
   "cell_type": "code",
   "execution_count": 11,
   "id": "85857ad7",
   "metadata": {},
   "outputs": [
    {
     "name": "stdout",
     "output_type": "stream",
     "text": [
      "['THE', 'QUICK', 'BROWN', 'FOX', 'JUMPS', 'OVER', 'THE', 'LAZY', 'DOG']\n",
      "['the', 'quick', 'brown', 'fox', 'jumps', 'over', 'the', 'lazy', 'dog']\n",
      "[3, 5, 5, 3, 5, 4, 3, 4, 3]\n",
      "['THE', 'the', 3, 'QUICK', 'quick', 5, 'BROWN', 'brown', 5, 'FOX', 'fox', 3, 'JUMPS', 'jumps', 5, 'OVER', 'over', 4, 'THE', 'the', 3, 'LAZY', 'lazy', 4, 'DOG', 'dog', 3]\n",
      "['quick', 'brown', 'jumps', 'over', 'lazy']\n"
     ]
    }
   ],
   "source": [
    "words = ['The', 'quick', 'brown', 'fox', 'jumps', 'over', \n",
    "'the', 'lazy', 'dog']\n",
    "\n",
    "\n",
    "list1 = [i.upper() for i in words] \n",
    "print(list1)\n",
    "list2 = [i.lower() for i in words]\n",
    "print(list2)\n",
    "number =[len(i) for i in words]\n",
    "print(number)\n",
    "\n",
    "  \n",
    "list3 = []\n",
    "for i in words:\n",
    "    list3.append(i.upper())\n",
    "    list3.append(i.lower())\n",
    "    list3.append(len(i))\n",
    "print(list3)\n",
    "result = [i for i in words if len(i) >=4]\n",
    "print(result)"
   ]
  },
  {
   "cell_type": "markdown",
   "id": "e5f6b75e",
   "metadata": {},
   "source": [
    "# Question 3"
   ]
  },
  {
   "cell_type": "code",
   "execution_count": 15,
   "id": "8151ad8c",
   "metadata": {},
   "outputs": [
    {
     "name": "stdout",
     "output_type": "stream",
     "text": [
      "['doll', 'firetruck', 'kitten']\n",
      "I am a Kangaroo located at coordinates ('3', '0')\n"
     ]
    }
   ],
   "source": [
    "class Marsupial:\n",
    "    def __init__(m, name1, name2, name3):\n",
    "        m.name1 = name1\n",
    "        m.name2 = name2\n",
    "        m.name3 = name3\n",
    "m = Marsupial(\"doll\",\"firetruck\", \"kitten\")\n",
    "print ([m.name1,m.name2,m.name3])\n",
    "\n",
    "class Kangaroo():\n",
    "    def __init__(k, cordinate1, cordinate2):\n",
    "        k.cordinate1 = cordinate1\n",
    "        k.cordinate2 = cordinate2\n",
    "        \n",
    "k = Kangaroo(\"3\",\"0\")\n",
    "print (\"I am a Kangaroo located at coordinates\", (k.cordinate1, k.cordinate2 ))\n",
    "                                "
   ]
  },
  {
   "cell_type": "markdown",
   "id": "a4248605",
   "metadata": {},
   "source": [
    "# Question 6"
   ]
  },
  {
   "cell_type": "code",
   "execution_count": 17,
   "id": "61c5580f",
   "metadata": {},
   "outputs": [
    {
     "name": "stdout",
     "output_type": "stream",
     "text": [
      "\n",
      "\n",
      "\n",
      "\n",
      "\n",
      "\n",
      "  \n",
      "\n",
      "  \n",
      "\n",
      "  \n",
      "Change_me\n",
      "\n",
      "  \n",
      "\n",
      "  \n",
      "\n",
      "  \n",
      "\n",
      "\n",
      "\n",
      "\n",
      "\n",
      "\n",
      "  \n",
      "\t\n",
      "h1\n",
      "W3C Mission\n",
      "h1\n",
      "\n",
      "\t\n",
      "h2\n",
      "Principles\n",
      "h2\n",
      "\n",
      " \n",
      "\n",
      "\n",
      "\n",
      "\n",
      "\n"
     ]
    }
   ],
   "source": [
    "from html.parser import HTMLParser\n",
    "\n",
    "class HeadingParser(HTMLParser):\n",
    "    headers = ['h1', 'h2','h3','h4','h5','h6']\n",
    "    def handle_starttag(self, tag, attrs):\n",
    "        if tag in self.headers:\n",
    "            print(tag)\n",
    "            \n",
    "    def handle_endtag(self, tag):\n",
    "        if tag in self.headers:\n",
    "            print(tag)\n",
    "            \n",
    "    def handle_data(self, data):\n",
    "        print(data)\n",
    "\n",
    "parser = HeadingParser()\n",
    "infile = open(r'C:\\Users\\Nevil\\Desktop\\Nevil BDAT\\w3c.html')\n",
    "content = infile.read()\n",
    "infile.close()\n",
    "hp = HeadingParser()\n",
    "hp.feed(content)"
   ]
  },
  {
   "cell_type": "markdown",
   "id": "e9791b4d",
   "metadata": {},
   "source": [
    "# Question 7\n"
   ]
  },
  {
   "cell_type": "code",
   "execution_count": 1,
   "id": "c2ba9df9",
   "metadata": {},
   "outputs": [
    {
     "name": "stdout",
     "output_type": "stream",
     "text": [
      "http://www.google.com///preferences?hl=en\n",
      "http://www.google.com///preferences?hl=en/webhp?tab=ww\n",
      "http://www.google.com///preferences?hl=en/webhp?tab=ww/webhp?tab=ww\n",
      "http://www.google.com///preferences?hl=en/webhp?tab=ww/webhp?tab=ww/webhp?tab=ww\n",
      "http://www.google.com///preferences?hl=en/webhp?tab=ww/webhp?tab=ww/webhp?tab=ww/webhp?tab=ww\n",
      "http://www.google.com///preferences?hl=en/webhp?tab=ww/webhp?tab=ww/webhp?tab=ww/webhp?tab=ww/webhp?tab=ww\n",
      "http://www.google.com///preferences?hl=en/webhp?tab=ww/webhp?tab=ww/webhp?tab=ww/webhp?tab=ww/webhp?tab=ww/webhp?tab=ww\n",
      "http://www.google.com///preferences?hl=en/webhp?tab=ww/webhp?tab=ww/webhp?tab=ww/webhp?tab=ww/webhp?tab=ww/webhp?tab=ww/webhp?tab=ww\n",
      "http://www.google.com///preferences?hl=en/webhp?tab=ww/webhp?tab=ww/webhp?tab=ww/webhp?tab=ww/webhp?tab=ww/webhp?tab=ww/webhp?tab=ww/webhp?tab=ww\n",
      "http://www.google.com///preferences?hl=en/webhp?tab=ww/webhp?tab=ww/webhp?tab=ww/webhp?tab=ww/webhp?tab=ww/webhp?tab=ww/webhp?tab=ww/webhp?tab=ww/webhp?tab=ww\n",
      "http://www.google.com///preferences?hl=en/webhp?tab=ww/webhp?tab=ww/webhp?tab=ww/webhp?tab=ww/webhp?tab=ww/webhp?tab=ww/webhp?tab=ww/webhp?tab=ww/webhp?tab=ww/webhp?tab=ww\n",
      "http://www.google.com///preferences?hl=en/webhp?tab=ww/webhp?tab=ww/webhp?tab=ww/webhp?tab=ww/webhp?tab=ww/webhp?tab=ww/webhp?tab=ww/webhp?tab=ww/webhp?tab=ww/webhp?tab=ww/webhp?tab=ww\n",
      "http://www.google.com///preferences?hl=en/webhp?tab=ww/webhp?tab=ww/webhp?tab=ww/webhp?tab=ww/webhp?tab=ww/webhp?tab=ww/webhp?tab=ww/webhp?tab=ww/webhp?tab=ww/webhp?tab=ww/webhp?tab=ww/webhp?tab=ww\n",
      "http://www.google.com///preferences?hl=en/webhp?tab=ww/webhp?tab=ww/webhp?tab=ww/webhp?tab=ww/webhp?tab=ww/webhp?tab=ww/webhp?tab=ww/webhp?tab=ww/webhp?tab=ww/webhp?tab=ww/webhp?tab=ww/webhp?tab=ww/webhp?tab=ww\n",
      "http://www.google.com///preferences?hl=en/webhp?tab=ww/webhp?tab=ww/webhp?tab=ww/webhp?tab=ww/webhp?tab=ww/webhp?tab=ww/webhp?tab=ww/webhp?tab=ww/webhp?tab=ww/webhp?tab=ww/webhp?tab=ww/webhp?tab=ww/webhp?tab=ww/webhp?tab=ww\n",
      "http://www.google.com///preferences?hl=en/webhp?tab=ww/webhp?tab=ww/webhp?tab=ww/webhp?tab=ww/webhp?tab=ww/webhp?tab=ww/webhp?tab=ww/webhp?tab=ww/webhp?tab=ww/webhp?tab=ww/webhp?tab=ww/webhp?tab=ww/webhp?tab=ww/webhp?tab=ww/webhp?tab=ww\n",
      "http://www.google.com///preferences?hl=en/webhp?tab=ww/webhp?tab=ww/webhp?tab=ww/webhp?tab=ww/webhp?tab=ww/webhp?tab=ww/webhp?tab=ww/webhp?tab=ww/webhp?tab=ww/webhp?tab=ww/webhp?tab=ww/webhp?tab=ww/webhp?tab=ww/webhp?tab=ww/webhp?tab=ww/webhp?tab=ww\n",
      "http://www.google.com///preferences?hl=en/webhp?tab=ww/webhp?tab=ww/webhp?tab=ww/webhp?tab=ww/webhp?tab=ww/webhp?tab=ww/webhp?tab=ww/webhp?tab=ww/webhp?tab=ww/webhp?tab=ww/webhp?tab=ww/webhp?tab=ww/webhp?tab=ww/webhp?tab=ww/webhp?tab=ww/webhp?tab=ww/webhp?tab=ww\n",
      "http://www.google.com///preferences?hl=en/webhp?tab=ww/webhp?tab=ww/webhp?tab=ww/webhp?tab=ww/webhp?tab=ww/webhp?tab=ww/webhp?tab=ww/webhp?tab=ww/webhp?tab=ww/webhp?tab=ww/webhp?tab=ww/webhp?tab=ww/webhp?tab=ww/webhp?tab=ww/webhp?tab=ww/webhp?tab=ww/webhp?tab=ww/webhp?tab=ww\n",
      "http://www.google.com///preferences?hl=en/webhp?tab=ww/webhp?tab=ww/webhp?tab=ww/webhp?tab=ww/webhp?tab=ww/webhp?tab=ww/webhp?tab=ww/webhp?tab=ww/webhp?tab=ww/webhp?tab=ww/webhp?tab=ww/webhp?tab=ww/webhp?tab=ww/webhp?tab=ww/webhp?tab=ww/webhp?tab=ww/webhp?tab=ww/webhp?tab=ww/webhp?tab=ww\n",
      "http://www.google.com///preferences?hl=en/webhp?tab=ww/webhp?tab=ww/webhp?tab=ww/webhp?tab=ww/webhp?tab=ww/webhp?tab=ww/webhp?tab=ww/webhp?tab=ww/webhp?tab=ww/webhp?tab=ww/webhp?tab=ww/webhp?tab=ww/webhp?tab=ww/webhp?tab=ww/webhp?tab=ww/webhp?tab=ww/webhp?tab=ww/webhp?tab=ww/webhp?tab=ww/webhp?tab=ww\n",
      "http://www.google.com///preferences?hl=en/webhp?tab=ww/webhp?tab=ww/webhp?tab=ww/webhp?tab=ww/webhp?tab=ww/webhp?tab=ww/webhp?tab=ww/webhp?tab=ww/webhp?tab=ww/webhp?tab=ww/webhp?tab=ww/webhp?tab=ww/webhp?tab=ww/webhp?tab=ww/webhp?tab=ww/webhp?tab=ww/webhp?tab=ww/webhp?tab=ww/webhp?tab=ww/webhp?tab=ww/webhp?tab=ww\n",
      "http://www.google.com///preferences?hl=en/webhp?tab=ww/webhp?tab=ww/webhp?tab=ww/webhp?tab=ww/webhp?tab=ww/webhp?tab=ww/webhp?tab=ww/webhp?tab=ww/webhp?tab=ww/webhp?tab=ww/webhp?tab=ww/webhp?tab=ww/webhp?tab=ww/webhp?tab=ww/webhp?tab=ww/webhp?tab=ww/webhp?tab=ww/webhp?tab=ww/webhp?tab=ww/webhp?tab=ww/webhp?tab=ww/webhp?tab=ww\n",
      "http://www.google.com///preferences?hl=en/webhp?tab=ww/webhp?tab=ww/webhp?tab=ww/webhp?tab=ww/webhp?tab=ww/webhp?tab=ww/webhp?tab=ww/webhp?tab=ww/webhp?tab=ww/webhp?tab=ww/webhp?tab=ww/webhp?tab=ww/webhp?tab=ww/webhp?tab=ww/webhp?tab=ww/webhp?tab=ww/webhp?tab=ww/webhp?tab=ww/webhp?tab=ww/webhp?tab=ww/webhp?tab=ww/webhp?tab=ww/webhp?tab=ww\n",
      "http://www.google.com///preferences?hl=en/webhp?tab=ww/webhp?tab=ww/webhp?tab=ww/webhp?tab=ww/webhp?tab=ww/webhp?tab=ww/webhp?tab=ww/webhp?tab=ww/webhp?tab=ww/webhp?tab=ww/webhp?tab=ww/webhp?tab=ww/webhp?tab=ww/webhp?tab=ww/webhp?tab=ww/webhp?tab=ww/webhp?tab=ww/webhp?tab=ww/webhp?tab=ww/webhp?tab=ww/webhp?tab=ww/webhp?tab=ww/webhp?tab=ww/webhp?tab=ww\n",
      "http://www.google.com///preferences?hl=en/webhp?tab=ww/webhp?tab=ww/webhp?tab=ww/webhp?tab=ww/webhp?tab=ww/webhp?tab=ww/webhp?tab=ww/webhp?tab=ww/webhp?tab=ww/webhp?tab=ww/webhp?tab=ww/webhp?tab=ww/webhp?tab=ww/webhp?tab=ww/webhp?tab=ww/webhp?tab=ww/webhp?tab=ww/webhp?tab=ww/webhp?tab=ww/webhp?tab=ww/webhp?tab=ww/webhp?tab=ww/webhp?tab=ww/webhp?tab=ww/webhp?tab=ww\n",
      "http://www.google.com///preferences?hl=en/webhp?tab=ww/webhp?tab=ww/webhp?tab=ww/webhp?tab=ww/webhp?tab=ww/webhp?tab=ww/webhp?tab=ww/webhp?tab=ww/webhp?tab=ww/webhp?tab=ww/webhp?tab=ww/webhp?tab=ww/webhp?tab=ww/webhp?tab=ww/webhp?tab=ww/webhp?tab=ww/webhp?tab=ww/webhp?tab=ww/webhp?tab=ww/webhp?tab=ww/webhp?tab=ww/webhp?tab=ww/webhp?tab=ww/webhp?tab=ww/webhp?tab=ww/webhp?tab=ww\n",
      "http://www.google.com///preferences?hl=en/webhp?tab=ww/webhp?tab=ww/webhp?tab=ww/webhp?tab=ww/webhp?tab=ww/webhp?tab=ww/webhp?tab=ww/webhp?tab=ww/webhp?tab=ww/webhp?tab=ww/webhp?tab=ww/webhp?tab=ww/webhp?tab=ww/webhp?tab=ww/webhp?tab=ww/webhp?tab=ww/webhp?tab=ww/webhp?tab=ww/webhp?tab=ww/webhp?tab=ww/webhp?tab=ww/webhp?tab=ww/webhp?tab=ww/webhp?tab=ww/webhp?tab=ww/webhp?tab=ww/webhp?tab=ww\n",
      "http://www.google.com///preferences?hl=en/webhp?tab=ww/webhp?tab=ww/webhp?tab=ww/webhp?tab=ww/webhp?tab=ww/webhp?tab=ww/webhp?tab=ww/webhp?tab=ww/webhp?tab=ww/webhp?tab=ww/webhp?tab=ww/webhp?tab=ww/webhp?tab=ww/webhp?tab=ww/webhp?tab=ww/webhp?tab=ww/webhp?tab=ww/webhp?tab=ww/webhp?tab=ww/webhp?tab=ww/webhp?tab=ww/webhp?tab=ww/webhp?tab=ww/webhp?tab=ww/webhp?tab=ww/webhp?tab=ww/webhp?tab=ww/webhp?tab=ww\n",
      "http://www.google.com///preferences?hl=en/webhp?tab=ww/webhp?tab=ww/webhp?tab=ww/webhp?tab=ww/webhp?tab=ww/webhp?tab=ww/webhp?tab=ww/webhp?tab=ww/webhp?tab=ww/webhp?tab=ww/webhp?tab=ww/webhp?tab=ww/webhp?tab=ww/webhp?tab=ww/webhp?tab=ww/webhp?tab=ww/webhp?tab=ww/webhp?tab=ww/webhp?tab=ww/webhp?tab=ww/webhp?tab=ww/webhp?tab=ww/webhp?tab=ww/webhp?tab=ww/webhp?tab=ww/webhp?tab=ww/webhp?tab=ww/webhp?tab=ww/webhp?tab=ww\n",
      "http://www.google.com///preferences?hl=en/webhp?tab=ww/webhp?tab=ww/webhp?tab=ww/webhp?tab=ww/webhp?tab=ww/webhp?tab=ww/webhp?tab=ww/webhp?tab=ww/webhp?tab=ww/webhp?tab=ww/webhp?tab=ww/webhp?tab=ww/webhp?tab=ww/webhp?tab=ww/webhp?tab=ww/webhp?tab=ww/webhp?tab=ww/webhp?tab=ww/webhp?tab=ww/webhp?tab=ww/webhp?tab=ww/webhp?tab=ww/webhp?tab=ww/webhp?tab=ww/webhp?tab=ww/webhp?tab=ww/webhp?tab=ww/webhp?tab=ww/webhp?tab=ww/webhp?tab=ww\n",
      "http://www.google.com///preferences?hl=en/webhp?tab=ww/webhp?tab=ww/webhp?tab=ww/webhp?tab=ww/webhp?tab=ww/webhp?tab=ww/webhp?tab=ww/webhp?tab=ww/webhp?tab=ww/webhp?tab=ww/webhp?tab=ww/webhp?tab=ww/webhp?tab=ww/webhp?tab=ww/webhp?tab=ww/webhp?tab=ww/webhp?tab=ww/webhp?tab=ww/webhp?tab=ww/webhp?tab=ww/webhp?tab=ww/webhp?tab=ww/webhp?tab=ww/webhp?tab=ww/webhp?tab=ww/webhp?tab=ww/webhp?tab=ww/webhp?tab=ww/webhp?tab=ww/webhp?tab=ww/webhp?tab=ww\n",
      "http://www.google.com///preferences?hl=en/webhp?tab=ww/webhp?tab=ww/webhp?tab=ww/webhp?tab=ww/webhp?tab=ww/webhp?tab=ww/webhp?tab=ww/webhp?tab=ww/webhp?tab=ww/webhp?tab=ww/webhp?tab=ww/webhp?tab=ww/webhp?tab=ww/webhp?tab=ww/webhp?tab=ww/webhp?tab=ww/webhp?tab=ww/webhp?tab=ww/webhp?tab=ww/webhp?tab=ww/webhp?tab=ww/webhp?tab=ww/webhp?tab=ww/webhp?tab=ww/webhp?tab=ww/webhp?tab=ww/webhp?tab=ww/webhp?tab=ww/webhp?tab=ww/webhp?tab=ww/webhp?tab=ww/webhp?tab=ww\n",
      "http://www.google.com///preferences?hl=en/webhp?tab=ww/webhp?tab=ww/webhp?tab=ww/webhp?tab=ww/webhp?tab=ww/webhp?tab=ww/webhp?tab=ww/webhp?tab=ww/webhp?tab=ww/webhp?tab=ww/webhp?tab=ww/webhp?tab=ww/webhp?tab=ww/webhp?tab=ww/webhp?tab=ww/webhp?tab=ww/webhp?tab=ww/webhp?tab=ww/webhp?tab=ww/webhp?tab=ww/webhp?tab=ww/webhp?tab=ww/webhp?tab=ww/webhp?tab=ww/webhp?tab=ww/webhp?tab=ww/webhp?tab=ww/webhp?tab=ww/webhp?tab=ww/webhp?tab=ww/webhp?tab=ww/webhp?tab=ww/webhp?tab=ww\n",
      "http://www.google.com///preferences?hl=en/webhp?tab=ww/webhp?tab=ww/webhp?tab=ww/webhp?tab=ww/webhp?tab=ww/webhp?tab=ww/webhp?tab=ww/webhp?tab=ww/webhp?tab=ww/webhp?tab=ww/webhp?tab=ww/webhp?tab=ww/webhp?tab=ww/webhp?tab=ww/webhp?tab=ww/webhp?tab=ww/webhp?tab=ww/webhp?tab=ww/webhp?tab=ww/webhp?tab=ww/webhp?tab=ww/webhp?tab=ww/webhp?tab=ww/webhp?tab=ww/webhp?tab=ww/webhp?tab=ww/webhp?tab=ww/webhp?tab=ww/webhp?tab=ww/webhp?tab=ww/webhp?tab=ww/webhp?tab=ww/webhp?tab=ww/webhp?tab=ww\n",
      "http://www.google.com///preferences?hl=en/webhp?tab=ww/webhp?tab=ww/webhp?tab=ww/webhp?tab=ww/webhp?tab=ww/webhp?tab=ww/webhp?tab=ww/webhp?tab=ww/webhp?tab=ww/webhp?tab=ww/webhp?tab=ww/webhp?tab=ww/webhp?tab=ww/webhp?tab=ww/webhp?tab=ww/webhp?tab=ww/webhp?tab=ww/webhp?tab=ww/webhp?tab=ww/webhp?tab=ww/webhp?tab=ww/webhp?tab=ww/webhp?tab=ww/webhp?tab=ww/webhp?tab=ww/webhp?tab=ww/webhp?tab=ww/webhp?tab=ww/webhp?tab=ww/webhp?tab=ww/webhp?tab=ww/webhp?tab=ww/webhp?tab=ww/webhp?tab=ww/webhp?tab=ww\n",
      "http://www.google.com///preferences?hl=en/webhp?tab=ww/webhp?tab=ww/webhp?tab=ww/webhp?tab=ww/webhp?tab=ww/webhp?tab=ww/webhp?tab=ww/webhp?tab=ww/webhp?tab=ww/webhp?tab=ww/webhp?tab=ww/webhp?tab=ww/webhp?tab=ww/webhp?tab=ww/webhp?tab=ww/webhp?tab=ww/webhp?tab=ww/webhp?tab=ww/webhp?tab=ww/webhp?tab=ww/webhp?tab=ww/webhp?tab=ww/webhp?tab=ww/webhp?tab=ww/webhp?tab=ww/webhp?tab=ww/webhp?tab=ww/webhp?tab=ww/webhp?tab=ww/webhp?tab=ww/webhp?tab=ww/webhp?tab=ww/webhp?tab=ww/webhp?tab=ww/webhp?tab=ww/webhp?tab=ww\n",
      "http://www.google.com///preferences?hl=en/webhp?tab=ww/webhp?tab=ww/webhp?tab=ww/webhp?tab=ww/webhp?tab=ww/webhp?tab=ww/webhp?tab=ww/webhp?tab=ww/webhp?tab=ww/webhp?tab=ww/webhp?tab=ww/webhp?tab=ww/webhp?tab=ww/webhp?tab=ww/webhp?tab=ww/webhp?tab=ww/webhp?tab=ww/webhp?tab=ww/webhp?tab=ww/webhp?tab=ww/webhp?tab=ww/webhp?tab=ww/webhp?tab=ww/webhp?tab=ww/webhp?tab=ww/webhp?tab=ww/webhp?tab=ww/webhp?tab=ww/webhp?tab=ww/webhp?tab=ww/webhp?tab=ww/webhp?tab=ww/webhp?tab=ww/webhp?tab=ww/webhp?tab=ww/webhp?tab=ww/webhp?tab=ww\n",
      "http://www.google.com///preferences?hl=en/webhp?tab=ww/webhp?tab=ww/webhp?tab=ww/webhp?tab=ww/webhp?tab=ww/webhp?tab=ww/webhp?tab=ww/webhp?tab=ww/webhp?tab=ww/webhp?tab=ww/webhp?tab=ww/webhp?tab=ww/webhp?tab=ww/webhp?tab=ww/webhp?tab=ww/webhp?tab=ww/webhp?tab=ww/webhp?tab=ww/webhp?tab=ww/webhp?tab=ww/webhp?tab=ww/webhp?tab=ww/webhp?tab=ww/webhp?tab=ww/webhp?tab=ww/webhp?tab=ww/webhp?tab=ww/webhp?tab=ww/webhp?tab=ww/webhp?tab=ww/webhp?tab=ww/webhp?tab=ww/webhp?tab=ww/webhp?tab=ww/webhp?tab=ww/webhp?tab=ww/webhp?tab=ww/webhp?tab=ww\n",
      "http://www.google.com///preferences?hl=en/webhp?tab=ww/webhp?tab=ww/webhp?tab=ww/webhp?tab=ww/webhp?tab=ww/webhp?tab=ww/webhp?tab=ww/webhp?tab=ww/webhp?tab=ww/webhp?tab=ww/webhp?tab=ww/webhp?tab=ww/webhp?tab=ww/webhp?tab=ww/webhp?tab=ww/webhp?tab=ww/webhp?tab=ww/webhp?tab=ww/webhp?tab=ww/webhp?tab=ww/webhp?tab=ww/webhp?tab=ww/webhp?tab=ww/webhp?tab=ww/webhp?tab=ww/webhp?tab=ww/webhp?tab=ww/webhp?tab=ww/webhp?tab=ww/webhp?tab=ww/webhp?tab=ww/webhp?tab=ww/webhp?tab=ww/webhp?tab=ww/webhp?tab=ww/webhp?tab=ww/webhp?tab=ww/webhp?tab=ww/webhp?tab=ww\n",
      "http://www.google.com///preferences?hl=en/webhp?tab=ww/webhp?tab=ww/webhp?tab=ww/webhp?tab=ww/webhp?tab=ww/webhp?tab=ww/webhp?tab=ww/webhp?tab=ww/webhp?tab=ww/webhp?tab=ww/webhp?tab=ww/webhp?tab=ww/webhp?tab=ww/webhp?tab=ww/webhp?tab=ww/webhp?tab=ww/webhp?tab=ww/webhp?tab=ww/webhp?tab=ww/webhp?tab=ww/webhp?tab=ww/webhp?tab=ww/webhp?tab=ww/webhp?tab=ww/webhp?tab=ww/webhp?tab=ww/webhp?tab=ww/webhp?tab=ww/webhp?tab=ww/webhp?tab=ww/webhp?tab=ww/webhp?tab=ww/webhp?tab=ww/webhp?tab=ww/webhp?tab=ww/webhp?tab=ww/webhp?tab=ww/webhp?tab=ww/webhp?tab=ww/webhp?tab=ww\n",
      "http://www.google.com///preferences?hl=en/webhp?tab=ww/webhp?tab=ww/webhp?tab=ww/webhp?tab=ww/webhp?tab=ww/webhp?tab=ww/webhp?tab=ww/webhp?tab=ww/webhp?tab=ww/webhp?tab=ww/webhp?tab=ww/webhp?tab=ww/webhp?tab=ww/webhp?tab=ww/webhp?tab=ww/webhp?tab=ww/webhp?tab=ww/webhp?tab=ww/webhp?tab=ww/webhp?tab=ww/webhp?tab=ww/webhp?tab=ww/webhp?tab=ww/webhp?tab=ww/webhp?tab=ww/webhp?tab=ww/webhp?tab=ww/webhp?tab=ww/webhp?tab=ww/webhp?tab=ww/webhp?tab=ww/webhp?tab=ww/webhp?tab=ww/webhp?tab=ww/webhp?tab=ww/webhp?tab=ww/webhp?tab=ww/webhp?tab=ww/webhp?tab=ww/webhp?tab=ww/webhp?tab=ww\n",
      "http://www.google.com///preferences?hl=en/webhp?tab=ww/webhp?tab=ww/webhp?tab=ww/webhp?tab=ww/webhp?tab=ww/webhp?tab=ww/webhp?tab=ww/webhp?tab=ww/webhp?tab=ww/webhp?tab=ww/webhp?tab=ww/webhp?tab=ww/webhp?tab=ww/webhp?tab=ww/webhp?tab=ww/webhp?tab=ww/webhp?tab=ww/webhp?tab=ww/webhp?tab=ww/webhp?tab=ww/webhp?tab=ww/webhp?tab=ww/webhp?tab=ww/webhp?tab=ww/webhp?tab=ww/webhp?tab=ww/webhp?tab=ww/webhp?tab=ww/webhp?tab=ww/webhp?tab=ww/webhp?tab=ww/webhp?tab=ww/webhp?tab=ww/webhp?tab=ww/webhp?tab=ww/webhp?tab=ww/webhp?tab=ww/webhp?tab=ww/webhp?tab=ww/webhp?tab=ww/webhp?tab=ww/webhp?tab=ww\n",
      "http://www.google.com///preferences?hl=en/webhp?tab=ww/webhp?tab=ww/webhp?tab=ww/webhp?tab=ww/webhp?tab=ww/webhp?tab=ww/webhp?tab=ww/webhp?tab=ww/webhp?tab=ww/webhp?tab=ww/webhp?tab=ww/webhp?tab=ww/webhp?tab=ww/webhp?tab=ww/webhp?tab=ww/webhp?tab=ww/webhp?tab=ww/webhp?tab=ww/webhp?tab=ww/webhp?tab=ww/webhp?tab=ww/webhp?tab=ww/webhp?tab=ww/webhp?tab=ww/webhp?tab=ww/webhp?tab=ww/webhp?tab=ww/webhp?tab=ww/webhp?tab=ww/webhp?tab=ww/webhp?tab=ww/webhp?tab=ww/webhp?tab=ww/webhp?tab=ww/webhp?tab=ww/webhp?tab=ww/webhp?tab=ww/webhp?tab=ww/webhp?tab=ww/webhp?tab=ww/webhp?tab=ww/webhp?tab=ww/webhp?tab=ww\n",
      "http://www.google.com///preferences?hl=en/webhp?tab=ww/webhp?tab=ww/webhp?tab=ww/webhp?tab=ww/webhp?tab=ww/webhp?tab=ww/webhp?tab=ww/webhp?tab=ww/webhp?tab=ww/webhp?tab=ww/webhp?tab=ww/webhp?tab=ww/webhp?tab=ww/webhp?tab=ww/webhp?tab=ww/webhp?tab=ww/webhp?tab=ww/webhp?tab=ww/webhp?tab=ww/webhp?tab=ww/webhp?tab=ww/webhp?tab=ww/webhp?tab=ww/webhp?tab=ww/webhp?tab=ww/webhp?tab=ww/webhp?tab=ww/webhp?tab=ww/webhp?tab=ww/webhp?tab=ww/webhp?tab=ww/webhp?tab=ww/webhp?tab=ww/webhp?tab=ww/webhp?tab=ww/webhp?tab=ww/webhp?tab=ww/webhp?tab=ww/webhp?tab=ww/webhp?tab=ww/webhp?tab=ww/webhp?tab=ww/webhp?tab=ww/webhp?tab=ww\n",
      "http://www.google.com///preferences?hl=en/webhp?tab=ww/webhp?tab=ww/webhp?tab=ww/webhp?tab=ww/webhp?tab=ww/webhp?tab=ww/webhp?tab=ww/webhp?tab=ww/webhp?tab=ww/webhp?tab=ww/webhp?tab=ww/webhp?tab=ww/webhp?tab=ww/webhp?tab=ww/webhp?tab=ww/webhp?tab=ww/webhp?tab=ww/webhp?tab=ww/webhp?tab=ww/webhp?tab=ww/webhp?tab=ww/webhp?tab=ww/webhp?tab=ww/webhp?tab=ww/webhp?tab=ww/webhp?tab=ww/webhp?tab=ww/webhp?tab=ww/webhp?tab=ww/webhp?tab=ww/webhp?tab=ww/webhp?tab=ww/webhp?tab=ww/webhp?tab=ww/webhp?tab=ww/webhp?tab=ww/webhp?tab=ww/webhp?tab=ww/webhp?tab=ww/webhp?tab=ww/webhp?tab=ww/webhp?tab=ww/webhp?tab=ww/webhp?tab=ww/webhp?tab=ww\n",
      "http://www.google.com///preferences?hl=en/webhp?tab=ww/webhp?tab=ww/webhp?tab=ww/webhp?tab=ww/webhp?tab=ww/webhp?tab=ww/webhp?tab=ww/webhp?tab=ww/webhp?tab=ww/webhp?tab=ww/webhp?tab=ww/webhp?tab=ww/webhp?tab=ww/webhp?tab=ww/webhp?tab=ww/webhp?tab=ww/webhp?tab=ww/webhp?tab=ww/webhp?tab=ww/webhp?tab=ww/webhp?tab=ww/webhp?tab=ww/webhp?tab=ww/webhp?tab=ww/webhp?tab=ww/webhp?tab=ww/webhp?tab=ww/webhp?tab=ww/webhp?tab=ww/webhp?tab=ww/webhp?tab=ww/webhp?tab=ww/webhp?tab=ww/webhp?tab=ww/webhp?tab=ww/webhp?tab=ww/webhp?tab=ww/webhp?tab=ww/webhp?tab=ww/webhp?tab=ww/webhp?tab=ww/webhp?tab=ww/webhp?tab=ww/webhp?tab=ww/webhp?tab=ww/webhp?tab=ww\n",
      "http://www.google.com///preferences?hl=en/webhp?tab=ww/webhp?tab=ww/webhp?tab=ww/webhp?tab=ww/webhp?tab=ww/webhp?tab=ww/webhp?tab=ww/webhp?tab=ww/webhp?tab=ww/webhp?tab=ww/webhp?tab=ww/webhp?tab=ww/webhp?tab=ww/webhp?tab=ww/webhp?tab=ww/webhp?tab=ww/webhp?tab=ww/webhp?tab=ww/webhp?tab=ww/webhp?tab=ww/webhp?tab=ww/webhp?tab=ww/webhp?tab=ww/webhp?tab=ww/webhp?tab=ww/webhp?tab=ww/webhp?tab=ww/webhp?tab=ww/webhp?tab=ww/webhp?tab=ww/webhp?tab=ww/webhp?tab=ww/webhp?tab=ww/webhp?tab=ww/webhp?tab=ww/webhp?tab=ww/webhp?tab=ww/webhp?tab=ww/webhp?tab=ww/webhp?tab=ww/webhp?tab=ww/webhp?tab=ww/webhp?tab=ww/webhp?tab=ww/webhp?tab=ww/webhp?tab=ww/webhp?tab=ww\n",
      "http://www.google.com///preferences?hl=en/webhp?tab=ww/webhp?tab=ww/webhp?tab=ww/webhp?tab=ww/webhp?tab=ww/webhp?tab=ww/webhp?tab=ww/webhp?tab=ww/webhp?tab=ww/webhp?tab=ww/webhp?tab=ww/webhp?tab=ww/webhp?tab=ww/webhp?tab=ww/webhp?tab=ww/webhp?tab=ww/webhp?tab=ww/webhp?tab=ww/webhp?tab=ww/webhp?tab=ww/webhp?tab=ww/webhp?tab=ww/webhp?tab=ww/webhp?tab=ww/webhp?tab=ww/webhp?tab=ww/webhp?tab=ww/webhp?tab=ww/webhp?tab=ww/webhp?tab=ww/webhp?tab=ww/webhp?tab=ww/webhp?tab=ww/webhp?tab=ww/webhp?tab=ww/webhp?tab=ww/webhp?tab=ww/webhp?tab=ww/webhp?tab=ww/webhp?tab=ww/webhp?tab=ww/webhp?tab=ww/webhp?tab=ww/webhp?tab=ww/webhp?tab=ww/webhp?tab=ww/webhp?tab=ww/webhp?tab=ww\n",
      "http://www.google.com///preferences?hl=en/webhp?tab=ww/webhp?tab=ww/webhp?tab=ww/webhp?tab=ww/webhp?tab=ww/webhp?tab=ww/webhp?tab=ww/webhp?tab=ww/webhp?tab=ww/webhp?tab=ww/webhp?tab=ww/webhp?tab=ww/webhp?tab=ww/webhp?tab=ww/webhp?tab=ww/webhp?tab=ww/webhp?tab=ww/webhp?tab=ww/webhp?tab=ww/webhp?tab=ww/webhp?tab=ww/webhp?tab=ww/webhp?tab=ww/webhp?tab=ww/webhp?tab=ww/webhp?tab=ww/webhp?tab=ww/webhp?tab=ww/webhp?tab=ww/webhp?tab=ww/webhp?tab=ww/webhp?tab=ww/webhp?tab=ww/webhp?tab=ww/webhp?tab=ww/webhp?tab=ww/webhp?tab=ww/webhp?tab=ww/webhp?tab=ww/webhp?tab=ww/webhp?tab=ww/webhp?tab=ww/webhp?tab=ww/webhp?tab=ww/webhp?tab=ww/webhp?tab=ww/webhp?tab=ww/webhp?tab=ww/webhp?tab=ww\n",
      "http://www.google.com///preferences?hl=en/webhp?tab=ww/webhp?tab=ww/webhp?tab=ww/webhp?tab=ww/webhp?tab=ww/webhp?tab=ww/webhp?tab=ww/webhp?tab=ww/webhp?tab=ww/webhp?tab=ww/webhp?tab=ww/webhp?tab=ww/webhp?tab=ww/webhp?tab=ww/webhp?tab=ww/webhp?tab=ww/webhp?tab=ww/webhp?tab=ww/webhp?tab=ww/webhp?tab=ww/webhp?tab=ww/webhp?tab=ww/webhp?tab=ww/webhp?tab=ww/webhp?tab=ww/webhp?tab=ww/webhp?tab=ww/webhp?tab=ww/webhp?tab=ww/webhp?tab=ww/webhp?tab=ww/webhp?tab=ww/webhp?tab=ww/webhp?tab=ww/webhp?tab=ww/webhp?tab=ww/webhp?tab=ww/webhp?tab=ww/webhp?tab=ww/webhp?tab=ww/webhp?tab=ww/webhp?tab=ww/webhp?tab=ww/webhp?tab=ww/webhp?tab=ww/webhp?tab=ww/webhp?tab=ww/webhp?tab=ww/webhp?tab=ww/webhp?tab=ww\n",
      "http://www.google.com///preferences?hl=en/webhp?tab=ww/webhp?tab=ww/webhp?tab=ww/webhp?tab=ww/webhp?tab=ww/webhp?tab=ww/webhp?tab=ww/webhp?tab=ww/webhp?tab=ww/webhp?tab=ww/webhp?tab=ww/webhp?tab=ww/webhp?tab=ww/webhp?tab=ww/webhp?tab=ww/webhp?tab=ww/webhp?tab=ww/webhp?tab=ww/webhp?tab=ww/webhp?tab=ww/webhp?tab=ww/webhp?tab=ww/webhp?tab=ww/webhp?tab=ww/webhp?tab=ww/webhp?tab=ww/webhp?tab=ww/webhp?tab=ww/webhp?tab=ww/webhp?tab=ww/webhp?tab=ww/webhp?tab=ww/webhp?tab=ww/webhp?tab=ww/webhp?tab=ww/webhp?tab=ww/webhp?tab=ww/webhp?tab=ww/webhp?tab=ww/webhp?tab=ww/webhp?tab=ww/webhp?tab=ww/webhp?tab=ww/webhp?tab=ww/webhp?tab=ww/webhp?tab=ww/webhp?tab=ww/webhp?tab=ww/webhp?tab=ww/webhp?tab=ww/webhp?tab=ww\n",
      "http://www.google.com///preferences?hl=en/webhp?tab=ww/webhp?tab=ww/webhp?tab=ww/webhp?tab=ww/webhp?tab=ww/webhp?tab=ww/webhp?tab=ww/webhp?tab=ww/webhp?tab=ww/webhp?tab=ww/webhp?tab=ww/webhp?tab=ww/webhp?tab=ww/webhp?tab=ww/webhp?tab=ww/webhp?tab=ww/webhp?tab=ww/webhp?tab=ww/webhp?tab=ww/webhp?tab=ww/webhp?tab=ww/webhp?tab=ww/webhp?tab=ww/webhp?tab=ww/webhp?tab=ww/webhp?tab=ww/webhp?tab=ww/webhp?tab=ww/webhp?tab=ww/webhp?tab=ww/webhp?tab=ww/webhp?tab=ww/webhp?tab=ww/webhp?tab=ww/webhp?tab=ww/webhp?tab=ww/webhp?tab=ww/webhp?tab=ww/webhp?tab=ww/webhp?tab=ww/webhp?tab=ww/webhp?tab=ww/webhp?tab=ww/webhp?tab=ww/webhp?tab=ww/webhp?tab=ww/webhp?tab=ww/webhp?tab=ww/webhp?tab=ww/webhp?tab=ww/webhp?tab=ww/webhp?tab=ww\n",
      "http://www.google.com///preferences?hl=en/webhp?tab=ww/webhp?tab=ww/webhp?tab=ww/webhp?tab=ww/webhp?tab=ww/webhp?tab=ww/webhp?tab=ww/webhp?tab=ww/webhp?tab=ww/webhp?tab=ww/webhp?tab=ww/webhp?tab=ww/webhp?tab=ww/webhp?tab=ww/webhp?tab=ww/webhp?tab=ww/webhp?tab=ww/webhp?tab=ww/webhp?tab=ww/webhp?tab=ww/webhp?tab=ww/webhp?tab=ww/webhp?tab=ww/webhp?tab=ww/webhp?tab=ww/webhp?tab=ww/webhp?tab=ww/webhp?tab=ww/webhp?tab=ww/webhp?tab=ww/webhp?tab=ww/webhp?tab=ww/webhp?tab=ww/webhp?tab=ww/webhp?tab=ww/webhp?tab=ww/webhp?tab=ww/webhp?tab=ww/webhp?tab=ww/webhp?tab=ww/webhp?tab=ww/webhp?tab=ww/webhp?tab=ww/webhp?tab=ww/webhp?tab=ww/webhp?tab=ww/webhp?tab=ww/webhp?tab=ww/webhp?tab=ww/webhp?tab=ww/webhp?tab=ww/webhp?tab=ww/webhp?tab=ww\n",
      "http://www.google.com///preferences?hl=en/webhp?tab=ww/webhp?tab=ww/webhp?tab=ww/webhp?tab=ww/webhp?tab=ww/webhp?tab=ww/webhp?tab=ww/webhp?tab=ww/webhp?tab=ww/webhp?tab=ww/webhp?tab=ww/webhp?tab=ww/webhp?tab=ww/webhp?tab=ww/webhp?tab=ww/webhp?tab=ww/webhp?tab=ww/webhp?tab=ww/webhp?tab=ww/webhp?tab=ww/webhp?tab=ww/webhp?tab=ww/webhp?tab=ww/webhp?tab=ww/webhp?tab=ww/webhp?tab=ww/webhp?tab=ww/webhp?tab=ww/webhp?tab=ww/webhp?tab=ww/webhp?tab=ww/webhp?tab=ww/webhp?tab=ww/webhp?tab=ww/webhp?tab=ww/webhp?tab=ww/webhp?tab=ww/webhp?tab=ww/webhp?tab=ww/webhp?tab=ww/webhp?tab=ww/webhp?tab=ww/webhp?tab=ww/webhp?tab=ww/webhp?tab=ww/webhp?tab=ww/webhp?tab=ww/webhp?tab=ww/webhp?tab=ww/webhp?tab=ww/webhp?tab=ww/webhp?tab=ww/webhp?tab=ww/webhp?tab=ww\n",
      "http://www.google.com///preferences?hl=en/webhp?tab=ww/webhp?tab=ww/webhp?tab=ww/webhp?tab=ww/webhp?tab=ww/webhp?tab=ww/webhp?tab=ww/webhp?tab=ww/webhp?tab=ww/webhp?tab=ww/webhp?tab=ww/webhp?tab=ww/webhp?tab=ww/webhp?tab=ww/webhp?tab=ww/webhp?tab=ww/webhp?tab=ww/webhp?tab=ww/webhp?tab=ww/webhp?tab=ww/webhp?tab=ww/webhp?tab=ww/webhp?tab=ww/webhp?tab=ww/webhp?tab=ww/webhp?tab=ww/webhp?tab=ww/webhp?tab=ww/webhp?tab=ww/webhp?tab=ww/webhp?tab=ww/webhp?tab=ww/webhp?tab=ww/webhp?tab=ww/webhp?tab=ww/webhp?tab=ww/webhp?tab=ww/webhp?tab=ww/webhp?tab=ww/webhp?tab=ww/webhp?tab=ww/webhp?tab=ww/webhp?tab=ww/webhp?tab=ww/webhp?tab=ww/webhp?tab=ww/webhp?tab=ww/webhp?tab=ww/webhp?tab=ww/webhp?tab=ww/webhp?tab=ww/webhp?tab=ww/webhp?tab=ww/webhp?tab=ww/webhp?tab=ww\n",
      "http://www.google.com///preferences?hl=en/webhp?tab=ww/webhp?tab=ww/webhp?tab=ww/webhp?tab=ww/webhp?tab=ww/webhp?tab=ww/webhp?tab=ww/webhp?tab=ww/webhp?tab=ww/webhp?tab=ww/webhp?tab=ww/webhp?tab=ww/webhp?tab=ww/webhp?tab=ww/webhp?tab=ww/webhp?tab=ww/webhp?tab=ww/webhp?tab=ww/webhp?tab=ww/webhp?tab=ww/webhp?tab=ww/webhp?tab=ww/webhp?tab=ww/webhp?tab=ww/webhp?tab=ww/webhp?tab=ww/webhp?tab=ww/webhp?tab=ww/webhp?tab=ww/webhp?tab=ww/webhp?tab=ww/webhp?tab=ww/webhp?tab=ww/webhp?tab=ww/webhp?tab=ww/webhp?tab=ww/webhp?tab=ww/webhp?tab=ww/webhp?tab=ww/webhp?tab=ww/webhp?tab=ww/webhp?tab=ww/webhp?tab=ww/webhp?tab=ww/webhp?tab=ww/webhp?tab=ww/webhp?tab=ww/webhp?tab=ww/webhp?tab=ww/webhp?tab=ww/webhp?tab=ww/webhp?tab=ww/webhp?tab=ww/webhp?tab=ww/webhp?tab=ww/webhp?tab=ww\n",
      "http://www.google.com///preferences?hl=en/webhp?tab=ww/webhp?tab=ww/webhp?tab=ww/webhp?tab=ww/webhp?tab=ww/webhp?tab=ww/webhp?tab=ww/webhp?tab=ww/webhp?tab=ww/webhp?tab=ww/webhp?tab=ww/webhp?tab=ww/webhp?tab=ww/webhp?tab=ww/webhp?tab=ww/webhp?tab=ww/webhp?tab=ww/webhp?tab=ww/webhp?tab=ww/webhp?tab=ww/webhp?tab=ww/webhp?tab=ww/webhp?tab=ww/webhp?tab=ww/webhp?tab=ww/webhp?tab=ww/webhp?tab=ww/webhp?tab=ww/webhp?tab=ww/webhp?tab=ww/webhp?tab=ww/webhp?tab=ww/webhp?tab=ww/webhp?tab=ww/webhp?tab=ww/webhp?tab=ww/webhp?tab=ww/webhp?tab=ww/webhp?tab=ww/webhp?tab=ww/webhp?tab=ww/webhp?tab=ww/webhp?tab=ww/webhp?tab=ww/webhp?tab=ww/webhp?tab=ww/webhp?tab=ww/webhp?tab=ww/webhp?tab=ww/webhp?tab=ww/webhp?tab=ww/webhp?tab=ww/webhp?tab=ww/webhp?tab=ww/webhp?tab=ww/webhp?tab=ww/webhp?tab=ww\n",
      "http://www.google.com///preferences?hl=en/webhp?tab=ww/webhp?tab=ww/webhp?tab=ww/webhp?tab=ww/webhp?tab=ww/webhp?tab=ww/webhp?tab=ww/webhp?tab=ww/webhp?tab=ww/webhp?tab=ww/webhp?tab=ww/webhp?tab=ww/webhp?tab=ww/webhp?tab=ww/webhp?tab=ww/webhp?tab=ww/webhp?tab=ww/webhp?tab=ww/webhp?tab=ww/webhp?tab=ww/webhp?tab=ww/webhp?tab=ww/webhp?tab=ww/webhp?tab=ww/webhp?tab=ww/webhp?tab=ww/webhp?tab=ww/webhp?tab=ww/webhp?tab=ww/webhp?tab=ww/webhp?tab=ww/webhp?tab=ww/webhp?tab=ww/webhp?tab=ww/webhp?tab=ww/webhp?tab=ww/webhp?tab=ww/webhp?tab=ww/webhp?tab=ww/webhp?tab=ww/webhp?tab=ww/webhp?tab=ww/webhp?tab=ww/webhp?tab=ww/webhp?tab=ww/webhp?tab=ww/webhp?tab=ww/webhp?tab=ww/webhp?tab=ww/webhp?tab=ww/webhp?tab=ww/webhp?tab=ww/webhp?tab=ww/webhp?tab=ww/webhp?tab=ww/webhp?tab=ww/webhp?tab=ww/webhp?tab=ww\n",
      "http://www.google.com///preferences?hl=en/webhp?tab=ww/webhp?tab=ww/webhp?tab=ww/webhp?tab=ww/webhp?tab=ww/webhp?tab=ww/webhp?tab=ww/webhp?tab=ww/webhp?tab=ww/webhp?tab=ww/webhp?tab=ww/webhp?tab=ww/webhp?tab=ww/webhp?tab=ww/webhp?tab=ww/webhp?tab=ww/webhp?tab=ww/webhp?tab=ww/webhp?tab=ww/webhp?tab=ww/webhp?tab=ww/webhp?tab=ww/webhp?tab=ww/webhp?tab=ww/webhp?tab=ww/webhp?tab=ww/webhp?tab=ww/webhp?tab=ww/webhp?tab=ww/webhp?tab=ww/webhp?tab=ww/webhp?tab=ww/webhp?tab=ww/webhp?tab=ww/webhp?tab=ww/webhp?tab=ww/webhp?tab=ww/webhp?tab=ww/webhp?tab=ww/webhp?tab=ww/webhp?tab=ww/webhp?tab=ww/webhp?tab=ww/webhp?tab=ww/webhp?tab=ww/webhp?tab=ww/webhp?tab=ww/webhp?tab=ww/webhp?tab=ww/webhp?tab=ww/webhp?tab=ww/webhp?tab=ww/webhp?tab=ww/webhp?tab=ww/webhp?tab=ww/webhp?tab=ww/webhp?tab=ww/webhp?tab=ww/webhp?tab=ww\n",
      "http://www.google.com///preferences?hl=en/webhp?tab=ww/webhp?tab=ww/webhp?tab=ww/webhp?tab=ww/webhp?tab=ww/webhp?tab=ww/webhp?tab=ww/webhp?tab=ww/webhp?tab=ww/webhp?tab=ww/webhp?tab=ww/webhp?tab=ww/webhp?tab=ww/webhp?tab=ww/webhp?tab=ww/webhp?tab=ww/webhp?tab=ww/webhp?tab=ww/webhp?tab=ww/webhp?tab=ww/webhp?tab=ww/webhp?tab=ww/webhp?tab=ww/webhp?tab=ww/webhp?tab=ww/webhp?tab=ww/webhp?tab=ww/webhp?tab=ww/webhp?tab=ww/webhp?tab=ww/webhp?tab=ww/webhp?tab=ww/webhp?tab=ww/webhp?tab=ww/webhp?tab=ww/webhp?tab=ww/webhp?tab=ww/webhp?tab=ww/webhp?tab=ww/webhp?tab=ww/webhp?tab=ww/webhp?tab=ww/webhp?tab=ww/webhp?tab=ww/webhp?tab=ww/webhp?tab=ww/webhp?tab=ww/webhp?tab=ww/webhp?tab=ww/webhp?tab=ww/webhp?tab=ww/webhp?tab=ww/webhp?tab=ww/webhp?tab=ww/webhp?tab=ww/webhp?tab=ww/webhp?tab=ww/webhp?tab=ww/webhp?tab=ww/webhp?tab=ww\n",
      "http://www.google.com///preferences?hl=en/webhp?tab=ww/webhp?tab=ww/webhp?tab=ww/webhp?tab=ww/webhp?tab=ww/webhp?tab=ww/webhp?tab=ww/webhp?tab=ww/webhp?tab=ww/webhp?tab=ww/webhp?tab=ww/webhp?tab=ww/webhp?tab=ww/webhp?tab=ww/webhp?tab=ww/webhp?tab=ww/webhp?tab=ww/webhp?tab=ww/webhp?tab=ww/webhp?tab=ww/webhp?tab=ww/webhp?tab=ww/webhp?tab=ww/webhp?tab=ww/webhp?tab=ww/webhp?tab=ww/webhp?tab=ww/webhp?tab=ww/webhp?tab=ww/webhp?tab=ww/webhp?tab=ww/webhp?tab=ww/webhp?tab=ww/webhp?tab=ww/webhp?tab=ww/webhp?tab=ww/webhp?tab=ww/webhp?tab=ww/webhp?tab=ww/webhp?tab=ww/webhp?tab=ww/webhp?tab=ww/webhp?tab=ww/webhp?tab=ww/webhp?tab=ww/webhp?tab=ww/webhp?tab=ww/webhp?tab=ww/webhp?tab=ww/webhp?tab=ww/webhp?tab=ww/webhp?tab=ww/webhp?tab=ww/webhp?tab=ww/webhp?tab=ww/webhp?tab=ww/webhp?tab=ww/webhp?tab=ww/webhp?tab=ww/webhp?tab=ww/webhp?tab=ww\n",
      "http://www.google.com///preferences?hl=en/webhp?tab=ww/webhp?tab=ww/webhp?tab=ww/webhp?tab=ww/webhp?tab=ww/webhp?tab=ww/webhp?tab=ww/webhp?tab=ww/webhp?tab=ww/webhp?tab=ww/webhp?tab=ww/webhp?tab=ww/webhp?tab=ww/webhp?tab=ww/webhp?tab=ww/webhp?tab=ww/webhp?tab=ww/webhp?tab=ww/webhp?tab=ww/webhp?tab=ww/webhp?tab=ww/webhp?tab=ww/webhp?tab=ww/webhp?tab=ww/webhp?tab=ww/webhp?tab=ww/webhp?tab=ww/webhp?tab=ww/webhp?tab=ww/webhp?tab=ww/webhp?tab=ww/webhp?tab=ww/webhp?tab=ww/webhp?tab=ww/webhp?tab=ww/webhp?tab=ww/webhp?tab=ww/webhp?tab=ww/webhp?tab=ww/webhp?tab=ww/webhp?tab=ww/webhp?tab=ww/webhp?tab=ww/webhp?tab=ww/webhp?tab=ww/webhp?tab=ww/webhp?tab=ww/webhp?tab=ww/webhp?tab=ww/webhp?tab=ww/webhp?tab=ww/webhp?tab=ww/webhp?tab=ww/webhp?tab=ww/webhp?tab=ww/webhp?tab=ww/webhp?tab=ww/webhp?tab=ww/webhp?tab=ww/webhp?tab=ww/webhp?tab=ww/webhp?tab=ww\n",
      "http://www.google.com///preferences?hl=en/webhp?tab=ww/webhp?tab=ww/webhp?tab=ww/webhp?tab=ww/webhp?tab=ww/webhp?tab=ww/webhp?tab=ww/webhp?tab=ww/webhp?tab=ww/webhp?tab=ww/webhp?tab=ww/webhp?tab=ww/webhp?tab=ww/webhp?tab=ww/webhp?tab=ww/webhp?tab=ww/webhp?tab=ww/webhp?tab=ww/webhp?tab=ww/webhp?tab=ww/webhp?tab=ww/webhp?tab=ww/webhp?tab=ww/webhp?tab=ww/webhp?tab=ww/webhp?tab=ww/webhp?tab=ww/webhp?tab=ww/webhp?tab=ww/webhp?tab=ww/webhp?tab=ww/webhp?tab=ww/webhp?tab=ww/webhp?tab=ww/webhp?tab=ww/webhp?tab=ww/webhp?tab=ww/webhp?tab=ww/webhp?tab=ww/webhp?tab=ww/webhp?tab=ww/webhp?tab=ww/webhp?tab=ww/webhp?tab=ww/webhp?tab=ww/webhp?tab=ww/webhp?tab=ww/webhp?tab=ww/webhp?tab=ww/webhp?tab=ww/webhp?tab=ww/webhp?tab=ww/webhp?tab=ww/webhp?tab=ww/webhp?tab=ww/webhp?tab=ww/webhp?tab=ww/webhp?tab=ww/webhp?tab=ww/webhp?tab=ww/webhp?tab=ww/webhp?tab=ww/webhp?tab=ww\n",
      "http://www.google.com///preferences?hl=en/webhp?tab=ww/webhp?tab=ww/webhp?tab=ww/webhp?tab=ww/webhp?tab=ww/webhp?tab=ww/webhp?tab=ww/webhp?tab=ww/webhp?tab=ww/webhp?tab=ww/webhp?tab=ww/webhp?tab=ww/webhp?tab=ww/webhp?tab=ww/webhp?tab=ww/webhp?tab=ww/webhp?tab=ww/webhp?tab=ww/webhp?tab=ww/webhp?tab=ww/webhp?tab=ww/webhp?tab=ww/webhp?tab=ww/webhp?tab=ww/webhp?tab=ww/webhp?tab=ww/webhp?tab=ww/webhp?tab=ww/webhp?tab=ww/webhp?tab=ww/webhp?tab=ww/webhp?tab=ww/webhp?tab=ww/webhp?tab=ww/webhp?tab=ww/webhp?tab=ww/webhp?tab=ww/webhp?tab=ww/webhp?tab=ww/webhp?tab=ww/webhp?tab=ww/webhp?tab=ww/webhp?tab=ww/webhp?tab=ww/webhp?tab=ww/webhp?tab=ww/webhp?tab=ww/webhp?tab=ww/webhp?tab=ww/webhp?tab=ww/webhp?tab=ww/webhp?tab=ww/webhp?tab=ww/webhp?tab=ww/webhp?tab=ww/webhp?tab=ww/webhp?tab=ww/webhp?tab=ww/webhp?tab=ww/webhp?tab=ww/webhp?tab=ww/webhp?tab=ww/webhp?tab=ww/webhp?tab=ww\n",
      "http://www.google.com///preferences?hl=en/webhp?tab=ww/webhp?tab=ww/webhp?tab=ww/webhp?tab=ww/webhp?tab=ww/webhp?tab=ww/webhp?tab=ww/webhp?tab=ww/webhp?tab=ww/webhp?tab=ww/webhp?tab=ww/webhp?tab=ww/webhp?tab=ww/webhp?tab=ww/webhp?tab=ww/webhp?tab=ww/webhp?tab=ww/webhp?tab=ww/webhp?tab=ww/webhp?tab=ww/webhp?tab=ww/webhp?tab=ww/webhp?tab=ww/webhp?tab=ww/webhp?tab=ww/webhp?tab=ww/webhp?tab=ww/webhp?tab=ww/webhp?tab=ww/webhp?tab=ww/webhp?tab=ww/webhp?tab=ww/webhp?tab=ww/webhp?tab=ww/webhp?tab=ww/webhp?tab=ww/webhp?tab=ww/webhp?tab=ww/webhp?tab=ww/webhp?tab=ww/webhp?tab=ww/webhp?tab=ww/webhp?tab=ww/webhp?tab=ww/webhp?tab=ww/webhp?tab=ww/webhp?tab=ww/webhp?tab=ww/webhp?tab=ww/webhp?tab=ww/webhp?tab=ww/webhp?tab=ww/webhp?tab=ww/webhp?tab=ww/webhp?tab=ww/webhp?tab=ww/webhp?tab=ww/webhp?tab=ww/webhp?tab=ww/webhp?tab=ww/webhp?tab=ww/webhp?tab=ww/webhp?tab=ww/webhp?tab=ww/webhp?tab=ww\n",
      "http://www.google.com///preferences?hl=en/webhp?tab=ww/webhp?tab=ww/webhp?tab=ww/webhp?tab=ww/webhp?tab=ww/webhp?tab=ww/webhp?tab=ww/webhp?tab=ww/webhp?tab=ww/webhp?tab=ww/webhp?tab=ww/webhp?tab=ww/webhp?tab=ww/webhp?tab=ww/webhp?tab=ww/webhp?tab=ww/webhp?tab=ww/webhp?tab=ww/webhp?tab=ww/webhp?tab=ww/webhp?tab=ww/webhp?tab=ww/webhp?tab=ww/webhp?tab=ww/webhp?tab=ww/webhp?tab=ww/webhp?tab=ww/webhp?tab=ww/webhp?tab=ww/webhp?tab=ww/webhp?tab=ww/webhp?tab=ww/webhp?tab=ww/webhp?tab=ww/webhp?tab=ww/webhp?tab=ww/webhp?tab=ww/webhp?tab=ww/webhp?tab=ww/webhp?tab=ww/webhp?tab=ww/webhp?tab=ww/webhp?tab=ww/webhp?tab=ww/webhp?tab=ww/webhp?tab=ww/webhp?tab=ww/webhp?tab=ww/webhp?tab=ww/webhp?tab=ww/webhp?tab=ww/webhp?tab=ww/webhp?tab=ww/webhp?tab=ww/webhp?tab=ww/webhp?tab=ww/webhp?tab=ww/webhp?tab=ww/webhp?tab=ww/webhp?tab=ww/webhp?tab=ww/webhp?tab=ww/webhp?tab=ww/webhp?tab=ww/webhp?tab=ww/webhp?tab=ww\n",
      "http://www.google.com///preferences?hl=en/webhp?tab=ww/webhp?tab=ww/webhp?tab=ww/webhp?tab=ww/webhp?tab=ww/webhp?tab=ww/webhp?tab=ww/webhp?tab=ww/webhp?tab=ww/webhp?tab=ww/webhp?tab=ww/webhp?tab=ww/webhp?tab=ww/webhp?tab=ww/webhp?tab=ww/webhp?tab=ww/webhp?tab=ww/webhp?tab=ww/webhp?tab=ww/webhp?tab=ww/webhp?tab=ww/webhp?tab=ww/webhp?tab=ww/webhp?tab=ww/webhp?tab=ww/webhp?tab=ww/webhp?tab=ww/webhp?tab=ww/webhp?tab=ww/webhp?tab=ww/webhp?tab=ww/webhp?tab=ww/webhp?tab=ww/webhp?tab=ww/webhp?tab=ww/webhp?tab=ww/webhp?tab=ww/webhp?tab=ww/webhp?tab=ww/webhp?tab=ww/webhp?tab=ww/webhp?tab=ww/webhp?tab=ww/webhp?tab=ww/webhp?tab=ww/webhp?tab=ww/webhp?tab=ww/webhp?tab=ww/webhp?tab=ww/webhp?tab=ww/webhp?tab=ww/webhp?tab=ww/webhp?tab=ww/webhp?tab=ww/webhp?tab=ww/webhp?tab=ww/webhp?tab=ww/webhp?tab=ww/webhp?tab=ww/webhp?tab=ww/webhp?tab=ww/webhp?tab=ww/webhp?tab=ww/webhp?tab=ww/webhp?tab=ww/webhp?tab=ww/webhp?tab=ww\n",
      "http://www.google.com///preferences?hl=en/webhp?tab=ww/webhp?tab=ww/webhp?tab=ww/webhp?tab=ww/webhp?tab=ww/webhp?tab=ww/webhp?tab=ww/webhp?tab=ww/webhp?tab=ww/webhp?tab=ww/webhp?tab=ww/webhp?tab=ww/webhp?tab=ww/webhp?tab=ww/webhp?tab=ww/webhp?tab=ww/webhp?tab=ww/webhp?tab=ww/webhp?tab=ww/webhp?tab=ww/webhp?tab=ww/webhp?tab=ww/webhp?tab=ww/webhp?tab=ww/webhp?tab=ww/webhp?tab=ww/webhp?tab=ww/webhp?tab=ww/webhp?tab=ww/webhp?tab=ww/webhp?tab=ww/webhp?tab=ww/webhp?tab=ww/webhp?tab=ww/webhp?tab=ww/webhp?tab=ww/webhp?tab=ww/webhp?tab=ww/webhp?tab=ww/webhp?tab=ww/webhp?tab=ww/webhp?tab=ww/webhp?tab=ww/webhp?tab=ww/webhp?tab=ww/webhp?tab=ww/webhp?tab=ww/webhp?tab=ww/webhp?tab=ww/webhp?tab=ww/webhp?tab=ww/webhp?tab=ww/webhp?tab=ww/webhp?tab=ww/webhp?tab=ww/webhp?tab=ww/webhp?tab=ww/webhp?tab=ww/webhp?tab=ww/webhp?tab=ww/webhp?tab=ww/webhp?tab=ww/webhp?tab=ww/webhp?tab=ww/webhp?tab=ww/webhp?tab=ww/webhp?tab=ww/webhp?tab=ww\n",
      "http://www.google.com///preferences?hl=en/webhp?tab=ww/webhp?tab=ww/webhp?tab=ww/webhp?tab=ww/webhp?tab=ww/webhp?tab=ww/webhp?tab=ww/webhp?tab=ww/webhp?tab=ww/webhp?tab=ww/webhp?tab=ww/webhp?tab=ww/webhp?tab=ww/webhp?tab=ww/webhp?tab=ww/webhp?tab=ww/webhp?tab=ww/webhp?tab=ww/webhp?tab=ww/webhp?tab=ww/webhp?tab=ww/webhp?tab=ww/webhp?tab=ww/webhp?tab=ww/webhp?tab=ww/webhp?tab=ww/webhp?tab=ww/webhp?tab=ww/webhp?tab=ww/webhp?tab=ww/webhp?tab=ww/webhp?tab=ww/webhp?tab=ww/webhp?tab=ww/webhp?tab=ww/webhp?tab=ww/webhp?tab=ww/webhp?tab=ww/webhp?tab=ww/webhp?tab=ww/webhp?tab=ww/webhp?tab=ww/webhp?tab=ww/webhp?tab=ww/webhp?tab=ww/webhp?tab=ww/webhp?tab=ww/webhp?tab=ww/webhp?tab=ww/webhp?tab=ww/webhp?tab=ww/webhp?tab=ww/webhp?tab=ww/webhp?tab=ww/webhp?tab=ww/webhp?tab=ww/webhp?tab=ww/webhp?tab=ww/webhp?tab=ww/webhp?tab=ww/webhp?tab=ww/webhp?tab=ww/webhp?tab=ww/webhp?tab=ww/webhp?tab=ww/webhp?tab=ww/webhp?tab=ww/webhp?tab=ww/webhp?tab=ww\n",
      "http://www.google.com///preferences?hl=en/webhp?tab=ww/webhp?tab=ww/webhp?tab=ww/webhp?tab=ww/webhp?tab=ww/webhp?tab=ww/webhp?tab=ww/webhp?tab=ww/webhp?tab=ww/webhp?tab=ww/webhp?tab=ww/webhp?tab=ww/webhp?tab=ww/webhp?tab=ww/webhp?tab=ww/webhp?tab=ww/webhp?tab=ww/webhp?tab=ww/webhp?tab=ww/webhp?tab=ww/webhp?tab=ww/webhp?tab=ww/webhp?tab=ww/webhp?tab=ww/webhp?tab=ww/webhp?tab=ww/webhp?tab=ww/webhp?tab=ww/webhp?tab=ww/webhp?tab=ww/webhp?tab=ww/webhp?tab=ww/webhp?tab=ww/webhp?tab=ww/webhp?tab=ww/webhp?tab=ww/webhp?tab=ww/webhp?tab=ww/webhp?tab=ww/webhp?tab=ww/webhp?tab=ww/webhp?tab=ww/webhp?tab=ww/webhp?tab=ww/webhp?tab=ww/webhp?tab=ww/webhp?tab=ww/webhp?tab=ww/webhp?tab=ww/webhp?tab=ww/webhp?tab=ww/webhp?tab=ww/webhp?tab=ww/webhp?tab=ww/webhp?tab=ww/webhp?tab=ww/webhp?tab=ww/webhp?tab=ww/webhp?tab=ww/webhp?tab=ww/webhp?tab=ww/webhp?tab=ww/webhp?tab=ww/webhp?tab=ww/webhp?tab=ww/webhp?tab=ww/webhp?tab=ww/webhp?tab=ww/webhp?tab=ww/webhp?tab=ww\n",
      "http://www.google.com///preferences?hl=en/webhp?tab=ww/webhp?tab=ww/webhp?tab=ww/webhp?tab=ww/webhp?tab=ww/webhp?tab=ww/webhp?tab=ww/webhp?tab=ww/webhp?tab=ww/webhp?tab=ww/webhp?tab=ww/webhp?tab=ww/webhp?tab=ww/webhp?tab=ww/webhp?tab=ww/webhp?tab=ww/webhp?tab=ww/webhp?tab=ww/webhp?tab=ww/webhp?tab=ww/webhp?tab=ww/webhp?tab=ww/webhp?tab=ww/webhp?tab=ww/webhp?tab=ww/webhp?tab=ww/webhp?tab=ww/webhp?tab=ww/webhp?tab=ww/webhp?tab=ww/webhp?tab=ww/webhp?tab=ww/webhp?tab=ww/webhp?tab=ww/webhp?tab=ww/webhp?tab=ww/webhp?tab=ww/webhp?tab=ww/webhp?tab=ww/webhp?tab=ww/webhp?tab=ww/webhp?tab=ww/webhp?tab=ww/webhp?tab=ww/webhp?tab=ww/webhp?tab=ww/webhp?tab=ww/webhp?tab=ww/webhp?tab=ww/webhp?tab=ww/webhp?tab=ww/webhp?tab=ww/webhp?tab=ww/webhp?tab=ww/webhp?tab=ww/webhp?tab=ww/webhp?tab=ww/webhp?tab=ww/webhp?tab=ww/webhp?tab=ww/webhp?tab=ww/webhp?tab=ww/webhp?tab=ww/webhp?tab=ww/webhp?tab=ww/webhp?tab=ww/webhp?tab=ww/webhp?tab=ww/webhp?tab=ww/webhp?tab=ww/webhp?tab=ww\n",
      "http://www.google.com///preferences?hl=en/webhp?tab=ww/webhp?tab=ww/webhp?tab=ww/webhp?tab=ww/webhp?tab=ww/webhp?tab=ww/webhp?tab=ww/webhp?tab=ww/webhp?tab=ww/webhp?tab=ww/webhp?tab=ww/webhp?tab=ww/webhp?tab=ww/webhp?tab=ww/webhp?tab=ww/webhp?tab=ww/webhp?tab=ww/webhp?tab=ww/webhp?tab=ww/webhp?tab=ww/webhp?tab=ww/webhp?tab=ww/webhp?tab=ww/webhp?tab=ww/webhp?tab=ww/webhp?tab=ww/webhp?tab=ww/webhp?tab=ww/webhp?tab=ww/webhp?tab=ww/webhp?tab=ww/webhp?tab=ww/webhp?tab=ww/webhp?tab=ww/webhp?tab=ww/webhp?tab=ww/webhp?tab=ww/webhp?tab=ww/webhp?tab=ww/webhp?tab=ww/webhp?tab=ww/webhp?tab=ww/webhp?tab=ww/webhp?tab=ww/webhp?tab=ww/webhp?tab=ww/webhp?tab=ww/webhp?tab=ww/webhp?tab=ww/webhp?tab=ww/webhp?tab=ww/webhp?tab=ww/webhp?tab=ww/webhp?tab=ww/webhp?tab=ww/webhp?tab=ww/webhp?tab=ww/webhp?tab=ww/webhp?tab=ww/webhp?tab=ww/webhp?tab=ww/webhp?tab=ww/webhp?tab=ww/webhp?tab=ww/webhp?tab=ww/webhp?tab=ww/webhp?tab=ww/webhp?tab=ww/webhp?tab=ww/webhp?tab=ww/webhp?tab=ww/webhp?tab=ww\n",
      "http://www.google.com///preferences?hl=en/webhp?tab=ww/webhp?tab=ww/webhp?tab=ww/webhp?tab=ww/webhp?tab=ww/webhp?tab=ww/webhp?tab=ww/webhp?tab=ww/webhp?tab=ww/webhp?tab=ww/webhp?tab=ww/webhp?tab=ww/webhp?tab=ww/webhp?tab=ww/webhp?tab=ww/webhp?tab=ww/webhp?tab=ww/webhp?tab=ww/webhp?tab=ww/webhp?tab=ww/webhp?tab=ww/webhp?tab=ww/webhp?tab=ww/webhp?tab=ww/webhp?tab=ww/webhp?tab=ww/webhp?tab=ww/webhp?tab=ww/webhp?tab=ww/webhp?tab=ww/webhp?tab=ww/webhp?tab=ww/webhp?tab=ww/webhp?tab=ww/webhp?tab=ww/webhp?tab=ww/webhp?tab=ww/webhp?tab=ww/webhp?tab=ww/webhp?tab=ww/webhp?tab=ww/webhp?tab=ww/webhp?tab=ww/webhp?tab=ww/webhp?tab=ww/webhp?tab=ww/webhp?tab=ww/webhp?tab=ww/webhp?tab=ww/webhp?tab=ww/webhp?tab=ww/webhp?tab=ww/webhp?tab=ww/webhp?tab=ww/webhp?tab=ww/webhp?tab=ww/webhp?tab=ww/webhp?tab=ww/webhp?tab=ww/webhp?tab=ww/webhp?tab=ww/webhp?tab=ww/webhp?tab=ww/webhp?tab=ww/webhp?tab=ww/webhp?tab=ww/webhp?tab=ww/webhp?tab=ww/webhp?tab=ww/webhp?tab=ww/webhp?tab=ww/webhp?tab=ww/webhp?tab=ww\n"
     ]
    },
    {
     "ename": "KeyboardInterrupt",
     "evalue": "",
     "output_type": "error",
     "traceback": [
      "\u001b[1;31m---------------------------------------------------------------------------\u001b[0m",
      "\u001b[1;31mKeyboardInterrupt\u001b[0m                         Traceback (most recent call last)",
      "\u001b[1;32m~\\AppData\\Local\\Temp/ipykernel_47736/4019084382.py\u001b[0m in \u001b[0;36m<module>\u001b[1;34m\u001b[0m\n\u001b[0;32m     28\u001b[0m \u001b[1;33m\u001b[0m\u001b[0m\n\u001b[0;32m     29\u001b[0m     \u001b[1;31m# calling function\u001b[0m\u001b[1;33m\u001b[0m\u001b[1;33m\u001b[0m\u001b[0m\n\u001b[1;32m---> 30\u001b[1;33m     \u001b[0mscrape\u001b[0m\u001b[1;33m(\u001b[0m\u001b[0mwebdir\u001b[0m\u001b[1;33m)\u001b[0m\u001b[1;33m\u001b[0m\u001b[1;33m\u001b[0m\u001b[0m\n\u001b[0m",
      "\u001b[1;32m~\\AppData\\Local\\Temp/ipykernel_47736/4019084382.py\u001b[0m in \u001b[0;36mscrape\u001b[1;34m(webdir)\u001b[0m\n\u001b[0;32m     19\u001b[0m                 \u001b[0murls\u001b[0m\u001b[1;33m.\u001b[0m\u001b[0mappend\u001b[0m\u001b[1;33m(\u001b[0m\u001b[0mwebdir\u001b[0m\u001b[1;33m)\u001b[0m\u001b[1;33m\u001b[0m\u001b[1;33m\u001b[0m\u001b[0m\n\u001b[0;32m     20\u001b[0m                 \u001b[0mprint\u001b[0m\u001b[1;33m(\u001b[0m\u001b[0mwebdir\u001b[0m\u001b[1;33m)\u001b[0m\u001b[1;33m\u001b[0m\u001b[1;33m\u001b[0m\u001b[0m\n\u001b[1;32m---> 21\u001b[1;33m                 \u001b[0mscrape\u001b[0m\u001b[1;33m(\u001b[0m\u001b[0mwebdir\u001b[0m\u001b[1;33m)\u001b[0m\u001b[1;33m\u001b[0m\u001b[1;33m\u001b[0m\u001b[0m\n\u001b[0m\u001b[0;32m     22\u001b[0m \u001b[1;33m\u001b[0m\u001b[0m\n\u001b[0;32m     23\u001b[0m \u001b[1;31m# main function\u001b[0m\u001b[1;33m\u001b[0m\u001b[1;33m\u001b[0m\u001b[0m\n",
      "\u001b[1;32m~\\AppData\\Local\\Temp/ipykernel_47736/4019084382.py\u001b[0m in \u001b[0;36mscrape\u001b[1;34m(webdir)\u001b[0m\n\u001b[0;32m     19\u001b[0m                 \u001b[0murls\u001b[0m\u001b[1;33m.\u001b[0m\u001b[0mappend\u001b[0m\u001b[1;33m(\u001b[0m\u001b[0mwebdir\u001b[0m\u001b[1;33m)\u001b[0m\u001b[1;33m\u001b[0m\u001b[1;33m\u001b[0m\u001b[0m\n\u001b[0;32m     20\u001b[0m                 \u001b[0mprint\u001b[0m\u001b[1;33m(\u001b[0m\u001b[0mwebdir\u001b[0m\u001b[1;33m)\u001b[0m\u001b[1;33m\u001b[0m\u001b[1;33m\u001b[0m\u001b[0m\n\u001b[1;32m---> 21\u001b[1;33m                 \u001b[0mscrape\u001b[0m\u001b[1;33m(\u001b[0m\u001b[0mwebdir\u001b[0m\u001b[1;33m)\u001b[0m\u001b[1;33m\u001b[0m\u001b[1;33m\u001b[0m\u001b[0m\n\u001b[0m\u001b[0;32m     22\u001b[0m \u001b[1;33m\u001b[0m\u001b[0m\n\u001b[0;32m     23\u001b[0m \u001b[1;31m# main function\u001b[0m\u001b[1;33m\u001b[0m\u001b[1;33m\u001b[0m\u001b[0m\n",
      "\u001b[1;32m~\\AppData\\Local\\Temp/ipykernel_47736/4019084382.py\u001b[0m in \u001b[0;36mscrape\u001b[1;34m(webdir)\u001b[0m\n\u001b[0;32m     19\u001b[0m                 \u001b[0murls\u001b[0m\u001b[1;33m.\u001b[0m\u001b[0mappend\u001b[0m\u001b[1;33m(\u001b[0m\u001b[0mwebdir\u001b[0m\u001b[1;33m)\u001b[0m\u001b[1;33m\u001b[0m\u001b[1;33m\u001b[0m\u001b[0m\n\u001b[0;32m     20\u001b[0m                 \u001b[0mprint\u001b[0m\u001b[1;33m(\u001b[0m\u001b[0mwebdir\u001b[0m\u001b[1;33m)\u001b[0m\u001b[1;33m\u001b[0m\u001b[1;33m\u001b[0m\u001b[0m\n\u001b[1;32m---> 21\u001b[1;33m                 \u001b[0mscrape\u001b[0m\u001b[1;33m(\u001b[0m\u001b[0mwebdir\u001b[0m\u001b[1;33m)\u001b[0m\u001b[1;33m\u001b[0m\u001b[1;33m\u001b[0m\u001b[0m\n\u001b[0m\u001b[0;32m     22\u001b[0m \u001b[1;33m\u001b[0m\u001b[0m\n\u001b[0;32m     23\u001b[0m \u001b[1;31m# main function\u001b[0m\u001b[1;33m\u001b[0m\u001b[1;33m\u001b[0m\u001b[0m\n",
      "\u001b[1;32m~\\AppData\\Local\\Temp/ipykernel_47736/4019084382.py\u001b[0m in \u001b[0;36mscrape\u001b[1;34m(webdir)\u001b[0m\n\u001b[0;32m     19\u001b[0m                 \u001b[0murls\u001b[0m\u001b[1;33m.\u001b[0m\u001b[0mappend\u001b[0m\u001b[1;33m(\u001b[0m\u001b[0mwebdir\u001b[0m\u001b[1;33m)\u001b[0m\u001b[1;33m\u001b[0m\u001b[1;33m\u001b[0m\u001b[0m\n\u001b[0;32m     20\u001b[0m                 \u001b[0mprint\u001b[0m\u001b[1;33m(\u001b[0m\u001b[0mwebdir\u001b[0m\u001b[1;33m)\u001b[0m\u001b[1;33m\u001b[0m\u001b[1;33m\u001b[0m\u001b[0m\n\u001b[1;32m---> 21\u001b[1;33m                 \u001b[0mscrape\u001b[0m\u001b[1;33m(\u001b[0m\u001b[0mwebdir\u001b[0m\u001b[1;33m)\u001b[0m\u001b[1;33m\u001b[0m\u001b[1;33m\u001b[0m\u001b[0m\n\u001b[0m\u001b[0;32m     22\u001b[0m \u001b[1;33m\u001b[0m\u001b[0m\n\u001b[0;32m     23\u001b[0m \u001b[1;31m# main function\u001b[0m\u001b[1;33m\u001b[0m\u001b[1;33m\u001b[0m\u001b[0m\n",
      "\u001b[1;32m~\\AppData\\Local\\Temp/ipykernel_47736/4019084382.py\u001b[0m in \u001b[0;36mscrape\u001b[1;34m(webdir)\u001b[0m\n\u001b[0;32m     19\u001b[0m                 \u001b[0murls\u001b[0m\u001b[1;33m.\u001b[0m\u001b[0mappend\u001b[0m\u001b[1;33m(\u001b[0m\u001b[0mwebdir\u001b[0m\u001b[1;33m)\u001b[0m\u001b[1;33m\u001b[0m\u001b[1;33m\u001b[0m\u001b[0m\n\u001b[0;32m     20\u001b[0m                 \u001b[0mprint\u001b[0m\u001b[1;33m(\u001b[0m\u001b[0mwebdir\u001b[0m\u001b[1;33m)\u001b[0m\u001b[1;33m\u001b[0m\u001b[1;33m\u001b[0m\u001b[0m\n\u001b[1;32m---> 21\u001b[1;33m                 \u001b[0mscrape\u001b[0m\u001b[1;33m(\u001b[0m\u001b[0mwebdir\u001b[0m\u001b[1;33m)\u001b[0m\u001b[1;33m\u001b[0m\u001b[1;33m\u001b[0m\u001b[0m\n\u001b[0m\u001b[0;32m     22\u001b[0m \u001b[1;33m\u001b[0m\u001b[0m\n\u001b[0;32m     23\u001b[0m \u001b[1;31m# main function\u001b[0m\u001b[1;33m\u001b[0m\u001b[1;33m\u001b[0m\u001b[0m\n",
      "\u001b[1;32m~\\AppData\\Local\\Temp/ipykernel_47736/4019084382.py\u001b[0m in \u001b[0;36mscrape\u001b[1;34m(webdir)\u001b[0m\n\u001b[0;32m     19\u001b[0m                 \u001b[0murls\u001b[0m\u001b[1;33m.\u001b[0m\u001b[0mappend\u001b[0m\u001b[1;33m(\u001b[0m\u001b[0mwebdir\u001b[0m\u001b[1;33m)\u001b[0m\u001b[1;33m\u001b[0m\u001b[1;33m\u001b[0m\u001b[0m\n\u001b[0;32m     20\u001b[0m                 \u001b[0mprint\u001b[0m\u001b[1;33m(\u001b[0m\u001b[0mwebdir\u001b[0m\u001b[1;33m)\u001b[0m\u001b[1;33m\u001b[0m\u001b[1;33m\u001b[0m\u001b[0m\n\u001b[1;32m---> 21\u001b[1;33m                 \u001b[0mscrape\u001b[0m\u001b[1;33m(\u001b[0m\u001b[0mwebdir\u001b[0m\u001b[1;33m)\u001b[0m\u001b[1;33m\u001b[0m\u001b[1;33m\u001b[0m\u001b[0m\n\u001b[0m\u001b[0;32m     22\u001b[0m \u001b[1;33m\u001b[0m\u001b[0m\n\u001b[0;32m     23\u001b[0m \u001b[1;31m# main function\u001b[0m\u001b[1;33m\u001b[0m\u001b[1;33m\u001b[0m\u001b[0m\n",
      "\u001b[1;32m~\\AppData\\Local\\Temp/ipykernel_47736/4019084382.py\u001b[0m in \u001b[0;36mscrape\u001b[1;34m(webdir)\u001b[0m\n\u001b[0;32m     19\u001b[0m                 \u001b[0murls\u001b[0m\u001b[1;33m.\u001b[0m\u001b[0mappend\u001b[0m\u001b[1;33m(\u001b[0m\u001b[0mwebdir\u001b[0m\u001b[1;33m)\u001b[0m\u001b[1;33m\u001b[0m\u001b[1;33m\u001b[0m\u001b[0m\n\u001b[0;32m     20\u001b[0m                 \u001b[0mprint\u001b[0m\u001b[1;33m(\u001b[0m\u001b[0mwebdir\u001b[0m\u001b[1;33m)\u001b[0m\u001b[1;33m\u001b[0m\u001b[1;33m\u001b[0m\u001b[0m\n\u001b[1;32m---> 21\u001b[1;33m                 \u001b[0mscrape\u001b[0m\u001b[1;33m(\u001b[0m\u001b[0mwebdir\u001b[0m\u001b[1;33m)\u001b[0m\u001b[1;33m\u001b[0m\u001b[1;33m\u001b[0m\u001b[0m\n\u001b[0m\u001b[0;32m     22\u001b[0m \u001b[1;33m\u001b[0m\u001b[0m\n\u001b[0;32m     23\u001b[0m \u001b[1;31m# main function\u001b[0m\u001b[1;33m\u001b[0m\u001b[1;33m\u001b[0m\u001b[0m\n",
      "\u001b[1;32m~\\AppData\\Local\\Temp/ipykernel_47736/4019084382.py\u001b[0m in \u001b[0;36mscrape\u001b[1;34m(webdir)\u001b[0m\n\u001b[0;32m     19\u001b[0m                 \u001b[0murls\u001b[0m\u001b[1;33m.\u001b[0m\u001b[0mappend\u001b[0m\u001b[1;33m(\u001b[0m\u001b[0mwebdir\u001b[0m\u001b[1;33m)\u001b[0m\u001b[1;33m\u001b[0m\u001b[1;33m\u001b[0m\u001b[0m\n\u001b[0;32m     20\u001b[0m                 \u001b[0mprint\u001b[0m\u001b[1;33m(\u001b[0m\u001b[0mwebdir\u001b[0m\u001b[1;33m)\u001b[0m\u001b[1;33m\u001b[0m\u001b[1;33m\u001b[0m\u001b[0m\n\u001b[1;32m---> 21\u001b[1;33m                 \u001b[0mscrape\u001b[0m\u001b[1;33m(\u001b[0m\u001b[0mwebdir\u001b[0m\u001b[1;33m)\u001b[0m\u001b[1;33m\u001b[0m\u001b[1;33m\u001b[0m\u001b[0m\n\u001b[0m\u001b[0;32m     22\u001b[0m \u001b[1;33m\u001b[0m\u001b[0m\n\u001b[0;32m     23\u001b[0m \u001b[1;31m# main function\u001b[0m\u001b[1;33m\u001b[0m\u001b[1;33m\u001b[0m\u001b[0m\n",
      "\u001b[1;32m~\\AppData\\Local\\Temp/ipykernel_47736/4019084382.py\u001b[0m in \u001b[0;36mscrape\u001b[1;34m(webdir)\u001b[0m\n\u001b[0;32m     19\u001b[0m                 \u001b[0murls\u001b[0m\u001b[1;33m.\u001b[0m\u001b[0mappend\u001b[0m\u001b[1;33m(\u001b[0m\u001b[0mwebdir\u001b[0m\u001b[1;33m)\u001b[0m\u001b[1;33m\u001b[0m\u001b[1;33m\u001b[0m\u001b[0m\n\u001b[0;32m     20\u001b[0m                 \u001b[0mprint\u001b[0m\u001b[1;33m(\u001b[0m\u001b[0mwebdir\u001b[0m\u001b[1;33m)\u001b[0m\u001b[1;33m\u001b[0m\u001b[1;33m\u001b[0m\u001b[0m\n\u001b[1;32m---> 21\u001b[1;33m                 \u001b[0mscrape\u001b[0m\u001b[1;33m(\u001b[0m\u001b[0mwebdir\u001b[0m\u001b[1;33m)\u001b[0m\u001b[1;33m\u001b[0m\u001b[1;33m\u001b[0m\u001b[0m\n\u001b[0m\u001b[0;32m     22\u001b[0m \u001b[1;33m\u001b[0m\u001b[0m\n\u001b[0;32m     23\u001b[0m \u001b[1;31m# main function\u001b[0m\u001b[1;33m\u001b[0m\u001b[1;33m\u001b[0m\u001b[0m\n",
      "\u001b[1;32m~\\AppData\\Local\\Temp/ipykernel_47736/4019084382.py\u001b[0m in \u001b[0;36mscrape\u001b[1;34m(webdir)\u001b[0m\n\u001b[0;32m     19\u001b[0m                 \u001b[0murls\u001b[0m\u001b[1;33m.\u001b[0m\u001b[0mappend\u001b[0m\u001b[1;33m(\u001b[0m\u001b[0mwebdir\u001b[0m\u001b[1;33m)\u001b[0m\u001b[1;33m\u001b[0m\u001b[1;33m\u001b[0m\u001b[0m\n\u001b[0;32m     20\u001b[0m                 \u001b[0mprint\u001b[0m\u001b[1;33m(\u001b[0m\u001b[0mwebdir\u001b[0m\u001b[1;33m)\u001b[0m\u001b[1;33m\u001b[0m\u001b[1;33m\u001b[0m\u001b[0m\n\u001b[1;32m---> 21\u001b[1;33m                 \u001b[0mscrape\u001b[0m\u001b[1;33m(\u001b[0m\u001b[0mwebdir\u001b[0m\u001b[1;33m)\u001b[0m\u001b[1;33m\u001b[0m\u001b[1;33m\u001b[0m\u001b[0m\n\u001b[0m\u001b[0;32m     22\u001b[0m \u001b[1;33m\u001b[0m\u001b[0m\n\u001b[0;32m     23\u001b[0m \u001b[1;31m# main function\u001b[0m\u001b[1;33m\u001b[0m\u001b[1;33m\u001b[0m\u001b[0m\n",
      "\u001b[1;32m~\\AppData\\Local\\Temp/ipykernel_47736/4019084382.py\u001b[0m in \u001b[0;36mscrape\u001b[1;34m(webdir)\u001b[0m\n\u001b[0;32m     19\u001b[0m                 \u001b[0murls\u001b[0m\u001b[1;33m.\u001b[0m\u001b[0mappend\u001b[0m\u001b[1;33m(\u001b[0m\u001b[0mwebdir\u001b[0m\u001b[1;33m)\u001b[0m\u001b[1;33m\u001b[0m\u001b[1;33m\u001b[0m\u001b[0m\n\u001b[0;32m     20\u001b[0m                 \u001b[0mprint\u001b[0m\u001b[1;33m(\u001b[0m\u001b[0mwebdir\u001b[0m\u001b[1;33m)\u001b[0m\u001b[1;33m\u001b[0m\u001b[1;33m\u001b[0m\u001b[0m\n\u001b[1;32m---> 21\u001b[1;33m                 \u001b[0mscrape\u001b[0m\u001b[1;33m(\u001b[0m\u001b[0mwebdir\u001b[0m\u001b[1;33m)\u001b[0m\u001b[1;33m\u001b[0m\u001b[1;33m\u001b[0m\u001b[0m\n\u001b[0m\u001b[0;32m     22\u001b[0m \u001b[1;33m\u001b[0m\u001b[0m\n\u001b[0;32m     23\u001b[0m \u001b[1;31m# main function\u001b[0m\u001b[1;33m\u001b[0m\u001b[1;33m\u001b[0m\u001b[0m\n",
      "\u001b[1;32m~\\AppData\\Local\\Temp/ipykernel_47736/4019084382.py\u001b[0m in \u001b[0;36mscrape\u001b[1;34m(webdir)\u001b[0m\n\u001b[0;32m     19\u001b[0m                 \u001b[0murls\u001b[0m\u001b[1;33m.\u001b[0m\u001b[0mappend\u001b[0m\u001b[1;33m(\u001b[0m\u001b[0mwebdir\u001b[0m\u001b[1;33m)\u001b[0m\u001b[1;33m\u001b[0m\u001b[1;33m\u001b[0m\u001b[0m\n\u001b[0;32m     20\u001b[0m                 \u001b[0mprint\u001b[0m\u001b[1;33m(\u001b[0m\u001b[0mwebdir\u001b[0m\u001b[1;33m)\u001b[0m\u001b[1;33m\u001b[0m\u001b[1;33m\u001b[0m\u001b[0m\n\u001b[1;32m---> 21\u001b[1;33m                 \u001b[0mscrape\u001b[0m\u001b[1;33m(\u001b[0m\u001b[0mwebdir\u001b[0m\u001b[1;33m)\u001b[0m\u001b[1;33m\u001b[0m\u001b[1;33m\u001b[0m\u001b[0m\n\u001b[0m\u001b[0;32m     22\u001b[0m \u001b[1;33m\u001b[0m\u001b[0m\n\u001b[0;32m     23\u001b[0m \u001b[1;31m# main function\u001b[0m\u001b[1;33m\u001b[0m\u001b[1;33m\u001b[0m\u001b[0m\n",
      "\u001b[1;32m~\\AppData\\Local\\Temp/ipykernel_47736/4019084382.py\u001b[0m in \u001b[0;36mscrape\u001b[1;34m(webdir)\u001b[0m\n\u001b[0;32m     19\u001b[0m                 \u001b[0murls\u001b[0m\u001b[1;33m.\u001b[0m\u001b[0mappend\u001b[0m\u001b[1;33m(\u001b[0m\u001b[0mwebdir\u001b[0m\u001b[1;33m)\u001b[0m\u001b[1;33m\u001b[0m\u001b[1;33m\u001b[0m\u001b[0m\n\u001b[0;32m     20\u001b[0m                 \u001b[0mprint\u001b[0m\u001b[1;33m(\u001b[0m\u001b[0mwebdir\u001b[0m\u001b[1;33m)\u001b[0m\u001b[1;33m\u001b[0m\u001b[1;33m\u001b[0m\u001b[0m\n\u001b[1;32m---> 21\u001b[1;33m                 \u001b[0mscrape\u001b[0m\u001b[1;33m(\u001b[0m\u001b[0mwebdir\u001b[0m\u001b[1;33m)\u001b[0m\u001b[1;33m\u001b[0m\u001b[1;33m\u001b[0m\u001b[0m\n\u001b[0m\u001b[0;32m     22\u001b[0m \u001b[1;33m\u001b[0m\u001b[0m\n\u001b[0;32m     23\u001b[0m \u001b[1;31m# main function\u001b[0m\u001b[1;33m\u001b[0m\u001b[1;33m\u001b[0m\u001b[0m\n",
      "\u001b[1;32m~\\AppData\\Local\\Temp/ipykernel_47736/4019084382.py\u001b[0m in \u001b[0;36mscrape\u001b[1;34m(webdir)\u001b[0m\n\u001b[0;32m     19\u001b[0m                 \u001b[0murls\u001b[0m\u001b[1;33m.\u001b[0m\u001b[0mappend\u001b[0m\u001b[1;33m(\u001b[0m\u001b[0mwebdir\u001b[0m\u001b[1;33m)\u001b[0m\u001b[1;33m\u001b[0m\u001b[1;33m\u001b[0m\u001b[0m\n\u001b[0;32m     20\u001b[0m                 \u001b[0mprint\u001b[0m\u001b[1;33m(\u001b[0m\u001b[0mwebdir\u001b[0m\u001b[1;33m)\u001b[0m\u001b[1;33m\u001b[0m\u001b[1;33m\u001b[0m\u001b[0m\n\u001b[1;32m---> 21\u001b[1;33m                 \u001b[0mscrape\u001b[0m\u001b[1;33m(\u001b[0m\u001b[0mwebdir\u001b[0m\u001b[1;33m)\u001b[0m\u001b[1;33m\u001b[0m\u001b[1;33m\u001b[0m\u001b[0m\n\u001b[0m\u001b[0;32m     22\u001b[0m \u001b[1;33m\u001b[0m\u001b[0m\n\u001b[0;32m     23\u001b[0m \u001b[1;31m# main function\u001b[0m\u001b[1;33m\u001b[0m\u001b[1;33m\u001b[0m\u001b[0m\n",
      "\u001b[1;32m~\\AppData\\Local\\Temp/ipykernel_47736/4019084382.py\u001b[0m in \u001b[0;36mscrape\u001b[1;34m(webdir)\u001b[0m\n\u001b[0;32m     19\u001b[0m                 \u001b[0murls\u001b[0m\u001b[1;33m.\u001b[0m\u001b[0mappend\u001b[0m\u001b[1;33m(\u001b[0m\u001b[0mwebdir\u001b[0m\u001b[1;33m)\u001b[0m\u001b[1;33m\u001b[0m\u001b[1;33m\u001b[0m\u001b[0m\n\u001b[0;32m     20\u001b[0m                 \u001b[0mprint\u001b[0m\u001b[1;33m(\u001b[0m\u001b[0mwebdir\u001b[0m\u001b[1;33m)\u001b[0m\u001b[1;33m\u001b[0m\u001b[1;33m\u001b[0m\u001b[0m\n\u001b[1;32m---> 21\u001b[1;33m                 \u001b[0mscrape\u001b[0m\u001b[1;33m(\u001b[0m\u001b[0mwebdir\u001b[0m\u001b[1;33m)\u001b[0m\u001b[1;33m\u001b[0m\u001b[1;33m\u001b[0m\u001b[0m\n\u001b[0m\u001b[0;32m     22\u001b[0m \u001b[1;33m\u001b[0m\u001b[0m\n\u001b[0;32m     23\u001b[0m \u001b[1;31m# main function\u001b[0m\u001b[1;33m\u001b[0m\u001b[1;33m\u001b[0m\u001b[0m\n",
      "\u001b[1;32m~\\AppData\\Local\\Temp/ipykernel_47736/4019084382.py\u001b[0m in \u001b[0;36mscrape\u001b[1;34m(webdir)\u001b[0m\n\u001b[0;32m     19\u001b[0m                 \u001b[0murls\u001b[0m\u001b[1;33m.\u001b[0m\u001b[0mappend\u001b[0m\u001b[1;33m(\u001b[0m\u001b[0mwebdir\u001b[0m\u001b[1;33m)\u001b[0m\u001b[1;33m\u001b[0m\u001b[1;33m\u001b[0m\u001b[0m\n\u001b[0;32m     20\u001b[0m                 \u001b[0mprint\u001b[0m\u001b[1;33m(\u001b[0m\u001b[0mwebdir\u001b[0m\u001b[1;33m)\u001b[0m\u001b[1;33m\u001b[0m\u001b[1;33m\u001b[0m\u001b[0m\n\u001b[1;32m---> 21\u001b[1;33m                 \u001b[0mscrape\u001b[0m\u001b[1;33m(\u001b[0m\u001b[0mwebdir\u001b[0m\u001b[1;33m)\u001b[0m\u001b[1;33m\u001b[0m\u001b[1;33m\u001b[0m\u001b[0m\n\u001b[0m\u001b[0;32m     22\u001b[0m \u001b[1;33m\u001b[0m\u001b[0m\n\u001b[0;32m     23\u001b[0m \u001b[1;31m# main function\u001b[0m\u001b[1;33m\u001b[0m\u001b[1;33m\u001b[0m\u001b[0m\n",
      "\u001b[1;32m~\\AppData\\Local\\Temp/ipykernel_47736/4019084382.py\u001b[0m in \u001b[0;36mscrape\u001b[1;34m(webdir)\u001b[0m\n\u001b[0;32m     19\u001b[0m                 \u001b[0murls\u001b[0m\u001b[1;33m.\u001b[0m\u001b[0mappend\u001b[0m\u001b[1;33m(\u001b[0m\u001b[0mwebdir\u001b[0m\u001b[1;33m)\u001b[0m\u001b[1;33m\u001b[0m\u001b[1;33m\u001b[0m\u001b[0m\n\u001b[0;32m     20\u001b[0m                 \u001b[0mprint\u001b[0m\u001b[1;33m(\u001b[0m\u001b[0mwebdir\u001b[0m\u001b[1;33m)\u001b[0m\u001b[1;33m\u001b[0m\u001b[1;33m\u001b[0m\u001b[0m\n\u001b[1;32m---> 21\u001b[1;33m                 \u001b[0mscrape\u001b[0m\u001b[1;33m(\u001b[0m\u001b[0mwebdir\u001b[0m\u001b[1;33m)\u001b[0m\u001b[1;33m\u001b[0m\u001b[1;33m\u001b[0m\u001b[0m\n\u001b[0m\u001b[0;32m     22\u001b[0m \u001b[1;33m\u001b[0m\u001b[0m\n\u001b[0;32m     23\u001b[0m \u001b[1;31m# main function\u001b[0m\u001b[1;33m\u001b[0m\u001b[1;33m\u001b[0m\u001b[0m\n",
      "\u001b[1;32m~\\AppData\\Local\\Temp/ipykernel_47736/4019084382.py\u001b[0m in \u001b[0;36mscrape\u001b[1;34m(webdir)\u001b[0m\n\u001b[0;32m     19\u001b[0m                 \u001b[0murls\u001b[0m\u001b[1;33m.\u001b[0m\u001b[0mappend\u001b[0m\u001b[1;33m(\u001b[0m\u001b[0mwebdir\u001b[0m\u001b[1;33m)\u001b[0m\u001b[1;33m\u001b[0m\u001b[1;33m\u001b[0m\u001b[0m\n\u001b[0;32m     20\u001b[0m                 \u001b[0mprint\u001b[0m\u001b[1;33m(\u001b[0m\u001b[0mwebdir\u001b[0m\u001b[1;33m)\u001b[0m\u001b[1;33m\u001b[0m\u001b[1;33m\u001b[0m\u001b[0m\n\u001b[1;32m---> 21\u001b[1;33m                 \u001b[0mscrape\u001b[0m\u001b[1;33m(\u001b[0m\u001b[0mwebdir\u001b[0m\u001b[1;33m)\u001b[0m\u001b[1;33m\u001b[0m\u001b[1;33m\u001b[0m\u001b[0m\n\u001b[0m\u001b[0;32m     22\u001b[0m \u001b[1;33m\u001b[0m\u001b[0m\n\u001b[0;32m     23\u001b[0m \u001b[1;31m# main function\u001b[0m\u001b[1;33m\u001b[0m\u001b[1;33m\u001b[0m\u001b[0m\n",
      "\u001b[1;32m~\\AppData\\Local\\Temp/ipykernel_47736/4019084382.py\u001b[0m in \u001b[0;36mscrape\u001b[1;34m(webdir)\u001b[0m\n\u001b[0;32m     19\u001b[0m                 \u001b[0murls\u001b[0m\u001b[1;33m.\u001b[0m\u001b[0mappend\u001b[0m\u001b[1;33m(\u001b[0m\u001b[0mwebdir\u001b[0m\u001b[1;33m)\u001b[0m\u001b[1;33m\u001b[0m\u001b[1;33m\u001b[0m\u001b[0m\n\u001b[0;32m     20\u001b[0m                 \u001b[0mprint\u001b[0m\u001b[1;33m(\u001b[0m\u001b[0mwebdir\u001b[0m\u001b[1;33m)\u001b[0m\u001b[1;33m\u001b[0m\u001b[1;33m\u001b[0m\u001b[0m\n\u001b[1;32m---> 21\u001b[1;33m                 \u001b[0mscrape\u001b[0m\u001b[1;33m(\u001b[0m\u001b[0mwebdir\u001b[0m\u001b[1;33m)\u001b[0m\u001b[1;33m\u001b[0m\u001b[1;33m\u001b[0m\u001b[0m\n\u001b[0m\u001b[0;32m     22\u001b[0m \u001b[1;33m\u001b[0m\u001b[0m\n\u001b[0;32m     23\u001b[0m \u001b[1;31m# main function\u001b[0m\u001b[1;33m\u001b[0m\u001b[1;33m\u001b[0m\u001b[0m\n",
      "\u001b[1;32m~\\AppData\\Local\\Temp/ipykernel_47736/4019084382.py\u001b[0m in \u001b[0;36mscrape\u001b[1;34m(webdir)\u001b[0m\n\u001b[0;32m     19\u001b[0m                 \u001b[0murls\u001b[0m\u001b[1;33m.\u001b[0m\u001b[0mappend\u001b[0m\u001b[1;33m(\u001b[0m\u001b[0mwebdir\u001b[0m\u001b[1;33m)\u001b[0m\u001b[1;33m\u001b[0m\u001b[1;33m\u001b[0m\u001b[0m\n\u001b[0;32m     20\u001b[0m                 \u001b[0mprint\u001b[0m\u001b[1;33m(\u001b[0m\u001b[0mwebdir\u001b[0m\u001b[1;33m)\u001b[0m\u001b[1;33m\u001b[0m\u001b[1;33m\u001b[0m\u001b[0m\n\u001b[1;32m---> 21\u001b[1;33m                 \u001b[0mscrape\u001b[0m\u001b[1;33m(\u001b[0m\u001b[0mwebdir\u001b[0m\u001b[1;33m)\u001b[0m\u001b[1;33m\u001b[0m\u001b[1;33m\u001b[0m\u001b[0m\n\u001b[0m\u001b[0;32m     22\u001b[0m \u001b[1;33m\u001b[0m\u001b[0m\n\u001b[0;32m     23\u001b[0m \u001b[1;31m# main function\u001b[0m\u001b[1;33m\u001b[0m\u001b[1;33m\u001b[0m\u001b[0m\n",
      "\u001b[1;32m~\\AppData\\Local\\Temp/ipykernel_47736/4019084382.py\u001b[0m in \u001b[0;36mscrape\u001b[1;34m(webdir)\u001b[0m\n\u001b[0;32m     19\u001b[0m                 \u001b[0murls\u001b[0m\u001b[1;33m.\u001b[0m\u001b[0mappend\u001b[0m\u001b[1;33m(\u001b[0m\u001b[0mwebdir\u001b[0m\u001b[1;33m)\u001b[0m\u001b[1;33m\u001b[0m\u001b[1;33m\u001b[0m\u001b[0m\n\u001b[0;32m     20\u001b[0m                 \u001b[0mprint\u001b[0m\u001b[1;33m(\u001b[0m\u001b[0mwebdir\u001b[0m\u001b[1;33m)\u001b[0m\u001b[1;33m\u001b[0m\u001b[1;33m\u001b[0m\u001b[0m\n\u001b[1;32m---> 21\u001b[1;33m                 \u001b[0mscrape\u001b[0m\u001b[1;33m(\u001b[0m\u001b[0mwebdir\u001b[0m\u001b[1;33m)\u001b[0m\u001b[1;33m\u001b[0m\u001b[1;33m\u001b[0m\u001b[0m\n\u001b[0m\u001b[0;32m     22\u001b[0m \u001b[1;33m\u001b[0m\u001b[0m\n\u001b[0;32m     23\u001b[0m \u001b[1;31m# main function\u001b[0m\u001b[1;33m\u001b[0m\u001b[1;33m\u001b[0m\u001b[0m\n",
      "\u001b[1;32m~\\AppData\\Local\\Temp/ipykernel_47736/4019084382.py\u001b[0m in \u001b[0;36mscrape\u001b[1;34m(webdir)\u001b[0m\n\u001b[0;32m     19\u001b[0m                 \u001b[0murls\u001b[0m\u001b[1;33m.\u001b[0m\u001b[0mappend\u001b[0m\u001b[1;33m(\u001b[0m\u001b[0mwebdir\u001b[0m\u001b[1;33m)\u001b[0m\u001b[1;33m\u001b[0m\u001b[1;33m\u001b[0m\u001b[0m\n\u001b[0;32m     20\u001b[0m                 \u001b[0mprint\u001b[0m\u001b[1;33m(\u001b[0m\u001b[0mwebdir\u001b[0m\u001b[1;33m)\u001b[0m\u001b[1;33m\u001b[0m\u001b[1;33m\u001b[0m\u001b[0m\n\u001b[1;32m---> 21\u001b[1;33m                 \u001b[0mscrape\u001b[0m\u001b[1;33m(\u001b[0m\u001b[0mwebdir\u001b[0m\u001b[1;33m)\u001b[0m\u001b[1;33m\u001b[0m\u001b[1;33m\u001b[0m\u001b[0m\n\u001b[0m\u001b[0;32m     22\u001b[0m \u001b[1;33m\u001b[0m\u001b[0m\n\u001b[0;32m     23\u001b[0m \u001b[1;31m# main function\u001b[0m\u001b[1;33m\u001b[0m\u001b[1;33m\u001b[0m\u001b[0m\n",
      "\u001b[1;32m~\\AppData\\Local\\Temp/ipykernel_47736/4019084382.py\u001b[0m in \u001b[0;36mscrape\u001b[1;34m(webdir)\u001b[0m\n\u001b[0;32m     19\u001b[0m                 \u001b[0murls\u001b[0m\u001b[1;33m.\u001b[0m\u001b[0mappend\u001b[0m\u001b[1;33m(\u001b[0m\u001b[0mwebdir\u001b[0m\u001b[1;33m)\u001b[0m\u001b[1;33m\u001b[0m\u001b[1;33m\u001b[0m\u001b[0m\n\u001b[0;32m     20\u001b[0m                 \u001b[0mprint\u001b[0m\u001b[1;33m(\u001b[0m\u001b[0mwebdir\u001b[0m\u001b[1;33m)\u001b[0m\u001b[1;33m\u001b[0m\u001b[1;33m\u001b[0m\u001b[0m\n\u001b[1;32m---> 21\u001b[1;33m                 \u001b[0mscrape\u001b[0m\u001b[1;33m(\u001b[0m\u001b[0mwebdir\u001b[0m\u001b[1;33m)\u001b[0m\u001b[1;33m\u001b[0m\u001b[1;33m\u001b[0m\u001b[0m\n\u001b[0m\u001b[0;32m     22\u001b[0m \u001b[1;33m\u001b[0m\u001b[0m\n\u001b[0;32m     23\u001b[0m \u001b[1;31m# main function\u001b[0m\u001b[1;33m\u001b[0m\u001b[1;33m\u001b[0m\u001b[0m\n",
      "\u001b[1;32m~\\AppData\\Local\\Temp/ipykernel_47736/4019084382.py\u001b[0m in \u001b[0;36mscrape\u001b[1;34m(webdir)\u001b[0m\n\u001b[0;32m     19\u001b[0m                 \u001b[0murls\u001b[0m\u001b[1;33m.\u001b[0m\u001b[0mappend\u001b[0m\u001b[1;33m(\u001b[0m\u001b[0mwebdir\u001b[0m\u001b[1;33m)\u001b[0m\u001b[1;33m\u001b[0m\u001b[1;33m\u001b[0m\u001b[0m\n\u001b[0;32m     20\u001b[0m                 \u001b[0mprint\u001b[0m\u001b[1;33m(\u001b[0m\u001b[0mwebdir\u001b[0m\u001b[1;33m)\u001b[0m\u001b[1;33m\u001b[0m\u001b[1;33m\u001b[0m\u001b[0m\n\u001b[1;32m---> 21\u001b[1;33m                 \u001b[0mscrape\u001b[0m\u001b[1;33m(\u001b[0m\u001b[0mwebdir\u001b[0m\u001b[1;33m)\u001b[0m\u001b[1;33m\u001b[0m\u001b[1;33m\u001b[0m\u001b[0m\n\u001b[0m\u001b[0;32m     22\u001b[0m \u001b[1;33m\u001b[0m\u001b[0m\n\u001b[0;32m     23\u001b[0m \u001b[1;31m# main function\u001b[0m\u001b[1;33m\u001b[0m\u001b[1;33m\u001b[0m\u001b[0m\n",
      "\u001b[1;32m~\\AppData\\Local\\Temp/ipykernel_47736/4019084382.py\u001b[0m in \u001b[0;36mscrape\u001b[1;34m(webdir)\u001b[0m\n\u001b[0;32m     19\u001b[0m                 \u001b[0murls\u001b[0m\u001b[1;33m.\u001b[0m\u001b[0mappend\u001b[0m\u001b[1;33m(\u001b[0m\u001b[0mwebdir\u001b[0m\u001b[1;33m)\u001b[0m\u001b[1;33m\u001b[0m\u001b[1;33m\u001b[0m\u001b[0m\n\u001b[0;32m     20\u001b[0m                 \u001b[0mprint\u001b[0m\u001b[1;33m(\u001b[0m\u001b[0mwebdir\u001b[0m\u001b[1;33m)\u001b[0m\u001b[1;33m\u001b[0m\u001b[1;33m\u001b[0m\u001b[0m\n\u001b[1;32m---> 21\u001b[1;33m                 \u001b[0mscrape\u001b[0m\u001b[1;33m(\u001b[0m\u001b[0mwebdir\u001b[0m\u001b[1;33m)\u001b[0m\u001b[1;33m\u001b[0m\u001b[1;33m\u001b[0m\u001b[0m\n\u001b[0m\u001b[0;32m     22\u001b[0m \u001b[1;33m\u001b[0m\u001b[0m\n\u001b[0;32m     23\u001b[0m \u001b[1;31m# main function\u001b[0m\u001b[1;33m\u001b[0m\u001b[1;33m\u001b[0m\u001b[0m\n",
      "\u001b[1;32m~\\AppData\\Local\\Temp/ipykernel_47736/4019084382.py\u001b[0m in \u001b[0;36mscrape\u001b[1;34m(webdir)\u001b[0m\n\u001b[0;32m     19\u001b[0m                 \u001b[0murls\u001b[0m\u001b[1;33m.\u001b[0m\u001b[0mappend\u001b[0m\u001b[1;33m(\u001b[0m\u001b[0mwebdir\u001b[0m\u001b[1;33m)\u001b[0m\u001b[1;33m\u001b[0m\u001b[1;33m\u001b[0m\u001b[0m\n\u001b[0;32m     20\u001b[0m                 \u001b[0mprint\u001b[0m\u001b[1;33m(\u001b[0m\u001b[0mwebdir\u001b[0m\u001b[1;33m)\u001b[0m\u001b[1;33m\u001b[0m\u001b[1;33m\u001b[0m\u001b[0m\n\u001b[1;32m---> 21\u001b[1;33m                 \u001b[0mscrape\u001b[0m\u001b[1;33m(\u001b[0m\u001b[0mwebdir\u001b[0m\u001b[1;33m)\u001b[0m\u001b[1;33m\u001b[0m\u001b[1;33m\u001b[0m\u001b[0m\n\u001b[0m\u001b[0;32m     22\u001b[0m \u001b[1;33m\u001b[0m\u001b[0m\n\u001b[0;32m     23\u001b[0m \u001b[1;31m# main function\u001b[0m\u001b[1;33m\u001b[0m\u001b[1;33m\u001b[0m\u001b[0m\n",
      "\u001b[1;32m~\\AppData\\Local\\Temp/ipykernel_47736/4019084382.py\u001b[0m in \u001b[0;36mscrape\u001b[1;34m(webdir)\u001b[0m\n\u001b[0;32m     19\u001b[0m                 \u001b[0murls\u001b[0m\u001b[1;33m.\u001b[0m\u001b[0mappend\u001b[0m\u001b[1;33m(\u001b[0m\u001b[0mwebdir\u001b[0m\u001b[1;33m)\u001b[0m\u001b[1;33m\u001b[0m\u001b[1;33m\u001b[0m\u001b[0m\n\u001b[0;32m     20\u001b[0m                 \u001b[0mprint\u001b[0m\u001b[1;33m(\u001b[0m\u001b[0mwebdir\u001b[0m\u001b[1;33m)\u001b[0m\u001b[1;33m\u001b[0m\u001b[1;33m\u001b[0m\u001b[0m\n\u001b[1;32m---> 21\u001b[1;33m                 \u001b[0mscrape\u001b[0m\u001b[1;33m(\u001b[0m\u001b[0mwebdir\u001b[0m\u001b[1;33m)\u001b[0m\u001b[1;33m\u001b[0m\u001b[1;33m\u001b[0m\u001b[0m\n\u001b[0m\u001b[0;32m     22\u001b[0m \u001b[1;33m\u001b[0m\u001b[0m\n\u001b[0;32m     23\u001b[0m \u001b[1;31m# main function\u001b[0m\u001b[1;33m\u001b[0m\u001b[1;33m\u001b[0m\u001b[0m\n",
      "\u001b[1;32m~\\AppData\\Local\\Temp/ipykernel_47736/4019084382.py\u001b[0m in \u001b[0;36mscrape\u001b[1;34m(webdir)\u001b[0m\n\u001b[0;32m     19\u001b[0m                 \u001b[0murls\u001b[0m\u001b[1;33m.\u001b[0m\u001b[0mappend\u001b[0m\u001b[1;33m(\u001b[0m\u001b[0mwebdir\u001b[0m\u001b[1;33m)\u001b[0m\u001b[1;33m\u001b[0m\u001b[1;33m\u001b[0m\u001b[0m\n\u001b[0;32m     20\u001b[0m                 \u001b[0mprint\u001b[0m\u001b[1;33m(\u001b[0m\u001b[0mwebdir\u001b[0m\u001b[1;33m)\u001b[0m\u001b[1;33m\u001b[0m\u001b[1;33m\u001b[0m\u001b[0m\n\u001b[1;32m---> 21\u001b[1;33m                 \u001b[0mscrape\u001b[0m\u001b[1;33m(\u001b[0m\u001b[0mwebdir\u001b[0m\u001b[1;33m)\u001b[0m\u001b[1;33m\u001b[0m\u001b[1;33m\u001b[0m\u001b[0m\n\u001b[0m\u001b[0;32m     22\u001b[0m \u001b[1;33m\u001b[0m\u001b[0m\n\u001b[0;32m     23\u001b[0m \u001b[1;31m# main function\u001b[0m\u001b[1;33m\u001b[0m\u001b[1;33m\u001b[0m\u001b[0m\n",
      "\u001b[1;32m~\\AppData\\Local\\Temp/ipykernel_47736/4019084382.py\u001b[0m in \u001b[0;36mscrape\u001b[1;34m(webdir)\u001b[0m\n\u001b[0;32m     19\u001b[0m                 \u001b[0murls\u001b[0m\u001b[1;33m.\u001b[0m\u001b[0mappend\u001b[0m\u001b[1;33m(\u001b[0m\u001b[0mwebdir\u001b[0m\u001b[1;33m)\u001b[0m\u001b[1;33m\u001b[0m\u001b[1;33m\u001b[0m\u001b[0m\n\u001b[0;32m     20\u001b[0m                 \u001b[0mprint\u001b[0m\u001b[1;33m(\u001b[0m\u001b[0mwebdir\u001b[0m\u001b[1;33m)\u001b[0m\u001b[1;33m\u001b[0m\u001b[1;33m\u001b[0m\u001b[0m\n\u001b[1;32m---> 21\u001b[1;33m                 \u001b[0mscrape\u001b[0m\u001b[1;33m(\u001b[0m\u001b[0mwebdir\u001b[0m\u001b[1;33m)\u001b[0m\u001b[1;33m\u001b[0m\u001b[1;33m\u001b[0m\u001b[0m\n\u001b[0m\u001b[0;32m     22\u001b[0m \u001b[1;33m\u001b[0m\u001b[0m\n\u001b[0;32m     23\u001b[0m \u001b[1;31m# main function\u001b[0m\u001b[1;33m\u001b[0m\u001b[1;33m\u001b[0m\u001b[0m\n",
      "\u001b[1;32m~\\AppData\\Local\\Temp/ipykernel_47736/4019084382.py\u001b[0m in \u001b[0;36mscrape\u001b[1;34m(webdir)\u001b[0m\n\u001b[0;32m     19\u001b[0m                 \u001b[0murls\u001b[0m\u001b[1;33m.\u001b[0m\u001b[0mappend\u001b[0m\u001b[1;33m(\u001b[0m\u001b[0mwebdir\u001b[0m\u001b[1;33m)\u001b[0m\u001b[1;33m\u001b[0m\u001b[1;33m\u001b[0m\u001b[0m\n\u001b[0;32m     20\u001b[0m                 \u001b[0mprint\u001b[0m\u001b[1;33m(\u001b[0m\u001b[0mwebdir\u001b[0m\u001b[1;33m)\u001b[0m\u001b[1;33m\u001b[0m\u001b[1;33m\u001b[0m\u001b[0m\n\u001b[1;32m---> 21\u001b[1;33m                 \u001b[0mscrape\u001b[0m\u001b[1;33m(\u001b[0m\u001b[0mwebdir\u001b[0m\u001b[1;33m)\u001b[0m\u001b[1;33m\u001b[0m\u001b[1;33m\u001b[0m\u001b[0m\n\u001b[0m\u001b[0;32m     22\u001b[0m \u001b[1;33m\u001b[0m\u001b[0m\n\u001b[0;32m     23\u001b[0m \u001b[1;31m# main function\u001b[0m\u001b[1;33m\u001b[0m\u001b[1;33m\u001b[0m\u001b[0m\n",
      "\u001b[1;32m~\\AppData\\Local\\Temp/ipykernel_47736/4019084382.py\u001b[0m in \u001b[0;36mscrape\u001b[1;34m(webdir)\u001b[0m\n\u001b[0;32m     19\u001b[0m                 \u001b[0murls\u001b[0m\u001b[1;33m.\u001b[0m\u001b[0mappend\u001b[0m\u001b[1;33m(\u001b[0m\u001b[0mwebdir\u001b[0m\u001b[1;33m)\u001b[0m\u001b[1;33m\u001b[0m\u001b[1;33m\u001b[0m\u001b[0m\n\u001b[0;32m     20\u001b[0m                 \u001b[0mprint\u001b[0m\u001b[1;33m(\u001b[0m\u001b[0mwebdir\u001b[0m\u001b[1;33m)\u001b[0m\u001b[1;33m\u001b[0m\u001b[1;33m\u001b[0m\u001b[0m\n\u001b[1;32m---> 21\u001b[1;33m                 \u001b[0mscrape\u001b[0m\u001b[1;33m(\u001b[0m\u001b[0mwebdir\u001b[0m\u001b[1;33m)\u001b[0m\u001b[1;33m\u001b[0m\u001b[1;33m\u001b[0m\u001b[0m\n\u001b[0m\u001b[0;32m     22\u001b[0m \u001b[1;33m\u001b[0m\u001b[0m\n\u001b[0;32m     23\u001b[0m \u001b[1;31m# main function\u001b[0m\u001b[1;33m\u001b[0m\u001b[1;33m\u001b[0m\u001b[0m\n",
      "\u001b[1;32m~\\AppData\\Local\\Temp/ipykernel_47736/4019084382.py\u001b[0m in \u001b[0;36mscrape\u001b[1;34m(webdir)\u001b[0m\n\u001b[0;32m     19\u001b[0m                 \u001b[0murls\u001b[0m\u001b[1;33m.\u001b[0m\u001b[0mappend\u001b[0m\u001b[1;33m(\u001b[0m\u001b[0mwebdir\u001b[0m\u001b[1;33m)\u001b[0m\u001b[1;33m\u001b[0m\u001b[1;33m\u001b[0m\u001b[0m\n\u001b[0;32m     20\u001b[0m                 \u001b[0mprint\u001b[0m\u001b[1;33m(\u001b[0m\u001b[0mwebdir\u001b[0m\u001b[1;33m)\u001b[0m\u001b[1;33m\u001b[0m\u001b[1;33m\u001b[0m\u001b[0m\n\u001b[1;32m---> 21\u001b[1;33m                 \u001b[0mscrape\u001b[0m\u001b[1;33m(\u001b[0m\u001b[0mwebdir\u001b[0m\u001b[1;33m)\u001b[0m\u001b[1;33m\u001b[0m\u001b[1;33m\u001b[0m\u001b[0m\n\u001b[0m\u001b[0;32m     22\u001b[0m \u001b[1;33m\u001b[0m\u001b[0m\n\u001b[0;32m     23\u001b[0m \u001b[1;31m# main function\u001b[0m\u001b[1;33m\u001b[0m\u001b[1;33m\u001b[0m\u001b[0m\n",
      "\u001b[1;32m~\\AppData\\Local\\Temp/ipykernel_47736/4019084382.py\u001b[0m in \u001b[0;36mscrape\u001b[1;34m(webdir)\u001b[0m\n\u001b[0;32m     19\u001b[0m                 \u001b[0murls\u001b[0m\u001b[1;33m.\u001b[0m\u001b[0mappend\u001b[0m\u001b[1;33m(\u001b[0m\u001b[0mwebdir\u001b[0m\u001b[1;33m)\u001b[0m\u001b[1;33m\u001b[0m\u001b[1;33m\u001b[0m\u001b[0m\n\u001b[0;32m     20\u001b[0m                 \u001b[0mprint\u001b[0m\u001b[1;33m(\u001b[0m\u001b[0mwebdir\u001b[0m\u001b[1;33m)\u001b[0m\u001b[1;33m\u001b[0m\u001b[1;33m\u001b[0m\u001b[0m\n\u001b[1;32m---> 21\u001b[1;33m                 \u001b[0mscrape\u001b[0m\u001b[1;33m(\u001b[0m\u001b[0mwebdir\u001b[0m\u001b[1;33m)\u001b[0m\u001b[1;33m\u001b[0m\u001b[1;33m\u001b[0m\u001b[0m\n\u001b[0m\u001b[0;32m     22\u001b[0m \u001b[1;33m\u001b[0m\u001b[0m\n\u001b[0;32m     23\u001b[0m \u001b[1;31m# main function\u001b[0m\u001b[1;33m\u001b[0m\u001b[1;33m\u001b[0m\u001b[0m\n",
      "\u001b[1;32m~\\AppData\\Local\\Temp/ipykernel_47736/4019084382.py\u001b[0m in \u001b[0;36mscrape\u001b[1;34m(webdir)\u001b[0m\n\u001b[0;32m     19\u001b[0m                 \u001b[0murls\u001b[0m\u001b[1;33m.\u001b[0m\u001b[0mappend\u001b[0m\u001b[1;33m(\u001b[0m\u001b[0mwebdir\u001b[0m\u001b[1;33m)\u001b[0m\u001b[1;33m\u001b[0m\u001b[1;33m\u001b[0m\u001b[0m\n\u001b[0;32m     20\u001b[0m                 \u001b[0mprint\u001b[0m\u001b[1;33m(\u001b[0m\u001b[0mwebdir\u001b[0m\u001b[1;33m)\u001b[0m\u001b[1;33m\u001b[0m\u001b[1;33m\u001b[0m\u001b[0m\n\u001b[1;32m---> 21\u001b[1;33m                 \u001b[0mscrape\u001b[0m\u001b[1;33m(\u001b[0m\u001b[0mwebdir\u001b[0m\u001b[1;33m)\u001b[0m\u001b[1;33m\u001b[0m\u001b[1;33m\u001b[0m\u001b[0m\n\u001b[0m\u001b[0;32m     22\u001b[0m \u001b[1;33m\u001b[0m\u001b[0m\n\u001b[0;32m     23\u001b[0m \u001b[1;31m# main function\u001b[0m\u001b[1;33m\u001b[0m\u001b[1;33m\u001b[0m\u001b[0m\n",
      "\u001b[1;32m~\\AppData\\Local\\Temp/ipykernel_47736/4019084382.py\u001b[0m in \u001b[0;36mscrape\u001b[1;34m(webdir)\u001b[0m\n\u001b[0;32m     19\u001b[0m                 \u001b[0murls\u001b[0m\u001b[1;33m.\u001b[0m\u001b[0mappend\u001b[0m\u001b[1;33m(\u001b[0m\u001b[0mwebdir\u001b[0m\u001b[1;33m)\u001b[0m\u001b[1;33m\u001b[0m\u001b[1;33m\u001b[0m\u001b[0m\n\u001b[0;32m     20\u001b[0m                 \u001b[0mprint\u001b[0m\u001b[1;33m(\u001b[0m\u001b[0mwebdir\u001b[0m\u001b[1;33m)\u001b[0m\u001b[1;33m\u001b[0m\u001b[1;33m\u001b[0m\u001b[0m\n\u001b[1;32m---> 21\u001b[1;33m                 \u001b[0mscrape\u001b[0m\u001b[1;33m(\u001b[0m\u001b[0mwebdir\u001b[0m\u001b[1;33m)\u001b[0m\u001b[1;33m\u001b[0m\u001b[1;33m\u001b[0m\u001b[0m\n\u001b[0m\u001b[0;32m     22\u001b[0m \u001b[1;33m\u001b[0m\u001b[0m\n\u001b[0;32m     23\u001b[0m \u001b[1;31m# main function\u001b[0m\u001b[1;33m\u001b[0m\u001b[1;33m\u001b[0m\u001b[0m\n",
      "\u001b[1;32m~\\AppData\\Local\\Temp/ipykernel_47736/4019084382.py\u001b[0m in \u001b[0;36mscrape\u001b[1;34m(webdir)\u001b[0m\n\u001b[0;32m     19\u001b[0m                 \u001b[0murls\u001b[0m\u001b[1;33m.\u001b[0m\u001b[0mappend\u001b[0m\u001b[1;33m(\u001b[0m\u001b[0mwebdir\u001b[0m\u001b[1;33m)\u001b[0m\u001b[1;33m\u001b[0m\u001b[1;33m\u001b[0m\u001b[0m\n\u001b[0;32m     20\u001b[0m                 \u001b[0mprint\u001b[0m\u001b[1;33m(\u001b[0m\u001b[0mwebdir\u001b[0m\u001b[1;33m)\u001b[0m\u001b[1;33m\u001b[0m\u001b[1;33m\u001b[0m\u001b[0m\n\u001b[1;32m---> 21\u001b[1;33m                 \u001b[0mscrape\u001b[0m\u001b[1;33m(\u001b[0m\u001b[0mwebdir\u001b[0m\u001b[1;33m)\u001b[0m\u001b[1;33m\u001b[0m\u001b[1;33m\u001b[0m\u001b[0m\n\u001b[0m\u001b[0;32m     22\u001b[0m \u001b[1;33m\u001b[0m\u001b[0m\n\u001b[0;32m     23\u001b[0m \u001b[1;31m# main function\u001b[0m\u001b[1;33m\u001b[0m\u001b[1;33m\u001b[0m\u001b[0m\n",
      "\u001b[1;32m~\\AppData\\Local\\Temp/ipykernel_47736/4019084382.py\u001b[0m in \u001b[0;36mscrape\u001b[1;34m(webdir)\u001b[0m\n\u001b[0;32m     19\u001b[0m                 \u001b[0murls\u001b[0m\u001b[1;33m.\u001b[0m\u001b[0mappend\u001b[0m\u001b[1;33m(\u001b[0m\u001b[0mwebdir\u001b[0m\u001b[1;33m)\u001b[0m\u001b[1;33m\u001b[0m\u001b[1;33m\u001b[0m\u001b[0m\n\u001b[0;32m     20\u001b[0m                 \u001b[0mprint\u001b[0m\u001b[1;33m(\u001b[0m\u001b[0mwebdir\u001b[0m\u001b[1;33m)\u001b[0m\u001b[1;33m\u001b[0m\u001b[1;33m\u001b[0m\u001b[0m\n\u001b[1;32m---> 21\u001b[1;33m                 \u001b[0mscrape\u001b[0m\u001b[1;33m(\u001b[0m\u001b[0mwebdir\u001b[0m\u001b[1;33m)\u001b[0m\u001b[1;33m\u001b[0m\u001b[1;33m\u001b[0m\u001b[0m\n\u001b[0m\u001b[0;32m     22\u001b[0m \u001b[1;33m\u001b[0m\u001b[0m\n\u001b[0;32m     23\u001b[0m \u001b[1;31m# main function\u001b[0m\u001b[1;33m\u001b[0m\u001b[1;33m\u001b[0m\u001b[0m\n",
      "\u001b[1;32m~\\AppData\\Local\\Temp/ipykernel_47736/4019084382.py\u001b[0m in \u001b[0;36mscrape\u001b[1;34m(webdir)\u001b[0m\n\u001b[0;32m     19\u001b[0m                 \u001b[0murls\u001b[0m\u001b[1;33m.\u001b[0m\u001b[0mappend\u001b[0m\u001b[1;33m(\u001b[0m\u001b[0mwebdir\u001b[0m\u001b[1;33m)\u001b[0m\u001b[1;33m\u001b[0m\u001b[1;33m\u001b[0m\u001b[0m\n\u001b[0;32m     20\u001b[0m                 \u001b[0mprint\u001b[0m\u001b[1;33m(\u001b[0m\u001b[0mwebdir\u001b[0m\u001b[1;33m)\u001b[0m\u001b[1;33m\u001b[0m\u001b[1;33m\u001b[0m\u001b[0m\n\u001b[1;32m---> 21\u001b[1;33m                 \u001b[0mscrape\u001b[0m\u001b[1;33m(\u001b[0m\u001b[0mwebdir\u001b[0m\u001b[1;33m)\u001b[0m\u001b[1;33m\u001b[0m\u001b[1;33m\u001b[0m\u001b[0m\n\u001b[0m\u001b[0;32m     22\u001b[0m \u001b[1;33m\u001b[0m\u001b[0m\n\u001b[0;32m     23\u001b[0m \u001b[1;31m# main function\u001b[0m\u001b[1;33m\u001b[0m\u001b[1;33m\u001b[0m\u001b[0m\n",
      "\u001b[1;32m~\\AppData\\Local\\Temp/ipykernel_47736/4019084382.py\u001b[0m in \u001b[0;36mscrape\u001b[1;34m(webdir)\u001b[0m\n\u001b[0;32m     19\u001b[0m                 \u001b[0murls\u001b[0m\u001b[1;33m.\u001b[0m\u001b[0mappend\u001b[0m\u001b[1;33m(\u001b[0m\u001b[0mwebdir\u001b[0m\u001b[1;33m)\u001b[0m\u001b[1;33m\u001b[0m\u001b[1;33m\u001b[0m\u001b[0m\n\u001b[0;32m     20\u001b[0m                 \u001b[0mprint\u001b[0m\u001b[1;33m(\u001b[0m\u001b[0mwebdir\u001b[0m\u001b[1;33m)\u001b[0m\u001b[1;33m\u001b[0m\u001b[1;33m\u001b[0m\u001b[0m\n\u001b[1;32m---> 21\u001b[1;33m                 \u001b[0mscrape\u001b[0m\u001b[1;33m(\u001b[0m\u001b[0mwebdir\u001b[0m\u001b[1;33m)\u001b[0m\u001b[1;33m\u001b[0m\u001b[1;33m\u001b[0m\u001b[0m\n\u001b[0m\u001b[0;32m     22\u001b[0m \u001b[1;33m\u001b[0m\u001b[0m\n\u001b[0;32m     23\u001b[0m \u001b[1;31m# main function\u001b[0m\u001b[1;33m\u001b[0m\u001b[1;33m\u001b[0m\u001b[0m\n",
      "\u001b[1;32m~\\AppData\\Local\\Temp/ipykernel_47736/4019084382.py\u001b[0m in \u001b[0;36mscrape\u001b[1;34m(webdir)\u001b[0m\n\u001b[0;32m     19\u001b[0m                 \u001b[0murls\u001b[0m\u001b[1;33m.\u001b[0m\u001b[0mappend\u001b[0m\u001b[1;33m(\u001b[0m\u001b[0mwebdir\u001b[0m\u001b[1;33m)\u001b[0m\u001b[1;33m\u001b[0m\u001b[1;33m\u001b[0m\u001b[0m\n\u001b[0;32m     20\u001b[0m                 \u001b[0mprint\u001b[0m\u001b[1;33m(\u001b[0m\u001b[0mwebdir\u001b[0m\u001b[1;33m)\u001b[0m\u001b[1;33m\u001b[0m\u001b[1;33m\u001b[0m\u001b[0m\n\u001b[1;32m---> 21\u001b[1;33m                 \u001b[0mscrape\u001b[0m\u001b[1;33m(\u001b[0m\u001b[0mwebdir\u001b[0m\u001b[1;33m)\u001b[0m\u001b[1;33m\u001b[0m\u001b[1;33m\u001b[0m\u001b[0m\n\u001b[0m\u001b[0;32m     22\u001b[0m \u001b[1;33m\u001b[0m\u001b[0m\n\u001b[0;32m     23\u001b[0m \u001b[1;31m# main function\u001b[0m\u001b[1;33m\u001b[0m\u001b[1;33m\u001b[0m\u001b[0m\n",
      "\u001b[1;32m~\\AppData\\Local\\Temp/ipykernel_47736/4019084382.py\u001b[0m in \u001b[0;36mscrape\u001b[1;34m(webdir)\u001b[0m\n\u001b[0;32m     19\u001b[0m                 \u001b[0murls\u001b[0m\u001b[1;33m.\u001b[0m\u001b[0mappend\u001b[0m\u001b[1;33m(\u001b[0m\u001b[0mwebdir\u001b[0m\u001b[1;33m)\u001b[0m\u001b[1;33m\u001b[0m\u001b[1;33m\u001b[0m\u001b[0m\n\u001b[0;32m     20\u001b[0m                 \u001b[0mprint\u001b[0m\u001b[1;33m(\u001b[0m\u001b[0mwebdir\u001b[0m\u001b[1;33m)\u001b[0m\u001b[1;33m\u001b[0m\u001b[1;33m\u001b[0m\u001b[0m\n\u001b[1;32m---> 21\u001b[1;33m                 \u001b[0mscrape\u001b[0m\u001b[1;33m(\u001b[0m\u001b[0mwebdir\u001b[0m\u001b[1;33m)\u001b[0m\u001b[1;33m\u001b[0m\u001b[1;33m\u001b[0m\u001b[0m\n\u001b[0m\u001b[0;32m     22\u001b[0m \u001b[1;33m\u001b[0m\u001b[0m\n\u001b[0;32m     23\u001b[0m \u001b[1;31m# main function\u001b[0m\u001b[1;33m\u001b[0m\u001b[1;33m\u001b[0m\u001b[0m\n",
      "\u001b[1;32m~\\AppData\\Local\\Temp/ipykernel_47736/4019084382.py\u001b[0m in \u001b[0;36mscrape\u001b[1;34m(webdir)\u001b[0m\n\u001b[0;32m     19\u001b[0m                 \u001b[0murls\u001b[0m\u001b[1;33m.\u001b[0m\u001b[0mappend\u001b[0m\u001b[1;33m(\u001b[0m\u001b[0mwebdir\u001b[0m\u001b[1;33m)\u001b[0m\u001b[1;33m\u001b[0m\u001b[1;33m\u001b[0m\u001b[0m\n\u001b[0;32m     20\u001b[0m                 \u001b[0mprint\u001b[0m\u001b[1;33m(\u001b[0m\u001b[0mwebdir\u001b[0m\u001b[1;33m)\u001b[0m\u001b[1;33m\u001b[0m\u001b[1;33m\u001b[0m\u001b[0m\n\u001b[1;32m---> 21\u001b[1;33m                 \u001b[0mscrape\u001b[0m\u001b[1;33m(\u001b[0m\u001b[0mwebdir\u001b[0m\u001b[1;33m)\u001b[0m\u001b[1;33m\u001b[0m\u001b[1;33m\u001b[0m\u001b[0m\n\u001b[0m\u001b[0;32m     22\u001b[0m \u001b[1;33m\u001b[0m\u001b[0m\n\u001b[0;32m     23\u001b[0m \u001b[1;31m# main function\u001b[0m\u001b[1;33m\u001b[0m\u001b[1;33m\u001b[0m\u001b[0m\n",
      "\u001b[1;32m~\\AppData\\Local\\Temp/ipykernel_47736/4019084382.py\u001b[0m in \u001b[0;36mscrape\u001b[1;34m(webdir)\u001b[0m\n\u001b[0;32m     19\u001b[0m                 \u001b[0murls\u001b[0m\u001b[1;33m.\u001b[0m\u001b[0mappend\u001b[0m\u001b[1;33m(\u001b[0m\u001b[0mwebdir\u001b[0m\u001b[1;33m)\u001b[0m\u001b[1;33m\u001b[0m\u001b[1;33m\u001b[0m\u001b[0m\n\u001b[0;32m     20\u001b[0m                 \u001b[0mprint\u001b[0m\u001b[1;33m(\u001b[0m\u001b[0mwebdir\u001b[0m\u001b[1;33m)\u001b[0m\u001b[1;33m\u001b[0m\u001b[1;33m\u001b[0m\u001b[0m\n\u001b[1;32m---> 21\u001b[1;33m                 \u001b[0mscrape\u001b[0m\u001b[1;33m(\u001b[0m\u001b[0mwebdir\u001b[0m\u001b[1;33m)\u001b[0m\u001b[1;33m\u001b[0m\u001b[1;33m\u001b[0m\u001b[0m\n\u001b[0m\u001b[0;32m     22\u001b[0m \u001b[1;33m\u001b[0m\u001b[0m\n\u001b[0;32m     23\u001b[0m \u001b[1;31m# main function\u001b[0m\u001b[1;33m\u001b[0m\u001b[1;33m\u001b[0m\u001b[0m\n",
      "\u001b[1;32m~\\AppData\\Local\\Temp/ipykernel_47736/4019084382.py\u001b[0m in \u001b[0;36mscrape\u001b[1;34m(webdir)\u001b[0m\n\u001b[0;32m     19\u001b[0m                 \u001b[0murls\u001b[0m\u001b[1;33m.\u001b[0m\u001b[0mappend\u001b[0m\u001b[1;33m(\u001b[0m\u001b[0mwebdir\u001b[0m\u001b[1;33m)\u001b[0m\u001b[1;33m\u001b[0m\u001b[1;33m\u001b[0m\u001b[0m\n\u001b[0;32m     20\u001b[0m                 \u001b[0mprint\u001b[0m\u001b[1;33m(\u001b[0m\u001b[0mwebdir\u001b[0m\u001b[1;33m)\u001b[0m\u001b[1;33m\u001b[0m\u001b[1;33m\u001b[0m\u001b[0m\n\u001b[1;32m---> 21\u001b[1;33m                 \u001b[0mscrape\u001b[0m\u001b[1;33m(\u001b[0m\u001b[0mwebdir\u001b[0m\u001b[1;33m)\u001b[0m\u001b[1;33m\u001b[0m\u001b[1;33m\u001b[0m\u001b[0m\n\u001b[0m\u001b[0;32m     22\u001b[0m \u001b[1;33m\u001b[0m\u001b[0m\n\u001b[0;32m     23\u001b[0m \u001b[1;31m# main function\u001b[0m\u001b[1;33m\u001b[0m\u001b[1;33m\u001b[0m\u001b[0m\n",
      "\u001b[1;32m~\\AppData\\Local\\Temp/ipykernel_47736/4019084382.py\u001b[0m in \u001b[0;36mscrape\u001b[1;34m(webdir)\u001b[0m\n\u001b[0;32m     19\u001b[0m                 \u001b[0murls\u001b[0m\u001b[1;33m.\u001b[0m\u001b[0mappend\u001b[0m\u001b[1;33m(\u001b[0m\u001b[0mwebdir\u001b[0m\u001b[1;33m)\u001b[0m\u001b[1;33m\u001b[0m\u001b[1;33m\u001b[0m\u001b[0m\n\u001b[0;32m     20\u001b[0m                 \u001b[0mprint\u001b[0m\u001b[1;33m(\u001b[0m\u001b[0mwebdir\u001b[0m\u001b[1;33m)\u001b[0m\u001b[1;33m\u001b[0m\u001b[1;33m\u001b[0m\u001b[0m\n\u001b[1;32m---> 21\u001b[1;33m                 \u001b[0mscrape\u001b[0m\u001b[1;33m(\u001b[0m\u001b[0mwebdir\u001b[0m\u001b[1;33m)\u001b[0m\u001b[1;33m\u001b[0m\u001b[1;33m\u001b[0m\u001b[0m\n\u001b[0m\u001b[0;32m     22\u001b[0m \u001b[1;33m\u001b[0m\u001b[0m\n\u001b[0;32m     23\u001b[0m \u001b[1;31m# main function\u001b[0m\u001b[1;33m\u001b[0m\u001b[1;33m\u001b[0m\u001b[0m\n",
      "\u001b[1;32m~\\AppData\\Local\\Temp/ipykernel_47736/4019084382.py\u001b[0m in \u001b[0;36mscrape\u001b[1;34m(webdir)\u001b[0m\n\u001b[0;32m     19\u001b[0m                 \u001b[0murls\u001b[0m\u001b[1;33m.\u001b[0m\u001b[0mappend\u001b[0m\u001b[1;33m(\u001b[0m\u001b[0mwebdir\u001b[0m\u001b[1;33m)\u001b[0m\u001b[1;33m\u001b[0m\u001b[1;33m\u001b[0m\u001b[0m\n\u001b[0;32m     20\u001b[0m                 \u001b[0mprint\u001b[0m\u001b[1;33m(\u001b[0m\u001b[0mwebdir\u001b[0m\u001b[1;33m)\u001b[0m\u001b[1;33m\u001b[0m\u001b[1;33m\u001b[0m\u001b[0m\n\u001b[1;32m---> 21\u001b[1;33m                 \u001b[0mscrape\u001b[0m\u001b[1;33m(\u001b[0m\u001b[0mwebdir\u001b[0m\u001b[1;33m)\u001b[0m\u001b[1;33m\u001b[0m\u001b[1;33m\u001b[0m\u001b[0m\n\u001b[0m\u001b[0;32m     22\u001b[0m \u001b[1;33m\u001b[0m\u001b[0m\n\u001b[0;32m     23\u001b[0m \u001b[1;31m# main function\u001b[0m\u001b[1;33m\u001b[0m\u001b[1;33m\u001b[0m\u001b[0m\n",
      "\u001b[1;32m~\\AppData\\Local\\Temp/ipykernel_47736/4019084382.py\u001b[0m in \u001b[0;36mscrape\u001b[1;34m(webdir)\u001b[0m\n\u001b[0;32m     19\u001b[0m                 \u001b[0murls\u001b[0m\u001b[1;33m.\u001b[0m\u001b[0mappend\u001b[0m\u001b[1;33m(\u001b[0m\u001b[0mwebdir\u001b[0m\u001b[1;33m)\u001b[0m\u001b[1;33m\u001b[0m\u001b[1;33m\u001b[0m\u001b[0m\n\u001b[0;32m     20\u001b[0m                 \u001b[0mprint\u001b[0m\u001b[1;33m(\u001b[0m\u001b[0mwebdir\u001b[0m\u001b[1;33m)\u001b[0m\u001b[1;33m\u001b[0m\u001b[1;33m\u001b[0m\u001b[0m\n\u001b[1;32m---> 21\u001b[1;33m                 \u001b[0mscrape\u001b[0m\u001b[1;33m(\u001b[0m\u001b[0mwebdir\u001b[0m\u001b[1;33m)\u001b[0m\u001b[1;33m\u001b[0m\u001b[1;33m\u001b[0m\u001b[0m\n\u001b[0m\u001b[0;32m     22\u001b[0m \u001b[1;33m\u001b[0m\u001b[0m\n\u001b[0;32m     23\u001b[0m \u001b[1;31m# main function\u001b[0m\u001b[1;33m\u001b[0m\u001b[1;33m\u001b[0m\u001b[0m\n",
      "\u001b[1;32m~\\AppData\\Local\\Temp/ipykernel_47736/4019084382.py\u001b[0m in \u001b[0;36mscrape\u001b[1;34m(webdir)\u001b[0m\n\u001b[0;32m     19\u001b[0m                 \u001b[0murls\u001b[0m\u001b[1;33m.\u001b[0m\u001b[0mappend\u001b[0m\u001b[1;33m(\u001b[0m\u001b[0mwebdir\u001b[0m\u001b[1;33m)\u001b[0m\u001b[1;33m\u001b[0m\u001b[1;33m\u001b[0m\u001b[0m\n\u001b[0;32m     20\u001b[0m                 \u001b[0mprint\u001b[0m\u001b[1;33m(\u001b[0m\u001b[0mwebdir\u001b[0m\u001b[1;33m)\u001b[0m\u001b[1;33m\u001b[0m\u001b[1;33m\u001b[0m\u001b[0m\n\u001b[1;32m---> 21\u001b[1;33m                 \u001b[0mscrape\u001b[0m\u001b[1;33m(\u001b[0m\u001b[0mwebdir\u001b[0m\u001b[1;33m)\u001b[0m\u001b[1;33m\u001b[0m\u001b[1;33m\u001b[0m\u001b[0m\n\u001b[0m\u001b[0;32m     22\u001b[0m \u001b[1;33m\u001b[0m\u001b[0m\n\u001b[0;32m     23\u001b[0m \u001b[1;31m# main function\u001b[0m\u001b[1;33m\u001b[0m\u001b[1;33m\u001b[0m\u001b[0m\n",
      "\u001b[1;32m~\\AppData\\Local\\Temp/ipykernel_47736/4019084382.py\u001b[0m in \u001b[0;36mscrape\u001b[1;34m(webdir)\u001b[0m\n\u001b[0;32m     19\u001b[0m                 \u001b[0murls\u001b[0m\u001b[1;33m.\u001b[0m\u001b[0mappend\u001b[0m\u001b[1;33m(\u001b[0m\u001b[0mwebdir\u001b[0m\u001b[1;33m)\u001b[0m\u001b[1;33m\u001b[0m\u001b[1;33m\u001b[0m\u001b[0m\n\u001b[0;32m     20\u001b[0m                 \u001b[0mprint\u001b[0m\u001b[1;33m(\u001b[0m\u001b[0mwebdir\u001b[0m\u001b[1;33m)\u001b[0m\u001b[1;33m\u001b[0m\u001b[1;33m\u001b[0m\u001b[0m\n\u001b[1;32m---> 21\u001b[1;33m                 \u001b[0mscrape\u001b[0m\u001b[1;33m(\u001b[0m\u001b[0mwebdir\u001b[0m\u001b[1;33m)\u001b[0m\u001b[1;33m\u001b[0m\u001b[1;33m\u001b[0m\u001b[0m\n\u001b[0m\u001b[0;32m     22\u001b[0m \u001b[1;33m\u001b[0m\u001b[0m\n\u001b[0;32m     23\u001b[0m \u001b[1;31m# main function\u001b[0m\u001b[1;33m\u001b[0m\u001b[1;33m\u001b[0m\u001b[0m\n",
      "\u001b[1;32m~\\AppData\\Local\\Temp/ipykernel_47736/4019084382.py\u001b[0m in \u001b[0;36mscrape\u001b[1;34m(webdir)\u001b[0m\n\u001b[0;32m     19\u001b[0m                 \u001b[0murls\u001b[0m\u001b[1;33m.\u001b[0m\u001b[0mappend\u001b[0m\u001b[1;33m(\u001b[0m\u001b[0mwebdir\u001b[0m\u001b[1;33m)\u001b[0m\u001b[1;33m\u001b[0m\u001b[1;33m\u001b[0m\u001b[0m\n\u001b[0;32m     20\u001b[0m                 \u001b[0mprint\u001b[0m\u001b[1;33m(\u001b[0m\u001b[0mwebdir\u001b[0m\u001b[1;33m)\u001b[0m\u001b[1;33m\u001b[0m\u001b[1;33m\u001b[0m\u001b[0m\n\u001b[1;32m---> 21\u001b[1;33m                 \u001b[0mscrape\u001b[0m\u001b[1;33m(\u001b[0m\u001b[0mwebdir\u001b[0m\u001b[1;33m)\u001b[0m\u001b[1;33m\u001b[0m\u001b[1;33m\u001b[0m\u001b[0m\n\u001b[0m\u001b[0;32m     22\u001b[0m \u001b[1;33m\u001b[0m\u001b[0m\n\u001b[0;32m     23\u001b[0m \u001b[1;31m# main function\u001b[0m\u001b[1;33m\u001b[0m\u001b[1;33m\u001b[0m\u001b[0m\n",
      "\u001b[1;32m~\\AppData\\Local\\Temp/ipykernel_47736/4019084382.py\u001b[0m in \u001b[0;36mscrape\u001b[1;34m(webdir)\u001b[0m\n\u001b[0;32m     19\u001b[0m                 \u001b[0murls\u001b[0m\u001b[1;33m.\u001b[0m\u001b[0mappend\u001b[0m\u001b[1;33m(\u001b[0m\u001b[0mwebdir\u001b[0m\u001b[1;33m)\u001b[0m\u001b[1;33m\u001b[0m\u001b[1;33m\u001b[0m\u001b[0m\n\u001b[0;32m     20\u001b[0m                 \u001b[0mprint\u001b[0m\u001b[1;33m(\u001b[0m\u001b[0mwebdir\u001b[0m\u001b[1;33m)\u001b[0m\u001b[1;33m\u001b[0m\u001b[1;33m\u001b[0m\u001b[0m\n\u001b[1;32m---> 21\u001b[1;33m                 \u001b[0mscrape\u001b[0m\u001b[1;33m(\u001b[0m\u001b[0mwebdir\u001b[0m\u001b[1;33m)\u001b[0m\u001b[1;33m\u001b[0m\u001b[1;33m\u001b[0m\u001b[0m\n\u001b[0m\u001b[0;32m     22\u001b[0m \u001b[1;33m\u001b[0m\u001b[0m\n\u001b[0;32m     23\u001b[0m \u001b[1;31m# main function\u001b[0m\u001b[1;33m\u001b[0m\u001b[1;33m\u001b[0m\u001b[0m\n",
      "\u001b[1;32m~\\AppData\\Local\\Temp/ipykernel_47736/4019084382.py\u001b[0m in \u001b[0;36mscrape\u001b[1;34m(webdir)\u001b[0m\n\u001b[0;32m     19\u001b[0m                 \u001b[0murls\u001b[0m\u001b[1;33m.\u001b[0m\u001b[0mappend\u001b[0m\u001b[1;33m(\u001b[0m\u001b[0mwebdir\u001b[0m\u001b[1;33m)\u001b[0m\u001b[1;33m\u001b[0m\u001b[1;33m\u001b[0m\u001b[0m\n\u001b[0;32m     20\u001b[0m                 \u001b[0mprint\u001b[0m\u001b[1;33m(\u001b[0m\u001b[0mwebdir\u001b[0m\u001b[1;33m)\u001b[0m\u001b[1;33m\u001b[0m\u001b[1;33m\u001b[0m\u001b[0m\n\u001b[1;32m---> 21\u001b[1;33m                 \u001b[0mscrape\u001b[0m\u001b[1;33m(\u001b[0m\u001b[0mwebdir\u001b[0m\u001b[1;33m)\u001b[0m\u001b[1;33m\u001b[0m\u001b[1;33m\u001b[0m\u001b[0m\n\u001b[0m\u001b[0;32m     22\u001b[0m \u001b[1;33m\u001b[0m\u001b[0m\n\u001b[0;32m     23\u001b[0m \u001b[1;31m# main function\u001b[0m\u001b[1;33m\u001b[0m\u001b[1;33m\u001b[0m\u001b[0m\n",
      "\u001b[1;32m~\\AppData\\Local\\Temp/ipykernel_47736/4019084382.py\u001b[0m in \u001b[0;36mscrape\u001b[1;34m(webdir)\u001b[0m\n\u001b[0;32m     19\u001b[0m                 \u001b[0murls\u001b[0m\u001b[1;33m.\u001b[0m\u001b[0mappend\u001b[0m\u001b[1;33m(\u001b[0m\u001b[0mwebdir\u001b[0m\u001b[1;33m)\u001b[0m\u001b[1;33m\u001b[0m\u001b[1;33m\u001b[0m\u001b[0m\n\u001b[0;32m     20\u001b[0m                 \u001b[0mprint\u001b[0m\u001b[1;33m(\u001b[0m\u001b[0mwebdir\u001b[0m\u001b[1;33m)\u001b[0m\u001b[1;33m\u001b[0m\u001b[1;33m\u001b[0m\u001b[0m\n\u001b[1;32m---> 21\u001b[1;33m                 \u001b[0mscrape\u001b[0m\u001b[1;33m(\u001b[0m\u001b[0mwebdir\u001b[0m\u001b[1;33m)\u001b[0m\u001b[1;33m\u001b[0m\u001b[1;33m\u001b[0m\u001b[0m\n\u001b[0m\u001b[0;32m     22\u001b[0m \u001b[1;33m\u001b[0m\u001b[0m\n\u001b[0;32m     23\u001b[0m \u001b[1;31m# main function\u001b[0m\u001b[1;33m\u001b[0m\u001b[1;33m\u001b[0m\u001b[0m\n",
      "\u001b[1;32m~\\AppData\\Local\\Temp/ipykernel_47736/4019084382.py\u001b[0m in \u001b[0;36mscrape\u001b[1;34m(webdir)\u001b[0m\n\u001b[0;32m     19\u001b[0m                 \u001b[0murls\u001b[0m\u001b[1;33m.\u001b[0m\u001b[0mappend\u001b[0m\u001b[1;33m(\u001b[0m\u001b[0mwebdir\u001b[0m\u001b[1;33m)\u001b[0m\u001b[1;33m\u001b[0m\u001b[1;33m\u001b[0m\u001b[0m\n\u001b[0;32m     20\u001b[0m                 \u001b[0mprint\u001b[0m\u001b[1;33m(\u001b[0m\u001b[0mwebdir\u001b[0m\u001b[1;33m)\u001b[0m\u001b[1;33m\u001b[0m\u001b[1;33m\u001b[0m\u001b[0m\n\u001b[1;32m---> 21\u001b[1;33m                 \u001b[0mscrape\u001b[0m\u001b[1;33m(\u001b[0m\u001b[0mwebdir\u001b[0m\u001b[1;33m)\u001b[0m\u001b[1;33m\u001b[0m\u001b[1;33m\u001b[0m\u001b[0m\n\u001b[0m\u001b[0;32m     22\u001b[0m \u001b[1;33m\u001b[0m\u001b[0m\n\u001b[0;32m     23\u001b[0m \u001b[1;31m# main function\u001b[0m\u001b[1;33m\u001b[0m\u001b[1;33m\u001b[0m\u001b[0m\n",
      "\u001b[1;32m~\\AppData\\Local\\Temp/ipykernel_47736/4019084382.py\u001b[0m in \u001b[0;36mscrape\u001b[1;34m(webdir)\u001b[0m\n\u001b[0;32m     19\u001b[0m                 \u001b[0murls\u001b[0m\u001b[1;33m.\u001b[0m\u001b[0mappend\u001b[0m\u001b[1;33m(\u001b[0m\u001b[0mwebdir\u001b[0m\u001b[1;33m)\u001b[0m\u001b[1;33m\u001b[0m\u001b[1;33m\u001b[0m\u001b[0m\n\u001b[0;32m     20\u001b[0m                 \u001b[0mprint\u001b[0m\u001b[1;33m(\u001b[0m\u001b[0mwebdir\u001b[0m\u001b[1;33m)\u001b[0m\u001b[1;33m\u001b[0m\u001b[1;33m\u001b[0m\u001b[0m\n\u001b[1;32m---> 21\u001b[1;33m                 \u001b[0mscrape\u001b[0m\u001b[1;33m(\u001b[0m\u001b[0mwebdir\u001b[0m\u001b[1;33m)\u001b[0m\u001b[1;33m\u001b[0m\u001b[1;33m\u001b[0m\u001b[0m\n\u001b[0m\u001b[0;32m     22\u001b[0m \u001b[1;33m\u001b[0m\u001b[0m\n\u001b[0;32m     23\u001b[0m \u001b[1;31m# main function\u001b[0m\u001b[1;33m\u001b[0m\u001b[1;33m\u001b[0m\u001b[0m\n",
      "\u001b[1;32m~\\AppData\\Local\\Temp/ipykernel_47736/4019084382.py\u001b[0m in \u001b[0;36mscrape\u001b[1;34m(webdir)\u001b[0m\n\u001b[0;32m     19\u001b[0m                 \u001b[0murls\u001b[0m\u001b[1;33m.\u001b[0m\u001b[0mappend\u001b[0m\u001b[1;33m(\u001b[0m\u001b[0mwebdir\u001b[0m\u001b[1;33m)\u001b[0m\u001b[1;33m\u001b[0m\u001b[1;33m\u001b[0m\u001b[0m\n\u001b[0;32m     20\u001b[0m                 \u001b[0mprint\u001b[0m\u001b[1;33m(\u001b[0m\u001b[0mwebdir\u001b[0m\u001b[1;33m)\u001b[0m\u001b[1;33m\u001b[0m\u001b[1;33m\u001b[0m\u001b[0m\n\u001b[1;32m---> 21\u001b[1;33m                 \u001b[0mscrape\u001b[0m\u001b[1;33m(\u001b[0m\u001b[0mwebdir\u001b[0m\u001b[1;33m)\u001b[0m\u001b[1;33m\u001b[0m\u001b[1;33m\u001b[0m\u001b[0m\n\u001b[0m\u001b[0;32m     22\u001b[0m \u001b[1;33m\u001b[0m\u001b[0m\n\u001b[0;32m     23\u001b[0m \u001b[1;31m# main function\u001b[0m\u001b[1;33m\u001b[0m\u001b[1;33m\u001b[0m\u001b[0m\n",
      "\u001b[1;32m~\\AppData\\Local\\Temp/ipykernel_47736/4019084382.py\u001b[0m in \u001b[0;36mscrape\u001b[1;34m(webdir)\u001b[0m\n\u001b[0;32m     19\u001b[0m                 \u001b[0murls\u001b[0m\u001b[1;33m.\u001b[0m\u001b[0mappend\u001b[0m\u001b[1;33m(\u001b[0m\u001b[0mwebdir\u001b[0m\u001b[1;33m)\u001b[0m\u001b[1;33m\u001b[0m\u001b[1;33m\u001b[0m\u001b[0m\n\u001b[0;32m     20\u001b[0m                 \u001b[0mprint\u001b[0m\u001b[1;33m(\u001b[0m\u001b[0mwebdir\u001b[0m\u001b[1;33m)\u001b[0m\u001b[1;33m\u001b[0m\u001b[1;33m\u001b[0m\u001b[0m\n\u001b[1;32m---> 21\u001b[1;33m                 \u001b[0mscrape\u001b[0m\u001b[1;33m(\u001b[0m\u001b[0mwebdir\u001b[0m\u001b[1;33m)\u001b[0m\u001b[1;33m\u001b[0m\u001b[1;33m\u001b[0m\u001b[0m\n\u001b[0m\u001b[0;32m     22\u001b[0m \u001b[1;33m\u001b[0m\u001b[0m\n\u001b[0;32m     23\u001b[0m \u001b[1;31m# main function\u001b[0m\u001b[1;33m\u001b[0m\u001b[1;33m\u001b[0m\u001b[0m\n",
      "\u001b[1;32m~\\AppData\\Local\\Temp/ipykernel_47736/4019084382.py\u001b[0m in \u001b[0;36mscrape\u001b[1;34m(webdir)\u001b[0m\n\u001b[0;32m     19\u001b[0m                 \u001b[0murls\u001b[0m\u001b[1;33m.\u001b[0m\u001b[0mappend\u001b[0m\u001b[1;33m(\u001b[0m\u001b[0mwebdir\u001b[0m\u001b[1;33m)\u001b[0m\u001b[1;33m\u001b[0m\u001b[1;33m\u001b[0m\u001b[0m\n\u001b[0;32m     20\u001b[0m                 \u001b[0mprint\u001b[0m\u001b[1;33m(\u001b[0m\u001b[0mwebdir\u001b[0m\u001b[1;33m)\u001b[0m\u001b[1;33m\u001b[0m\u001b[1;33m\u001b[0m\u001b[0m\n\u001b[1;32m---> 21\u001b[1;33m                 \u001b[0mscrape\u001b[0m\u001b[1;33m(\u001b[0m\u001b[0mwebdir\u001b[0m\u001b[1;33m)\u001b[0m\u001b[1;33m\u001b[0m\u001b[1;33m\u001b[0m\u001b[0m\n\u001b[0m\u001b[0;32m     22\u001b[0m \u001b[1;33m\u001b[0m\u001b[0m\n\u001b[0;32m     23\u001b[0m \u001b[1;31m# main function\u001b[0m\u001b[1;33m\u001b[0m\u001b[1;33m\u001b[0m\u001b[0m\n",
      "\u001b[1;32m~\\AppData\\Local\\Temp/ipykernel_47736/4019084382.py\u001b[0m in \u001b[0;36mscrape\u001b[1;34m(webdir)\u001b[0m\n\u001b[0;32m     19\u001b[0m                 \u001b[0murls\u001b[0m\u001b[1;33m.\u001b[0m\u001b[0mappend\u001b[0m\u001b[1;33m(\u001b[0m\u001b[0mwebdir\u001b[0m\u001b[1;33m)\u001b[0m\u001b[1;33m\u001b[0m\u001b[1;33m\u001b[0m\u001b[0m\n\u001b[0;32m     20\u001b[0m                 \u001b[0mprint\u001b[0m\u001b[1;33m(\u001b[0m\u001b[0mwebdir\u001b[0m\u001b[1;33m)\u001b[0m\u001b[1;33m\u001b[0m\u001b[1;33m\u001b[0m\u001b[0m\n\u001b[1;32m---> 21\u001b[1;33m                 \u001b[0mscrape\u001b[0m\u001b[1;33m(\u001b[0m\u001b[0mwebdir\u001b[0m\u001b[1;33m)\u001b[0m\u001b[1;33m\u001b[0m\u001b[1;33m\u001b[0m\u001b[0m\n\u001b[0m\u001b[0;32m     22\u001b[0m \u001b[1;33m\u001b[0m\u001b[0m\n\u001b[0;32m     23\u001b[0m \u001b[1;31m# main function\u001b[0m\u001b[1;33m\u001b[0m\u001b[1;33m\u001b[0m\u001b[0m\n",
      "\u001b[1;32m~\\AppData\\Local\\Temp/ipykernel_47736/4019084382.py\u001b[0m in \u001b[0;36mscrape\u001b[1;34m(webdir)\u001b[0m\n\u001b[0;32m     19\u001b[0m                 \u001b[0murls\u001b[0m\u001b[1;33m.\u001b[0m\u001b[0mappend\u001b[0m\u001b[1;33m(\u001b[0m\u001b[0mwebdir\u001b[0m\u001b[1;33m)\u001b[0m\u001b[1;33m\u001b[0m\u001b[1;33m\u001b[0m\u001b[0m\n\u001b[0;32m     20\u001b[0m                 \u001b[0mprint\u001b[0m\u001b[1;33m(\u001b[0m\u001b[0mwebdir\u001b[0m\u001b[1;33m)\u001b[0m\u001b[1;33m\u001b[0m\u001b[1;33m\u001b[0m\u001b[0m\n\u001b[1;32m---> 21\u001b[1;33m                 \u001b[0mscrape\u001b[0m\u001b[1;33m(\u001b[0m\u001b[0mwebdir\u001b[0m\u001b[1;33m)\u001b[0m\u001b[1;33m\u001b[0m\u001b[1;33m\u001b[0m\u001b[0m\n\u001b[0m\u001b[0;32m     22\u001b[0m \u001b[1;33m\u001b[0m\u001b[0m\n\u001b[0;32m     23\u001b[0m \u001b[1;31m# main function\u001b[0m\u001b[1;33m\u001b[0m\u001b[1;33m\u001b[0m\u001b[0m\n",
      "\u001b[1;32m~\\AppData\\Local\\Temp/ipykernel_47736/4019084382.py\u001b[0m in \u001b[0;36mscrape\u001b[1;34m(webdir)\u001b[0m\n\u001b[0;32m     19\u001b[0m                 \u001b[0murls\u001b[0m\u001b[1;33m.\u001b[0m\u001b[0mappend\u001b[0m\u001b[1;33m(\u001b[0m\u001b[0mwebdir\u001b[0m\u001b[1;33m)\u001b[0m\u001b[1;33m\u001b[0m\u001b[1;33m\u001b[0m\u001b[0m\n\u001b[0;32m     20\u001b[0m                 \u001b[0mprint\u001b[0m\u001b[1;33m(\u001b[0m\u001b[0mwebdir\u001b[0m\u001b[1;33m)\u001b[0m\u001b[1;33m\u001b[0m\u001b[1;33m\u001b[0m\u001b[0m\n\u001b[1;32m---> 21\u001b[1;33m                 \u001b[0mscrape\u001b[0m\u001b[1;33m(\u001b[0m\u001b[0mwebdir\u001b[0m\u001b[1;33m)\u001b[0m\u001b[1;33m\u001b[0m\u001b[1;33m\u001b[0m\u001b[0m\n\u001b[0m\u001b[0;32m     22\u001b[0m \u001b[1;33m\u001b[0m\u001b[0m\n\u001b[0;32m     23\u001b[0m \u001b[1;31m# main function\u001b[0m\u001b[1;33m\u001b[0m\u001b[1;33m\u001b[0m\u001b[0m\n",
      "\u001b[1;32m~\\AppData\\Local\\Temp/ipykernel_47736/4019084382.py\u001b[0m in \u001b[0;36mscrape\u001b[1;34m(webdir)\u001b[0m\n\u001b[0;32m     19\u001b[0m                 \u001b[0murls\u001b[0m\u001b[1;33m.\u001b[0m\u001b[0mappend\u001b[0m\u001b[1;33m(\u001b[0m\u001b[0mwebdir\u001b[0m\u001b[1;33m)\u001b[0m\u001b[1;33m\u001b[0m\u001b[1;33m\u001b[0m\u001b[0m\n\u001b[0;32m     20\u001b[0m                 \u001b[0mprint\u001b[0m\u001b[1;33m(\u001b[0m\u001b[0mwebdir\u001b[0m\u001b[1;33m)\u001b[0m\u001b[1;33m\u001b[0m\u001b[1;33m\u001b[0m\u001b[0m\n\u001b[1;32m---> 21\u001b[1;33m                 \u001b[0mscrape\u001b[0m\u001b[1;33m(\u001b[0m\u001b[0mwebdir\u001b[0m\u001b[1;33m)\u001b[0m\u001b[1;33m\u001b[0m\u001b[1;33m\u001b[0m\u001b[0m\n\u001b[0m\u001b[0;32m     22\u001b[0m \u001b[1;33m\u001b[0m\u001b[0m\n\u001b[0;32m     23\u001b[0m \u001b[1;31m# main function\u001b[0m\u001b[1;33m\u001b[0m\u001b[1;33m\u001b[0m\u001b[0m\n",
      "\u001b[1;32m~\\AppData\\Local\\Temp/ipykernel_47736/4019084382.py\u001b[0m in \u001b[0;36mscrape\u001b[1;34m(webdir)\u001b[0m\n\u001b[0;32m     19\u001b[0m                 \u001b[0murls\u001b[0m\u001b[1;33m.\u001b[0m\u001b[0mappend\u001b[0m\u001b[1;33m(\u001b[0m\u001b[0mwebdir\u001b[0m\u001b[1;33m)\u001b[0m\u001b[1;33m\u001b[0m\u001b[1;33m\u001b[0m\u001b[0m\n\u001b[0;32m     20\u001b[0m                 \u001b[0mprint\u001b[0m\u001b[1;33m(\u001b[0m\u001b[0mwebdir\u001b[0m\u001b[1;33m)\u001b[0m\u001b[1;33m\u001b[0m\u001b[1;33m\u001b[0m\u001b[0m\n\u001b[1;32m---> 21\u001b[1;33m                 \u001b[0mscrape\u001b[0m\u001b[1;33m(\u001b[0m\u001b[0mwebdir\u001b[0m\u001b[1;33m)\u001b[0m\u001b[1;33m\u001b[0m\u001b[1;33m\u001b[0m\u001b[0m\n\u001b[0m\u001b[0;32m     22\u001b[0m \u001b[1;33m\u001b[0m\u001b[0m\n\u001b[0;32m     23\u001b[0m \u001b[1;31m# main function\u001b[0m\u001b[1;33m\u001b[0m\u001b[1;33m\u001b[0m\u001b[0m\n",
      "\u001b[1;32m~\\AppData\\Local\\Temp/ipykernel_47736/4019084382.py\u001b[0m in \u001b[0;36mscrape\u001b[1;34m(webdir)\u001b[0m\n\u001b[0;32m     19\u001b[0m                 \u001b[0murls\u001b[0m\u001b[1;33m.\u001b[0m\u001b[0mappend\u001b[0m\u001b[1;33m(\u001b[0m\u001b[0mwebdir\u001b[0m\u001b[1;33m)\u001b[0m\u001b[1;33m\u001b[0m\u001b[1;33m\u001b[0m\u001b[0m\n\u001b[0;32m     20\u001b[0m                 \u001b[0mprint\u001b[0m\u001b[1;33m(\u001b[0m\u001b[0mwebdir\u001b[0m\u001b[1;33m)\u001b[0m\u001b[1;33m\u001b[0m\u001b[1;33m\u001b[0m\u001b[0m\n\u001b[1;32m---> 21\u001b[1;33m                 \u001b[0mscrape\u001b[0m\u001b[1;33m(\u001b[0m\u001b[0mwebdir\u001b[0m\u001b[1;33m)\u001b[0m\u001b[1;33m\u001b[0m\u001b[1;33m\u001b[0m\u001b[0m\n\u001b[0m\u001b[0;32m     22\u001b[0m \u001b[1;33m\u001b[0m\u001b[0m\n\u001b[0;32m     23\u001b[0m \u001b[1;31m# main function\u001b[0m\u001b[1;33m\u001b[0m\u001b[1;33m\u001b[0m\u001b[0m\n",
      "\u001b[1;32m~\\AppData\\Local\\Temp/ipykernel_47736/4019084382.py\u001b[0m in \u001b[0;36mscrape\u001b[1;34m(webdir)\u001b[0m\n\u001b[0;32m     19\u001b[0m                 \u001b[0murls\u001b[0m\u001b[1;33m.\u001b[0m\u001b[0mappend\u001b[0m\u001b[1;33m(\u001b[0m\u001b[0mwebdir\u001b[0m\u001b[1;33m)\u001b[0m\u001b[1;33m\u001b[0m\u001b[1;33m\u001b[0m\u001b[0m\n\u001b[0;32m     20\u001b[0m                 \u001b[0mprint\u001b[0m\u001b[1;33m(\u001b[0m\u001b[0mwebdir\u001b[0m\u001b[1;33m)\u001b[0m\u001b[1;33m\u001b[0m\u001b[1;33m\u001b[0m\u001b[0m\n\u001b[1;32m---> 21\u001b[1;33m                 \u001b[0mscrape\u001b[0m\u001b[1;33m(\u001b[0m\u001b[0mwebdir\u001b[0m\u001b[1;33m)\u001b[0m\u001b[1;33m\u001b[0m\u001b[1;33m\u001b[0m\u001b[0m\n\u001b[0m\u001b[0;32m     22\u001b[0m \u001b[1;33m\u001b[0m\u001b[0m\n\u001b[0;32m     23\u001b[0m \u001b[1;31m# main function\u001b[0m\u001b[1;33m\u001b[0m\u001b[1;33m\u001b[0m\u001b[0m\n",
      "\u001b[1;32m~\\AppData\\Local\\Temp/ipykernel_47736/4019084382.py\u001b[0m in \u001b[0;36mscrape\u001b[1;34m(webdir)\u001b[0m\n\u001b[0;32m     19\u001b[0m                 \u001b[0murls\u001b[0m\u001b[1;33m.\u001b[0m\u001b[0mappend\u001b[0m\u001b[1;33m(\u001b[0m\u001b[0mwebdir\u001b[0m\u001b[1;33m)\u001b[0m\u001b[1;33m\u001b[0m\u001b[1;33m\u001b[0m\u001b[0m\n\u001b[0;32m     20\u001b[0m                 \u001b[0mprint\u001b[0m\u001b[1;33m(\u001b[0m\u001b[0mwebdir\u001b[0m\u001b[1;33m)\u001b[0m\u001b[1;33m\u001b[0m\u001b[1;33m\u001b[0m\u001b[0m\n\u001b[1;32m---> 21\u001b[1;33m                 \u001b[0mscrape\u001b[0m\u001b[1;33m(\u001b[0m\u001b[0mwebdir\u001b[0m\u001b[1;33m)\u001b[0m\u001b[1;33m\u001b[0m\u001b[1;33m\u001b[0m\u001b[0m\n\u001b[0m\u001b[0;32m     22\u001b[0m \u001b[1;33m\u001b[0m\u001b[0m\n\u001b[0;32m     23\u001b[0m \u001b[1;31m# main function\u001b[0m\u001b[1;33m\u001b[0m\u001b[1;33m\u001b[0m\u001b[0m\n",
      "\u001b[1;32m~\\AppData\\Local\\Temp/ipykernel_47736/4019084382.py\u001b[0m in \u001b[0;36mscrape\u001b[1;34m(webdir)\u001b[0m\n\u001b[0;32m     19\u001b[0m                 \u001b[0murls\u001b[0m\u001b[1;33m.\u001b[0m\u001b[0mappend\u001b[0m\u001b[1;33m(\u001b[0m\u001b[0mwebdir\u001b[0m\u001b[1;33m)\u001b[0m\u001b[1;33m\u001b[0m\u001b[1;33m\u001b[0m\u001b[0m\n\u001b[0;32m     20\u001b[0m                 \u001b[0mprint\u001b[0m\u001b[1;33m(\u001b[0m\u001b[0mwebdir\u001b[0m\u001b[1;33m)\u001b[0m\u001b[1;33m\u001b[0m\u001b[1;33m\u001b[0m\u001b[0m\n\u001b[1;32m---> 21\u001b[1;33m                 \u001b[0mscrape\u001b[0m\u001b[1;33m(\u001b[0m\u001b[0mwebdir\u001b[0m\u001b[1;33m)\u001b[0m\u001b[1;33m\u001b[0m\u001b[1;33m\u001b[0m\u001b[0m\n\u001b[0m\u001b[0;32m     22\u001b[0m \u001b[1;33m\u001b[0m\u001b[0m\n\u001b[0;32m     23\u001b[0m \u001b[1;31m# main function\u001b[0m\u001b[1;33m\u001b[0m\u001b[1;33m\u001b[0m\u001b[0m\n",
      "\u001b[1;32m~\\AppData\\Local\\Temp/ipykernel_47736/4019084382.py\u001b[0m in \u001b[0;36mscrape\u001b[1;34m(webdir)\u001b[0m\n\u001b[0;32m     19\u001b[0m                 \u001b[0murls\u001b[0m\u001b[1;33m.\u001b[0m\u001b[0mappend\u001b[0m\u001b[1;33m(\u001b[0m\u001b[0mwebdir\u001b[0m\u001b[1;33m)\u001b[0m\u001b[1;33m\u001b[0m\u001b[1;33m\u001b[0m\u001b[0m\n\u001b[0;32m     20\u001b[0m                 \u001b[0mprint\u001b[0m\u001b[1;33m(\u001b[0m\u001b[0mwebdir\u001b[0m\u001b[1;33m)\u001b[0m\u001b[1;33m\u001b[0m\u001b[1;33m\u001b[0m\u001b[0m\n\u001b[1;32m---> 21\u001b[1;33m                 \u001b[0mscrape\u001b[0m\u001b[1;33m(\u001b[0m\u001b[0mwebdir\u001b[0m\u001b[1;33m)\u001b[0m\u001b[1;33m\u001b[0m\u001b[1;33m\u001b[0m\u001b[0m\n\u001b[0m\u001b[0;32m     22\u001b[0m \u001b[1;33m\u001b[0m\u001b[0m\n\u001b[0;32m     23\u001b[0m \u001b[1;31m# main function\u001b[0m\u001b[1;33m\u001b[0m\u001b[1;33m\u001b[0m\u001b[0m\n",
      "\u001b[1;32m~\\AppData\\Local\\Temp/ipykernel_47736/4019084382.py\u001b[0m in \u001b[0;36mscrape\u001b[1;34m(webdir)\u001b[0m\n\u001b[0;32m     19\u001b[0m                 \u001b[0murls\u001b[0m\u001b[1;33m.\u001b[0m\u001b[0mappend\u001b[0m\u001b[1;33m(\u001b[0m\u001b[0mwebdir\u001b[0m\u001b[1;33m)\u001b[0m\u001b[1;33m\u001b[0m\u001b[1;33m\u001b[0m\u001b[0m\n\u001b[0;32m     20\u001b[0m                 \u001b[0mprint\u001b[0m\u001b[1;33m(\u001b[0m\u001b[0mwebdir\u001b[0m\u001b[1;33m)\u001b[0m\u001b[1;33m\u001b[0m\u001b[1;33m\u001b[0m\u001b[0m\n\u001b[1;32m---> 21\u001b[1;33m                 \u001b[0mscrape\u001b[0m\u001b[1;33m(\u001b[0m\u001b[0mwebdir\u001b[0m\u001b[1;33m)\u001b[0m\u001b[1;33m\u001b[0m\u001b[1;33m\u001b[0m\u001b[0m\n\u001b[0m\u001b[0;32m     22\u001b[0m \u001b[1;33m\u001b[0m\u001b[0m\n\u001b[0;32m     23\u001b[0m \u001b[1;31m# main function\u001b[0m\u001b[1;33m\u001b[0m\u001b[1;33m\u001b[0m\u001b[0m\n",
      "\u001b[1;32m~\\AppData\\Local\\Temp/ipykernel_47736/4019084382.py\u001b[0m in \u001b[0;36mscrape\u001b[1;34m(webdir)\u001b[0m\n\u001b[0;32m     19\u001b[0m                 \u001b[0murls\u001b[0m\u001b[1;33m.\u001b[0m\u001b[0mappend\u001b[0m\u001b[1;33m(\u001b[0m\u001b[0mwebdir\u001b[0m\u001b[1;33m)\u001b[0m\u001b[1;33m\u001b[0m\u001b[1;33m\u001b[0m\u001b[0m\n\u001b[0;32m     20\u001b[0m                 \u001b[0mprint\u001b[0m\u001b[1;33m(\u001b[0m\u001b[0mwebdir\u001b[0m\u001b[1;33m)\u001b[0m\u001b[1;33m\u001b[0m\u001b[1;33m\u001b[0m\u001b[0m\n\u001b[1;32m---> 21\u001b[1;33m                 \u001b[0mscrape\u001b[0m\u001b[1;33m(\u001b[0m\u001b[0mwebdir\u001b[0m\u001b[1;33m)\u001b[0m\u001b[1;33m\u001b[0m\u001b[1;33m\u001b[0m\u001b[0m\n\u001b[0m\u001b[0;32m     22\u001b[0m \u001b[1;33m\u001b[0m\u001b[0m\n\u001b[0;32m     23\u001b[0m \u001b[1;31m# main function\u001b[0m\u001b[1;33m\u001b[0m\u001b[1;33m\u001b[0m\u001b[0m\n",
      "\u001b[1;32m~\\AppData\\Local\\Temp/ipykernel_47736/4019084382.py\u001b[0m in \u001b[0;36mscrape\u001b[1;34m(webdir)\u001b[0m\n\u001b[0;32m     19\u001b[0m                 \u001b[0murls\u001b[0m\u001b[1;33m.\u001b[0m\u001b[0mappend\u001b[0m\u001b[1;33m(\u001b[0m\u001b[0mwebdir\u001b[0m\u001b[1;33m)\u001b[0m\u001b[1;33m\u001b[0m\u001b[1;33m\u001b[0m\u001b[0m\n\u001b[0;32m     20\u001b[0m                 \u001b[0mprint\u001b[0m\u001b[1;33m(\u001b[0m\u001b[0mwebdir\u001b[0m\u001b[1;33m)\u001b[0m\u001b[1;33m\u001b[0m\u001b[1;33m\u001b[0m\u001b[0m\n\u001b[1;32m---> 21\u001b[1;33m                 \u001b[0mscrape\u001b[0m\u001b[1;33m(\u001b[0m\u001b[0mwebdir\u001b[0m\u001b[1;33m)\u001b[0m\u001b[1;33m\u001b[0m\u001b[1;33m\u001b[0m\u001b[0m\n\u001b[0m\u001b[0;32m     22\u001b[0m \u001b[1;33m\u001b[0m\u001b[0m\n\u001b[0;32m     23\u001b[0m \u001b[1;31m# main function\u001b[0m\u001b[1;33m\u001b[0m\u001b[1;33m\u001b[0m\u001b[0m\n",
      "\u001b[1;32m~\\AppData\\Local\\Temp/ipykernel_47736/4019084382.py\u001b[0m in \u001b[0;36mscrape\u001b[1;34m(webdir)\u001b[0m\n\u001b[0;32m     19\u001b[0m                 \u001b[0murls\u001b[0m\u001b[1;33m.\u001b[0m\u001b[0mappend\u001b[0m\u001b[1;33m(\u001b[0m\u001b[0mwebdir\u001b[0m\u001b[1;33m)\u001b[0m\u001b[1;33m\u001b[0m\u001b[1;33m\u001b[0m\u001b[0m\n\u001b[0;32m     20\u001b[0m                 \u001b[0mprint\u001b[0m\u001b[1;33m(\u001b[0m\u001b[0mwebdir\u001b[0m\u001b[1;33m)\u001b[0m\u001b[1;33m\u001b[0m\u001b[1;33m\u001b[0m\u001b[0m\n\u001b[1;32m---> 21\u001b[1;33m                 \u001b[0mscrape\u001b[0m\u001b[1;33m(\u001b[0m\u001b[0mwebdir\u001b[0m\u001b[1;33m)\u001b[0m\u001b[1;33m\u001b[0m\u001b[1;33m\u001b[0m\u001b[0m\n\u001b[0m\u001b[0;32m     22\u001b[0m \u001b[1;33m\u001b[0m\u001b[0m\n\u001b[0;32m     23\u001b[0m \u001b[1;31m# main function\u001b[0m\u001b[1;33m\u001b[0m\u001b[1;33m\u001b[0m\u001b[0m\n",
      "\u001b[1;32m~\\AppData\\Local\\Temp/ipykernel_47736/4019084382.py\u001b[0m in \u001b[0;36mscrape\u001b[1;34m(webdir)\u001b[0m\n\u001b[0;32m     19\u001b[0m                 \u001b[0murls\u001b[0m\u001b[1;33m.\u001b[0m\u001b[0mappend\u001b[0m\u001b[1;33m(\u001b[0m\u001b[0mwebdir\u001b[0m\u001b[1;33m)\u001b[0m\u001b[1;33m\u001b[0m\u001b[1;33m\u001b[0m\u001b[0m\n\u001b[0;32m     20\u001b[0m                 \u001b[0mprint\u001b[0m\u001b[1;33m(\u001b[0m\u001b[0mwebdir\u001b[0m\u001b[1;33m)\u001b[0m\u001b[1;33m\u001b[0m\u001b[1;33m\u001b[0m\u001b[0m\n\u001b[1;32m---> 21\u001b[1;33m                 \u001b[0mscrape\u001b[0m\u001b[1;33m(\u001b[0m\u001b[0mwebdir\u001b[0m\u001b[1;33m)\u001b[0m\u001b[1;33m\u001b[0m\u001b[1;33m\u001b[0m\u001b[0m\n\u001b[0m\u001b[0;32m     22\u001b[0m \u001b[1;33m\u001b[0m\u001b[0m\n\u001b[0;32m     23\u001b[0m \u001b[1;31m# main function\u001b[0m\u001b[1;33m\u001b[0m\u001b[1;33m\u001b[0m\u001b[0m\n",
      "\u001b[1;32m~\\AppData\\Local\\Temp/ipykernel_47736/4019084382.py\u001b[0m in \u001b[0;36mscrape\u001b[1;34m(webdir)\u001b[0m\n\u001b[0;32m     19\u001b[0m                 \u001b[0murls\u001b[0m\u001b[1;33m.\u001b[0m\u001b[0mappend\u001b[0m\u001b[1;33m(\u001b[0m\u001b[0mwebdir\u001b[0m\u001b[1;33m)\u001b[0m\u001b[1;33m\u001b[0m\u001b[1;33m\u001b[0m\u001b[0m\n\u001b[0;32m     20\u001b[0m                 \u001b[0mprint\u001b[0m\u001b[1;33m(\u001b[0m\u001b[0mwebdir\u001b[0m\u001b[1;33m)\u001b[0m\u001b[1;33m\u001b[0m\u001b[1;33m\u001b[0m\u001b[0m\n\u001b[1;32m---> 21\u001b[1;33m                 \u001b[0mscrape\u001b[0m\u001b[1;33m(\u001b[0m\u001b[0mwebdir\u001b[0m\u001b[1;33m)\u001b[0m\u001b[1;33m\u001b[0m\u001b[1;33m\u001b[0m\u001b[0m\n\u001b[0m\u001b[0;32m     22\u001b[0m \u001b[1;33m\u001b[0m\u001b[0m\n\u001b[0;32m     23\u001b[0m \u001b[1;31m# main function\u001b[0m\u001b[1;33m\u001b[0m\u001b[1;33m\u001b[0m\u001b[0m\n",
      "\u001b[1;32m~\\AppData\\Local\\Temp/ipykernel_47736/4019084382.py\u001b[0m in \u001b[0;36mscrape\u001b[1;34m(webdir)\u001b[0m\n\u001b[0;32m      6\u001b[0m \u001b[1;32mdef\u001b[0m \u001b[0mscrape\u001b[0m\u001b[1;33m(\u001b[0m\u001b[0mwebdir\u001b[0m\u001b[1;33m)\u001b[0m\u001b[1;33m:\u001b[0m\u001b[1;33m\u001b[0m\u001b[1;33m\u001b[0m\u001b[0m\n\u001b[0;32m      7\u001b[0m \u001b[1;33m\u001b[0m\u001b[0m\n\u001b[1;32m----> 8\u001b[1;33m     \u001b[0ml\u001b[0m \u001b[1;33m=\u001b[0m \u001b[0mrequests\u001b[0m\u001b[1;33m.\u001b[0m\u001b[0mget\u001b[0m\u001b[1;33m(\u001b[0m\u001b[0mwebdir\u001b[0m\u001b[1;33m)\u001b[0m\u001b[1;33m\u001b[0m\u001b[1;33m\u001b[0m\u001b[0m\n\u001b[0m\u001b[0;32m      9\u001b[0m     \u001b[0mm\u001b[0m \u001b[1;33m=\u001b[0m \u001b[0mBeautifulSoup\u001b[0m\u001b[1;33m(\u001b[0m\u001b[0ml\u001b[0m\u001b[1;33m.\u001b[0m\u001b[0mtext\u001b[0m\u001b[1;33m,\u001b[0m\u001b[1;34m\"html.parser\"\u001b[0m\u001b[1;33m)\u001b[0m\u001b[1;33m\u001b[0m\u001b[1;33m\u001b[0m\u001b[0m\n\u001b[0;32m     10\u001b[0m \u001b[1;33m\u001b[0m\u001b[0m\n",
      "\u001b[1;32mM:\\Anaconda\\lib\\site-packages\\requests\\api.py\u001b[0m in \u001b[0;36mget\u001b[1;34m(url, params, **kwargs)\u001b[0m\n\u001b[0;32m     73\u001b[0m     \"\"\"\n\u001b[0;32m     74\u001b[0m \u001b[1;33m\u001b[0m\u001b[0m\n\u001b[1;32m---> 75\u001b[1;33m     \u001b[1;32mreturn\u001b[0m \u001b[0mrequest\u001b[0m\u001b[1;33m(\u001b[0m\u001b[1;34m'get'\u001b[0m\u001b[1;33m,\u001b[0m \u001b[0murl\u001b[0m\u001b[1;33m,\u001b[0m \u001b[0mparams\u001b[0m\u001b[1;33m=\u001b[0m\u001b[0mparams\u001b[0m\u001b[1;33m,\u001b[0m \u001b[1;33m**\u001b[0m\u001b[0mkwargs\u001b[0m\u001b[1;33m)\u001b[0m\u001b[1;33m\u001b[0m\u001b[1;33m\u001b[0m\u001b[0m\n\u001b[0m\u001b[0;32m     76\u001b[0m \u001b[1;33m\u001b[0m\u001b[0m\n\u001b[0;32m     77\u001b[0m \u001b[1;33m\u001b[0m\u001b[0m\n",
      "\u001b[1;32mM:\\Anaconda\\lib\\site-packages\\requests\\api.py\u001b[0m in \u001b[0;36mrequest\u001b[1;34m(method, url, **kwargs)\u001b[0m\n\u001b[0;32m     59\u001b[0m     \u001b[1;31m# cases, and look like a memory leak in others.\u001b[0m\u001b[1;33m\u001b[0m\u001b[1;33m\u001b[0m\u001b[0m\n\u001b[0;32m     60\u001b[0m     \u001b[1;32mwith\u001b[0m \u001b[0msessions\u001b[0m\u001b[1;33m.\u001b[0m\u001b[0mSession\u001b[0m\u001b[1;33m(\u001b[0m\u001b[1;33m)\u001b[0m \u001b[1;32mas\u001b[0m \u001b[0msession\u001b[0m\u001b[1;33m:\u001b[0m\u001b[1;33m\u001b[0m\u001b[1;33m\u001b[0m\u001b[0m\n\u001b[1;32m---> 61\u001b[1;33m         \u001b[1;32mreturn\u001b[0m \u001b[0msession\u001b[0m\u001b[1;33m.\u001b[0m\u001b[0mrequest\u001b[0m\u001b[1;33m(\u001b[0m\u001b[0mmethod\u001b[0m\u001b[1;33m=\u001b[0m\u001b[0mmethod\u001b[0m\u001b[1;33m,\u001b[0m \u001b[0murl\u001b[0m\u001b[1;33m=\u001b[0m\u001b[0murl\u001b[0m\u001b[1;33m,\u001b[0m \u001b[1;33m**\u001b[0m\u001b[0mkwargs\u001b[0m\u001b[1;33m)\u001b[0m\u001b[1;33m\u001b[0m\u001b[1;33m\u001b[0m\u001b[0m\n\u001b[0m\u001b[0;32m     62\u001b[0m \u001b[1;33m\u001b[0m\u001b[0m\n\u001b[0;32m     63\u001b[0m \u001b[1;33m\u001b[0m\u001b[0m\n",
      "\u001b[1;32mM:\\Anaconda\\lib\\site-packages\\requests\\sessions.py\u001b[0m in \u001b[0;36mrequest\u001b[1;34m(self, method, url, params, data, headers, cookies, files, auth, timeout, allow_redirects, proxies, hooks, stream, verify, cert, json)\u001b[0m\n\u001b[0;32m    540\u001b[0m         }\n\u001b[0;32m    541\u001b[0m         \u001b[0msend_kwargs\u001b[0m\u001b[1;33m.\u001b[0m\u001b[0mupdate\u001b[0m\u001b[1;33m(\u001b[0m\u001b[0msettings\u001b[0m\u001b[1;33m)\u001b[0m\u001b[1;33m\u001b[0m\u001b[1;33m\u001b[0m\u001b[0m\n\u001b[1;32m--> 542\u001b[1;33m         \u001b[0mresp\u001b[0m \u001b[1;33m=\u001b[0m \u001b[0mself\u001b[0m\u001b[1;33m.\u001b[0m\u001b[0msend\u001b[0m\u001b[1;33m(\u001b[0m\u001b[0mprep\u001b[0m\u001b[1;33m,\u001b[0m \u001b[1;33m**\u001b[0m\u001b[0msend_kwargs\u001b[0m\u001b[1;33m)\u001b[0m\u001b[1;33m\u001b[0m\u001b[1;33m\u001b[0m\u001b[0m\n\u001b[0m\u001b[0;32m    543\u001b[0m \u001b[1;33m\u001b[0m\u001b[0m\n\u001b[0;32m    544\u001b[0m         \u001b[1;32mreturn\u001b[0m \u001b[0mresp\u001b[0m\u001b[1;33m\u001b[0m\u001b[1;33m\u001b[0m\u001b[0m\n",
      "\u001b[1;32mM:\\Anaconda\\lib\\site-packages\\requests\\sessions.py\u001b[0m in \u001b[0;36msend\u001b[1;34m(self, request, **kwargs)\u001b[0m\n\u001b[0;32m    675\u001b[0m             \u001b[1;31m# Redirect resolving generator.\u001b[0m\u001b[1;33m\u001b[0m\u001b[1;33m\u001b[0m\u001b[0m\n\u001b[0;32m    676\u001b[0m             \u001b[0mgen\u001b[0m \u001b[1;33m=\u001b[0m \u001b[0mself\u001b[0m\u001b[1;33m.\u001b[0m\u001b[0mresolve_redirects\u001b[0m\u001b[1;33m(\u001b[0m\u001b[0mr\u001b[0m\u001b[1;33m,\u001b[0m \u001b[0mrequest\u001b[0m\u001b[1;33m,\u001b[0m \u001b[1;33m**\u001b[0m\u001b[0mkwargs\u001b[0m\u001b[1;33m)\u001b[0m\u001b[1;33m\u001b[0m\u001b[1;33m\u001b[0m\u001b[0m\n\u001b[1;32m--> 677\u001b[1;33m             \u001b[0mhistory\u001b[0m \u001b[1;33m=\u001b[0m \u001b[1;33m[\u001b[0m\u001b[0mresp\u001b[0m \u001b[1;32mfor\u001b[0m \u001b[0mresp\u001b[0m \u001b[1;32min\u001b[0m \u001b[0mgen\u001b[0m\u001b[1;33m]\u001b[0m\u001b[1;33m\u001b[0m\u001b[1;33m\u001b[0m\u001b[0m\n\u001b[0m\u001b[0;32m    678\u001b[0m         \u001b[1;32melse\u001b[0m\u001b[1;33m:\u001b[0m\u001b[1;33m\u001b[0m\u001b[1;33m\u001b[0m\u001b[0m\n\u001b[0;32m    679\u001b[0m             \u001b[0mhistory\u001b[0m \u001b[1;33m=\u001b[0m \u001b[1;33m[\u001b[0m\u001b[1;33m]\u001b[0m\u001b[1;33m\u001b[0m\u001b[1;33m\u001b[0m\u001b[0m\n",
      "\u001b[1;32mM:\\Anaconda\\lib\\site-packages\\requests\\sessions.py\u001b[0m in \u001b[0;36m<listcomp>\u001b[1;34m(.0)\u001b[0m\n\u001b[0;32m    675\u001b[0m             \u001b[1;31m# Redirect resolving generator.\u001b[0m\u001b[1;33m\u001b[0m\u001b[1;33m\u001b[0m\u001b[0m\n\u001b[0;32m    676\u001b[0m             \u001b[0mgen\u001b[0m \u001b[1;33m=\u001b[0m \u001b[0mself\u001b[0m\u001b[1;33m.\u001b[0m\u001b[0mresolve_redirects\u001b[0m\u001b[1;33m(\u001b[0m\u001b[0mr\u001b[0m\u001b[1;33m,\u001b[0m \u001b[0mrequest\u001b[0m\u001b[1;33m,\u001b[0m \u001b[1;33m**\u001b[0m\u001b[0mkwargs\u001b[0m\u001b[1;33m)\u001b[0m\u001b[1;33m\u001b[0m\u001b[1;33m\u001b[0m\u001b[0m\n\u001b[1;32m--> 677\u001b[1;33m             \u001b[0mhistory\u001b[0m \u001b[1;33m=\u001b[0m \u001b[1;33m[\u001b[0m\u001b[0mresp\u001b[0m \u001b[1;32mfor\u001b[0m \u001b[0mresp\u001b[0m \u001b[1;32min\u001b[0m \u001b[0mgen\u001b[0m\u001b[1;33m]\u001b[0m\u001b[1;33m\u001b[0m\u001b[1;33m\u001b[0m\u001b[0m\n\u001b[0m\u001b[0;32m    678\u001b[0m         \u001b[1;32melse\u001b[0m\u001b[1;33m:\u001b[0m\u001b[1;33m\u001b[0m\u001b[1;33m\u001b[0m\u001b[0m\n\u001b[0;32m    679\u001b[0m             \u001b[0mhistory\u001b[0m \u001b[1;33m=\u001b[0m \u001b[1;33m[\u001b[0m\u001b[1;33m]\u001b[0m\u001b[1;33m\u001b[0m\u001b[1;33m\u001b[0m\u001b[0m\n",
      "\u001b[1;32mM:\\Anaconda\\lib\\site-packages\\requests\\sessions.py\u001b[0m in \u001b[0;36mresolve_redirects\u001b[1;34m(self, resp, req, stream, timeout, verify, cert, proxies, yield_requests, **adapter_kwargs)\u001b[0m\n\u001b[0;32m    235\u001b[0m             \u001b[1;32melse\u001b[0m\u001b[1;33m:\u001b[0m\u001b[1;33m\u001b[0m\u001b[1;33m\u001b[0m\u001b[0m\n\u001b[0;32m    236\u001b[0m \u001b[1;33m\u001b[0m\u001b[0m\n\u001b[1;32m--> 237\u001b[1;33m                 resp = self.send(\n\u001b[0m\u001b[0;32m    238\u001b[0m                     \u001b[0mreq\u001b[0m\u001b[1;33m,\u001b[0m\u001b[1;33m\u001b[0m\u001b[1;33m\u001b[0m\u001b[0m\n\u001b[0;32m    239\u001b[0m                     \u001b[0mstream\u001b[0m\u001b[1;33m=\u001b[0m\u001b[0mstream\u001b[0m\u001b[1;33m,\u001b[0m\u001b[1;33m\u001b[0m\u001b[1;33m\u001b[0m\u001b[0m\n",
      "\u001b[1;32mM:\\Anaconda\\lib\\site-packages\\requests\\sessions.py\u001b[0m in \u001b[0;36msend\u001b[1;34m(self, request, **kwargs)\u001b[0m\n\u001b[0;32m    653\u001b[0m \u001b[1;33m\u001b[0m\u001b[0m\n\u001b[0;32m    654\u001b[0m         \u001b[1;31m# Send the request\u001b[0m\u001b[1;33m\u001b[0m\u001b[1;33m\u001b[0m\u001b[0m\n\u001b[1;32m--> 655\u001b[1;33m         \u001b[0mr\u001b[0m \u001b[1;33m=\u001b[0m \u001b[0madapter\u001b[0m\u001b[1;33m.\u001b[0m\u001b[0msend\u001b[0m\u001b[1;33m(\u001b[0m\u001b[0mrequest\u001b[0m\u001b[1;33m,\u001b[0m \u001b[1;33m**\u001b[0m\u001b[0mkwargs\u001b[0m\u001b[1;33m)\u001b[0m\u001b[1;33m\u001b[0m\u001b[1;33m\u001b[0m\u001b[0m\n\u001b[0m\u001b[0;32m    656\u001b[0m \u001b[1;33m\u001b[0m\u001b[0m\n\u001b[0;32m    657\u001b[0m         \u001b[1;31m# Total elapsed time of the request (approximately)\u001b[0m\u001b[1;33m\u001b[0m\u001b[1;33m\u001b[0m\u001b[0m\n",
      "\u001b[1;32mM:\\Anaconda\\lib\\site-packages\\requests\\adapters.py\u001b[0m in \u001b[0;36msend\u001b[1;34m(self, request, stream, timeout, verify, cert, proxies)\u001b[0m\n\u001b[0;32m    437\u001b[0m         \u001b[1;32mtry\u001b[0m\u001b[1;33m:\u001b[0m\u001b[1;33m\u001b[0m\u001b[1;33m\u001b[0m\u001b[0m\n\u001b[0;32m    438\u001b[0m             \u001b[1;32mif\u001b[0m \u001b[1;32mnot\u001b[0m \u001b[0mchunked\u001b[0m\u001b[1;33m:\u001b[0m\u001b[1;33m\u001b[0m\u001b[1;33m\u001b[0m\u001b[0m\n\u001b[1;32m--> 439\u001b[1;33m                 resp = conn.urlopen(\n\u001b[0m\u001b[0;32m    440\u001b[0m                     \u001b[0mmethod\u001b[0m\u001b[1;33m=\u001b[0m\u001b[0mrequest\u001b[0m\u001b[1;33m.\u001b[0m\u001b[0mmethod\u001b[0m\u001b[1;33m,\u001b[0m\u001b[1;33m\u001b[0m\u001b[1;33m\u001b[0m\u001b[0m\n\u001b[0;32m    441\u001b[0m                     \u001b[0murl\u001b[0m\u001b[1;33m=\u001b[0m\u001b[0murl\u001b[0m\u001b[1;33m,\u001b[0m\u001b[1;33m\u001b[0m\u001b[1;33m\u001b[0m\u001b[0m\n",
      "\u001b[1;32mM:\\Anaconda\\lib\\site-packages\\urllib3\\connectionpool.py\u001b[0m in \u001b[0;36murlopen\u001b[1;34m(self, method, url, body, headers, retries, redirect, assert_same_host, timeout, pool_timeout, release_conn, chunked, body_pos, **response_kw)\u001b[0m\n\u001b[0;32m    697\u001b[0m \u001b[1;33m\u001b[0m\u001b[0m\n\u001b[0;32m    698\u001b[0m             \u001b[1;31m# Make the request on the httplib connection object.\u001b[0m\u001b[1;33m\u001b[0m\u001b[1;33m\u001b[0m\u001b[0m\n\u001b[1;32m--> 699\u001b[1;33m             httplib_response = self._make_request(\n\u001b[0m\u001b[0;32m    700\u001b[0m                 \u001b[0mconn\u001b[0m\u001b[1;33m,\u001b[0m\u001b[1;33m\u001b[0m\u001b[1;33m\u001b[0m\u001b[0m\n\u001b[0;32m    701\u001b[0m                 \u001b[0mmethod\u001b[0m\u001b[1;33m,\u001b[0m\u001b[1;33m\u001b[0m\u001b[1;33m\u001b[0m\u001b[0m\n",
      "\u001b[1;32mM:\\Anaconda\\lib\\site-packages\\urllib3\\connectionpool.py\u001b[0m in \u001b[0;36m_make_request\u001b[1;34m(self, conn, method, url, timeout, chunked, **httplib_request_kw)\u001b[0m\n\u001b[0;32m    380\u001b[0m         \u001b[1;31m# Trigger any extra validation we need to do.\u001b[0m\u001b[1;33m\u001b[0m\u001b[1;33m\u001b[0m\u001b[0m\n\u001b[0;32m    381\u001b[0m         \u001b[1;32mtry\u001b[0m\u001b[1;33m:\u001b[0m\u001b[1;33m\u001b[0m\u001b[1;33m\u001b[0m\u001b[0m\n\u001b[1;32m--> 382\u001b[1;33m             \u001b[0mself\u001b[0m\u001b[1;33m.\u001b[0m\u001b[0m_validate_conn\u001b[0m\u001b[1;33m(\u001b[0m\u001b[0mconn\u001b[0m\u001b[1;33m)\u001b[0m\u001b[1;33m\u001b[0m\u001b[1;33m\u001b[0m\u001b[0m\n\u001b[0m\u001b[0;32m    383\u001b[0m         \u001b[1;32mexcept\u001b[0m \u001b[1;33m(\u001b[0m\u001b[0mSocketTimeout\u001b[0m\u001b[1;33m,\u001b[0m \u001b[0mBaseSSLError\u001b[0m\u001b[1;33m)\u001b[0m \u001b[1;32mas\u001b[0m \u001b[0me\u001b[0m\u001b[1;33m:\u001b[0m\u001b[1;33m\u001b[0m\u001b[1;33m\u001b[0m\u001b[0m\n\u001b[0;32m    384\u001b[0m             \u001b[1;31m# Py2 raises this as a BaseSSLError, Py3 raises it as socket timeout.\u001b[0m\u001b[1;33m\u001b[0m\u001b[1;33m\u001b[0m\u001b[0m\n",
      "\u001b[1;32mM:\\Anaconda\\lib\\site-packages\\urllib3\\connectionpool.py\u001b[0m in \u001b[0;36m_validate_conn\u001b[1;34m(self, conn)\u001b[0m\n\u001b[0;32m   1008\u001b[0m         \u001b[1;31m# Force connect early to allow us to validate the connection.\u001b[0m\u001b[1;33m\u001b[0m\u001b[1;33m\u001b[0m\u001b[0m\n\u001b[0;32m   1009\u001b[0m         \u001b[1;32mif\u001b[0m \u001b[1;32mnot\u001b[0m \u001b[0mgetattr\u001b[0m\u001b[1;33m(\u001b[0m\u001b[0mconn\u001b[0m\u001b[1;33m,\u001b[0m \u001b[1;34m\"sock\"\u001b[0m\u001b[1;33m,\u001b[0m \u001b[1;32mNone\u001b[0m\u001b[1;33m)\u001b[0m\u001b[1;33m:\u001b[0m  \u001b[1;31m# AppEngine might not have  `.sock`\u001b[0m\u001b[1;33m\u001b[0m\u001b[1;33m\u001b[0m\u001b[0m\n\u001b[1;32m-> 1010\u001b[1;33m             \u001b[0mconn\u001b[0m\u001b[1;33m.\u001b[0m\u001b[0mconnect\u001b[0m\u001b[1;33m(\u001b[0m\u001b[1;33m)\u001b[0m\u001b[1;33m\u001b[0m\u001b[1;33m\u001b[0m\u001b[0m\n\u001b[0m\u001b[0;32m   1011\u001b[0m \u001b[1;33m\u001b[0m\u001b[0m\n\u001b[0;32m   1012\u001b[0m         \u001b[1;32mif\u001b[0m \u001b[1;32mnot\u001b[0m \u001b[0mconn\u001b[0m\u001b[1;33m.\u001b[0m\u001b[0mis_verified\u001b[0m\u001b[1;33m:\u001b[0m\u001b[1;33m\u001b[0m\u001b[1;33m\u001b[0m\u001b[0m\n",
      "\u001b[1;32mM:\\Anaconda\\lib\\site-packages\\urllib3\\connection.py\u001b[0m in \u001b[0;36mconnect\u001b[1;34m(self)\u001b[0m\n\u001b[0;32m    414\u001b[0m             \u001b[0mcontext\u001b[0m\u001b[1;33m.\u001b[0m\u001b[0mload_default_certs\u001b[0m\u001b[1;33m(\u001b[0m\u001b[1;33m)\u001b[0m\u001b[1;33m\u001b[0m\u001b[1;33m\u001b[0m\u001b[0m\n\u001b[0;32m    415\u001b[0m \u001b[1;33m\u001b[0m\u001b[0m\n\u001b[1;32m--> 416\u001b[1;33m         self.sock = ssl_wrap_socket(\n\u001b[0m\u001b[0;32m    417\u001b[0m             \u001b[0msock\u001b[0m\u001b[1;33m=\u001b[0m\u001b[0mconn\u001b[0m\u001b[1;33m,\u001b[0m\u001b[1;33m\u001b[0m\u001b[1;33m\u001b[0m\u001b[0m\n\u001b[0;32m    418\u001b[0m             \u001b[0mkeyfile\u001b[0m\u001b[1;33m=\u001b[0m\u001b[0mself\u001b[0m\u001b[1;33m.\u001b[0m\u001b[0mkey_file\u001b[0m\u001b[1;33m,\u001b[0m\u001b[1;33m\u001b[0m\u001b[1;33m\u001b[0m\u001b[0m\n",
      "\u001b[1;32mM:\\Anaconda\\lib\\site-packages\\urllib3\\util\\ssl_.py\u001b[0m in \u001b[0;36mssl_wrap_socket\u001b[1;34m(sock, keyfile, certfile, cert_reqs, ca_certs, server_hostname, ssl_version, ciphers, ssl_context, ca_cert_dir, key_password, ca_cert_data, tls_in_tls)\u001b[0m\n\u001b[0;32m    400\u001b[0m     \u001b[1;32mif\u001b[0m \u001b[0mca_certs\u001b[0m \u001b[1;32mor\u001b[0m \u001b[0mca_cert_dir\u001b[0m \u001b[1;32mor\u001b[0m \u001b[0mca_cert_data\u001b[0m\u001b[1;33m:\u001b[0m\u001b[1;33m\u001b[0m\u001b[1;33m\u001b[0m\u001b[0m\n\u001b[0;32m    401\u001b[0m         \u001b[1;32mtry\u001b[0m\u001b[1;33m:\u001b[0m\u001b[1;33m\u001b[0m\u001b[1;33m\u001b[0m\u001b[0m\n\u001b[1;32m--> 402\u001b[1;33m             \u001b[0mcontext\u001b[0m\u001b[1;33m.\u001b[0m\u001b[0mload_verify_locations\u001b[0m\u001b[1;33m(\u001b[0m\u001b[0mca_certs\u001b[0m\u001b[1;33m,\u001b[0m \u001b[0mca_cert_dir\u001b[0m\u001b[1;33m,\u001b[0m \u001b[0mca_cert_data\u001b[0m\u001b[1;33m)\u001b[0m\u001b[1;33m\u001b[0m\u001b[1;33m\u001b[0m\u001b[0m\n\u001b[0m\u001b[0;32m    403\u001b[0m         \u001b[1;32mexcept\u001b[0m \u001b[1;33m(\u001b[0m\u001b[0mIOError\u001b[0m\u001b[1;33m,\u001b[0m \u001b[0mOSError\u001b[0m\u001b[1;33m)\u001b[0m \u001b[1;32mas\u001b[0m \u001b[0me\u001b[0m\u001b[1;33m:\u001b[0m\u001b[1;33m\u001b[0m\u001b[1;33m\u001b[0m\u001b[0m\n\u001b[0;32m    404\u001b[0m             \u001b[1;32mraise\u001b[0m \u001b[0mSSLError\u001b[0m\u001b[1;33m(\u001b[0m\u001b[0me\u001b[0m\u001b[1;33m)\u001b[0m\u001b[1;33m\u001b[0m\u001b[1;33m\u001b[0m\u001b[0m\n",
      "\u001b[1;31mKeyboardInterrupt\u001b[0m: "
     ]
    }
   ],
   "source": [
    "from bs4 import BeautifulSoup\n",
    "import requests\n",
    "   \n",
    "urls=[]\n",
    "\n",
    "def scrape(webdir):\n",
    "       \n",
    "    l = requests.get(webdir)\n",
    "    m = BeautifulSoup(l.text,\"html.parser\")\n",
    "       \n",
    "    for k in m.find_all(\"a\"):\n",
    "          \n",
    "        href = k.attrs['href']\n",
    "           \n",
    "        if href.startswith(\"/\"):\n",
    "            webdir = webdir+href\n",
    "               \n",
    "            if webdir not in  urls:\n",
    "                urls.append(webdir) \n",
    "                print(webdir)\n",
    "                scrape(webdir)\n",
    "   \n",
    "# main function\n",
    "if __name__ ==\"__main__\":\n",
    "   \n",
    "    # website#\n",
    "    webdir=\"http://www.google.com//\"\n",
    "   \n",
    "    # calling function\n",
    "    scrape(webdir)"
   ]
  },
  {
   "cell_type": "markdown",
   "id": "088ae4a3",
   "metadata": {},
   "source": [
    "# Question 4"
   ]
  },
  {
   "cell_type": "code",
   "execution_count": 2,
   "id": "15ea225d",
   "metadata": {},
   "outputs": [
    {
     "name": "stdout",
     "output_type": "stream",
     "text": [
      "10 \n",
      " 5 \n",
      " 16 \n",
      " 8 \n",
      " 4 \n",
      " 2 \n",
      " 1\n"
     ]
    }
   ],
   "source": [
    "def collatz(n):\n",
    "     \n",
    "    while n != 1:\n",
    "        print(n, \"\\n\", end = ' ')\n",
    " \n",
    "        # If n is odd\n",
    "        if n & 1:\n",
    "            n = 3 * n + 1\n",
    " \n",
    "        # If even\n",
    "        else:\n",
    "            n = n // 2\n",
    " \n",
    "    # Print 1 at the end\n",
    "    print(n)\n",
    " \n",
    "\n",
    "collatz(10)"
   ]
  },
  {
   "cell_type": "code",
   "execution_count": null,
   "id": "e7124f22",
   "metadata": {},
   "outputs": [],
   "source": []
  }
 ],
 "metadata": {
  "kernelspec": {
   "display_name": "Python 3 (ipykernel)",
   "language": "python",
   "name": "python3"
  },
  "language_info": {
   "codemirror_mode": {
    "name": "ipython",
    "version": 3
   },
   "file_extension": ".py",
   "mimetype": "text/x-python",
   "name": "python",
   "nbconvert_exporter": "python",
   "pygments_lexer": "ipython3",
   "version": "3.9.7"
  }
 },
 "nbformat": 4,
 "nbformat_minor": 5
}
